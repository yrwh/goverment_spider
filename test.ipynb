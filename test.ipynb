{
 "cells": [
  {
   "cell_type": "code",
   "execution_count": 1,
   "metadata": {},
   "outputs": [],
   "source": [
    "import requests\n",
    "import datetime\n",
    "import time\n",
    "import sys\n",
    "import io\n",
    "import re\n",
    "import argparse\n",
    "from bs4 import BeautifulSoup\n",
    "import random\n",
    "from utils import sleep_time, title_pattern, content_pattern, write_file, now, MyHeaders, logger, timeout\n"
   ]
  },
  {
   "cell_type": "code",
   "execution_count": 2,
   "metadata": {},
   "outputs": [],
   "source": [
    "def get_bs(url):\n",
    "    headers = {'User-Agent': random.choice(MyHeaders)}\n",
    "    response = requests.get(url, headers=headers, verify=False)\n",
    "    response.encoding = 'utf-8'\n",
    "    bs = BeautifulSoup(response.content, 'html5lib')\n",
    "\n",
    "    return bs, response"
   ]
  },
  {
   "cell_type": "code",
   "execution_count": 22,
   "metadata": {},
   "outputs": [
    {
     "data": {
      "text/plain": [
       "<html xmlns=\"http://www.w3.org/1999/xhtml\"><head>\n",
       "\t<meta content=\"text/html; charset=utf-8\" http-equiv=\"Content-Type\"/>\n",
       "<!-- 启用360浏览器的极速模式(webkit) -->\n",
       "<meta content=\"webkit\" name=\"renderer\"/>\n",
       "<!-- 避免IE使用兼容模式 -->\n",
       "<meta content=\"IE=edge\" http-equiv=\"X-UA-Compatible\"/>\n",
       "<title>中山市科学技术局政务网站</title>\n",
       "<link href=\"/ztcss/base.css\" rel=\"stylesheet\" type=\"text/css\"/>\n",
       "<script src=\"/ztjs/jquery.js\" type=\"text/javascript\"></script>\n",
       "<script src=\"/ztjs/base.js\" type=\"text/javascript\"></script>\n",
       "\n",
       "\t<meta content=\"中山市科学技术局政务网站\" name=\"SiteName\"/>\n",
       "<meta content=\"kj.zs.gov.cn\" name=\"SiteDomain\"/>\n",
       "<meta content=\"4420000033\" name=\"SiteIDCode\"/>\n",
       "<meta content=\"通知公告\" name=\"ColumnName\"/>\n",
       "<meta content=\"发布最新通知公告内容\" name=\"ColumnDescription\"/>\n",
       "<meta content=\"通知，公告\" name=\"ColumnKeywords\"/>\n",
       "<meta content=\"通知公告\" name=\"ColumnType\"/>\n",
       "<meta content=\"科学技术,政务\" name=\"Keywords\"/>\n",
       "<meta content=\"中山市科学技术局政务网官网\" name=\"description\"/>\n",
       "<script>window.NFCMS_SITE_ID=760013;window.NFCMS_PUB_TYPE=\"cat\";window.NFCMS_CAT_ID=\"6746\";</script><script async=\"\" src=\"//statistics.gd.gov.cn/scripts/s.js?t=1712565253\"></script>\n",
       "\t<script>\n",
       "\t$(document).ready(function () {\n",
       "\t\t$(\"#nav2\").addClass(\"hover\");\n",
       "\t\t$(\"#d6746\").addClass(\"hover\");\n",
       "\t});\n",
       "\t</script>\n",
       "</head>\n",
       "\n",
       "<body>\t\n",
       "\n",
       "\t\t<div class=\"header\">\n",
       "\t\t\n",
       "\t\t<a class=\"logo\" href=\"/\">\n",
       "\t\t\t<img alt=\"\" src=\"/ztimg/logo.png\"/>\n",
       "\t\t</a>\n",
       "\n",
       "\t\t<div class=\"head_links\">\n",
       "\t\t\t<a href=\"javascript:FJTBody()\" id=\"FJTLink\" title=\"切換到繁體方式浏覽\">繁體版</a>\n",
       "\t        <script src=\"/global/JFT.js\" type=\"text/javascript\"></script>\n",
       "\t\t\t<em>|</em>\n",
       "\t\t\t<a class=\"my-slh\">长者助手</a>\n",
       "\t\t\t<script referrerpolicy=\"origin\" src=\"//slhsrv.southcn.com/wza/slh.js?check_type=site_id&amp;site_id=760013\"></script>\n",
       "        </div>\n",
       "\n",
       "\t\t<div altdes=\"交互区\" aria-label=\"您已进入全站搜索交互区，本区域包含1个文本输入框和1个提交按钮。请输入关键词，按回车键进行网站内容搜索。\" class=\"h_search\" wzades=\"输入关键词可对网站内容进行搜索\">\n",
       "\t\t\t<form action=\"http://search.gd.gov.cn/search/local_msg/760013/\" method=\"get\" target=\"_blank\">\n",
       "\t\t\t\t<input class=\"text\" name=\"keywords\" placeholder=\"输入关键字查询...\" type=\"text\"/>\n",
       "\t\t\t\t<input class=\"sub\" title=\"搜索\" type=\"submit\" value=\"\"/>\n",
       "\t\t\t</form>\n",
       "\t\t</div>\n",
       "\n",
       "\t</div>\n",
       "\n",
       "\t<div altdes=\"导航区\" aria-label=\"您已进入首页及一级栏目导航区。\" class=\"nav\" wzades=\"提供网站首页、政务公开、政务服务、交流互动、网站无障碍栏目入口。\">\n",
       "\t\t<a href=\"/\" id=\"nav1\"><span class=\"s1\">首页</span></a>\n",
       "\t\t<a href=\"/zwgk/bmgk/jgzn/\" id=\"nav2\"><span class=\"s2\">政务公开</span></a>\n",
       "\t\t<a href=\"http://www.gdzwfw.gov.cn/portal/branch-hall?orgCode=007332673\" target=\"_blank\"><span class=\"s3\">政务服务</span></a>\n",
       "\t\t<a href=\"/hdjl/zjdc/\" id=\"nav4\"><span class=\"s4\">交流互动</span></a>\n",
       "\t\t<a href=\"javascript:void(0)\" id=\"cniil_wza\"><span class=\"s5\">网站无障碍版</span></a>\n",
       "\t\t<script src=\"//service.gd.gov.cn/wza/wza.js?app=kj-zs\"></script>\n",
       "\t\t<script>\n",
       "\t\t\t// IE8 兼容配置\n",
       "\t\t\twindow.onload = function() {\n",
       "\t\t\t\tcnillWzaInstance.startInit(\"http://www.zs.gov.cn/ztimg/cnill_polyfill.swf\");\n",
       "\t\t\t}\n",
       "\t\t\tdocument.getElementById(\"cniil_wza\").onclick = function() {\n",
       "\t\t\t\t// 执行实例的init方法\n",
       "\t\t\t\tcnillWzaInstance.init(); // cnillWzaInstance为全局变量\n",
       "\t\t\t}\n",
       "\t\t</script>\n",
       "\t</div>\n",
       "\n",
       "\t\n",
       "\t<div class=\"main\">\n",
       "\t\t\n",
       "\t\t<div class=\"now_pos\">\n",
       "\t\t\t当前位置：<a href=\"/\">首页</a> &gt; <a href=\"/zwgk/\">政务公开</a> &gt; 通知公告\n",
       "\t\t</div>\n",
       "\n",
       "\t\t<style>\n",
       ".aside .link{\n",
       "\tpadding-left:0px;\n",
       "    text-align:center;\n",
       "}\n",
       "</style>\n",
       "<div class=\"aside\">\n",
       "    <div altdes=\"视窗区\" aria-label=\"您已进入政务公开视窗区，本区域包含部门概况、科技动态、通知公告、部门文件、政策解读、人事信息、财政信息、规划统计、五公开、科技项目申报10个栏目，请按上、下方向键切换栏目，按tab键切换栏目下的动态，定位动态后按回车键打开动态链接。\" wzades=\"展示部门概况、科技动态、通知公告、部门文件、政策解读、人事信息、财政信息、规划统计、五公开、科技项目申报。\">\n",
       "    <div class=\"head\"><img alt=\"\" src=\"/ztimg/as_tit.png\" title=\"政务公开\"/>政务公开</div>\n",
       "    <a class=\"link\" href=\"http://kj.zs.gov.cn/zwgk/bmgk/jgzn/index.html\" id=\"p6736\">部门概况</a>    <a class=\"link\" href=\"http://kj.zs.gov.cn/zwgk/kjdt/index.html\" id=\"d6744\">科技动态</a>    <a class=\"link\" href=\"http://kj.zs.gov.cn/sy/tzgg/index.html\" id=\"d6746\">通知公告</a>    <a class=\"link\" href=\"http://kj.zs.gov.cn/zwgk/bmwj/gfxwj/index.html\" id=\"p14150\">部门文件</a>    <a class=\"link\" href=\"http://kj.zs.gov.cn/sy/zcjd/index.html\" id=\"d6747\">政策解读</a>    <a class=\"link\" href=\"http://kj.zs.gov.cn/zwgk/rsxx/index.html\" id=\"d14161\">人事信息</a>    <a class=\"link\" href=\"http://kj.zs.gov.cn/zwgk/czxx/czyjs/index.html\" id=\"p14157\">财政信息</a>    <a class=\"link\" href=\"http://kj.zs.gov.cn/zwgk/ghtj/tjsj/index.html\" id=\"p20035\">规划统计</a>    <a class=\"link\" href=\"http://kj.zs.gov.cn/zwgk/wgk/jcgk/index.html\" id=\"p6780\">五公开</a>    <a class=\"link\" href=\"http://kj.zs.gov.cn/zwgk/sjxmsb/index.html\" id=\"d6755\">科技项目申报</a>    <a class=\"link\" href=\"http://kj.zs.gov.cn/zwgk/kyyqgxgy/kyyq/index.html\" id=\"p20626\">科研仪器共享共用</a>    </div>\n",
       "    <div altdes=\"视窗区\" aria-label=\"您已进入重点领域信息公开、信息公开目录视窗区。\" wzades=\"提供重点领域信息公开、信息公开目录入口。\">\n",
       "    <a class=\"ad\" href=\"http://kj.zs.gov.cn/zwgk/zdlyxx/kjglhxmjfxxgk/glzd/index.html\" target=\"_blank\"><img alt=\"\" src=\"/ztimg/as_ad1.jpg\" title=\"重点领域信息公开\"/></a>    <a class=\"ad\" href=\"/gkmlpt/index\" target=\"_blank\"><img alt=\"\" src=\"/ztimg/as_ad2.jpg\" title=\"信息公开目录\"/></a>\t\n",
       "    </div>\n",
       "</div>\n",
       "\n",
       "\n",
       "\t\t<div class=\"section\">\n",
       "\t\t\t\n",
       "\t\t\t<div class=\"se_head\">\n",
       "\t\t\t\t<a class=\"btn hover\" href=\"javascript:;\">通知公告<i></i></a>\n",
       "\t\t\t\t<div class=\"clear\"></div>\n",
       "\t\t\t</div>\n",
       "            <div class=\"se_search\">\n",
       "    <form id=\"list_search_form\" onsubmit=\"javascrpt:list_search(6746);return false;\">\n",
       "        <input class=\"text\" id=\"list_search_val\" placeholder=\"请输入关键字查询\" type=\"text\"/>\n",
       "        <input class=\"sub\" type=\"submit\" value=\"\"/>\n",
       "    </form>\n",
       "</div>\n",
       "\n",
       "<ul class=\"se_list\" id=\"recordlist\">\n",
       "        <li><i></i><a href=\"http://kj.zs.gov.cn/sy/tzgg/content/post_2366499.html\" target=\"_blank\">中山市科学技术局2023年度政府网站工作年度报表</a><span>2024-01-19</span></li>\n",
       "        <li><i></i><a href=\"http://kj.zs.gov.cn/sy/tzgg/content/post_2366504.html\" target=\"_blank\">中山市科学技术局2023年政府信息公开工作年度报告</a><span>2024-01-19</span></li>\n",
       "        <li><i></i><a href=\"http://kj.zs.gov.cn/sy/tzgg/content/post_2364936.html\" target=\"_blank\">中山市科技局2023年法治政府建设年度报告</a><span>2024-01-17</span></li>\n",
       "        <li><i></i><a href=\"http://kj.zs.gov.cn/sy/tzgg/content/post_2199355.html\" target=\"_blank\">中山市科学技术局政府信息主动公开基本目录</a><span>2024-01-06</span></li>\n",
       "        <li><i></i><a href=\"http://kj.zs.gov.cn/sy/tzgg/content/post_2391538.html\" target=\"_blank\">关于对申报2024年第一批企业科技创新发展专项资金企业现场核查的通知</a><span>2024-04-08</span></li>\n",
       "        <li><i></i><a href=\"http://kj.zs.gov.cn/sy/tzgg/content/post_2389302.html\" target=\"_blank\">关于中山市重大科技专项项目资金监管有关事项的通知</a><span>2024-03-29</span></li>\n",
       "        <li><i></i><a href=\"http://kj.zs.gov.cn/sy/tzgg/content/post_2387697.html\" target=\"_blank\">关于举办中山现代产业集群“十大舰队”高端装备与光电光学创新成果推介会的通知</a><span>2024-03-26</span></li>\n",
       "        <li><i></i><a href=\"http://kj.zs.gov.cn/sy/tzgg/content/post_2387621.html\" target=\"_blank\">转发广东省科学技术厅关于组织申报2024～2025年度国家科技重大项目配套资金项目的通知</a><span>2024-03-26</span></li>\n",
       "        <li><i></i><a href=\"http://kj.zs.gov.cn/sy/tzgg/content/post_2387594.html\" target=\"_blank\">关于组织申报2024年度中山市第一批社会公益与基础研究项目的通知</a><span>2024-03-26</span></li>\n",
       "        <li><i></i><a href=\"http://kj.zs.gov.cn/sy/tzgg/content/post_2387270.html\" target=\"_blank\">2024年度第一批中山市重大科技专项（余额拨付）资金项目拟补助名单的公示</a><span>2024-03-25</span></li>\n",
       "        <li><i></i><a href=\"http://kj.zs.gov.cn/sy/tzgg/content/post_2387254.html\" target=\"_blank\">转发省科技厅关于组织开展广东省2024年高新技术企业认定工作的通知</a><span>2024-03-25</span></li>\n",
       "        <li><i></i><a href=\"http://kj.zs.gov.cn/sy/tzgg/content/post_2385581.html\" target=\"_blank\">关于转发广东省科学技术厅组织申报2024年度广东省重点领域研发计划“高端医疗器械”重点专项项目的通知</a><span>2024-03-21</span></li>\n",
       "    </ul>\n",
       "\n",
       "<div class=\"manu1\" id=\"pageButtons\" style=\"padding:10px;\">\n",
       "            <a class=\"first\" href=\"http://kj.zs.gov.cn/sy/tzgg/index.html\">\n",
       "            第一页\n",
       "        </a>\n",
       "            <a class=\"current\" href=\"http://kj.zs.gov.cn/sy/tzgg/index.html\">\n",
       "            1\n",
       "        </a>\n",
       "            <a class=\"normal\" href=\"http://kj.zs.gov.cn/sy/tzgg/index_2.html\">\n",
       "            2\n",
       "        </a>\n",
       "            <a class=\"normal\" href=\"http://kj.zs.gov.cn/sy/tzgg/index_3.html\">\n",
       "            3\n",
       "        </a>\n",
       "            <a class=\"normal\" href=\"http://kj.zs.gov.cn/sy/tzgg/index_4.html\">\n",
       "            4\n",
       "        </a>\n",
       "            <a class=\"normal\" href=\"http://kj.zs.gov.cn/sy/tzgg/index_5.html\">\n",
       "            5\n",
       "        </a>\n",
       "            <a class=\"next\" href=\"http://kj.zs.gov.cn/sy/tzgg/index_2.html\">\n",
       "            下一页\n",
       "        </a>\n",
       "            <a class=\"last\" href=\"http://kj.zs.gov.cn/sy/tzgg/index_20.html\">\n",
       "            最后一页\n",
       "        </a>\n",
       "    </div>\n",
       "\n",
       "\n",
       "\t\t</div>\n",
       "\n",
       "\t\t<div class=\"clear\"></div>\n",
       "\t</div>\n",
       "\n",
       "\t\t<div class=\"footer\">\n",
       "\t\t<a altdes=\"视窗区\" aria-label=\"您已进入我为政府网站找错平台视窗区。\" class=\"ft_gov1\" href=\"#\" wzades=\"提供我为政府网站找错平台入口。\">\n",
       "\t\t\t<script id=\"_jiucuo_\" sitecode=\"4420000033\">//在页面增加一个放置图标的区块\n",
       "if(!document.getElementById('_span_jiucuo'))\n",
       "\tdocument.write(\"<span id='_span_jiucuo'></span>\");\n",
       "\n",
       "//获取放置图标的区块\n",
       "var span_msg = document.getElementById(\"_span_jiucuo\");\n",
       "\n",
       "//获取站点标识码\n",
       "var sitecode = document.getElementById(\"_jiucuo_\").attributes[\"sitecode\"].value;\n",
       "//生成纠错图标及点击链接\n",
       "span_msg.innerHTML = \"<img onclick=\\\"Link('\" + sitecode + \"')\\\" title='政府网站找错' style='margin:0;border:0;cursor: pointer;' src='https://zfwzgl.www.gov.cn/exposure/images/jiucuo.png?v=\"+sitecode+\"'/>\";\n",
       "\n",
       "//点击图标\n",
       "function Link(site_code) {\n",
       "\t//获取该站点需要纠错页面的url地址\n",
       "\tvar url = getCurrUrl();\n",
       "\t//跳转至纠错系统填写页面 \n",
       "\twindow.open(\"https://zfwzgl.www.gov.cn/exposure/jiucuo.html?site_code=\" + site_code + \"&url=\" + encodeURIComponent(url));\n",
       "}\n",
       "//获取该站点需要纠错页面的url地址\n",
       "function getCurrUrl() {\n",
       "\tvar url = \"\";\n",
       "\tif (parent !== window) {\n",
       "\t\ttry {\n",
       "\t\t\turl = window.top.location.href;\n",
       "\t\t} catch (e) {\n",
       "\t\t\turl = window.top.document.referrer;\n",
       "\t\t}\n",
       "\t}\n",
       "\tif (url.length == 0)\n",
       "\t\turl = document.location.href;\n",
       "\n",
       "\treturn url;\n",
       "}\n",
       "            </script>\n",
       "\t\t</a>\n",
       "\t\t<a altdes=\"视窗区\" aria-label=\"您已进入党政机关网站标识视窗区。\" class=\"ft_gov2\" href=\"https://bszs.conac.cn/sitename?method=show&amp;id=0A50DF8B53414938E053012819AC767A\" style=\"margin-right:-400px;top:45px;\" target=\"_blank\" wzades=\"展示党政机关网站标识\">\n",
       "\t\t\t<img alt=\"\" src=\"/ztimg/ft_gov2.png\" title=\"党政机关\"/>\n",
       "\t\t</a>\n",
       "\t\t<img alt=\"适老化无障碍服务\" src=\"http://www.zs.gov.cn/global/foot_wza.png\" style=\"position:absolute;right:50%;top:52px;margin-right:-530px;\" title=\"适老化无障碍服务\"/>\n",
       "        <div altdes=\"视窗区\" aria-label=\"您已进入网站标识视窗区。\" wzades=\"展示网站标识信息。\">\n",
       "\t\t<p><a href=\"http://kj.zs.gov.cn/wzxx/wzdt/index.html\" target=\"_blank\">网站地图</a>  |  <a href=\"http://kj.zs.gov.cn/wzxx/lxfs/index.html\" target=\"_blank\">联系方式</a>     <span>版权所有:中山市科学技术局 ©2016-2022 kj.zs.gov.cn</span></p>\n",
       "\t\t<p><span>联系电话:(0760)88315063</span> <span>地址：中山市松苑路1号市政府大楼</span></p>\n",
       "\t\t<p><span>邮编:528403</span> <a href=\"https://beian.miit.gov.cn/#/Integrated/recordQuery\" target=\"_blank\">粤ICP备14014162号-1</a> <span>网站标识码：4420000033</span>    <a href=\"https://www.beian.gov.cn/portal/registerSystemInfo?recordcode=44200002443105\" target=\"_blank\">粤公网安备 44200002443105号</a></p>\n",
       "\t</div>\n",
       "    </div>\n",
       "\n",
       "\t\n",
       "\n",
       "</body></html>"
      ]
     },
     "execution_count": 22,
     "metadata": {},
     "output_type": "execute_result"
    }
   ],
   "source": [
    "url_index = f\"http://kj.zs.gov.cn/sy/tzgg/index.html\"\n",
    "\n",
    "# 访问链接\n",
    "bs, response = get_bs(url_index)\n",
    "\n",
    "bs\n"
   ]
  },
  {
   "cell_type": "code",
   "execution_count": 23,
   "metadata": {},
   "outputs": [
    {
     "name": "stdout",
     "output_type": "stream",
     "text": [
      "12 12\n"
     ]
    }
   ],
   "source": [
    "text_list = bs.select(\".se_list a\")\n",
    "time_list = bs.select(\".se_list span\")\n",
    "\n",
    "print(len(text_list), len(time_list))"
   ]
  },
  {
   "cell_type": "code",
   "execution_count": null,
   "metadata": {},
   "outputs": [],
   "source": []
  },
  {
   "cell_type": "code",
   "execution_count": 24,
   "metadata": {},
   "outputs": [
    {
     "data": {
      "text/plain": [
       "[<a href=\"http://kj.zs.gov.cn/sy/tzgg/content/post_2366499.html\" target=\"_blank\">中山市科学技术局2023年度政府网站工作年度报表</a>,\n",
       " <a href=\"http://kj.zs.gov.cn/sy/tzgg/content/post_2366504.html\" target=\"_blank\">中山市科学技术局2023年政府信息公开工作年度报告</a>,\n",
       " <a href=\"http://kj.zs.gov.cn/sy/tzgg/content/post_2364936.html\" target=\"_blank\">中山市科技局2023年法治政府建设年度报告</a>,\n",
       " <a href=\"http://kj.zs.gov.cn/sy/tzgg/content/post_2199355.html\" target=\"_blank\">中山市科学技术局政府信息主动公开基本目录</a>,\n",
       " <a href=\"http://kj.zs.gov.cn/sy/tzgg/content/post_2391538.html\" target=\"_blank\">关于对申报2024年第一批企业科技创新发展专项资金企业现场核查的通知</a>,\n",
       " <a href=\"http://kj.zs.gov.cn/sy/tzgg/content/post_2389302.html\" target=\"_blank\">关于中山市重大科技专项项目资金监管有关事项的通知</a>,\n",
       " <a href=\"http://kj.zs.gov.cn/sy/tzgg/content/post_2387697.html\" target=\"_blank\">关于举办中山现代产业集群“十大舰队”高端装备与光电光学创新成果推介会的通知</a>,\n",
       " <a href=\"http://kj.zs.gov.cn/sy/tzgg/content/post_2387621.html\" target=\"_blank\">转发广东省科学技术厅关于组织申报2024～2025年度国家科技重大项目配套资金项目的通知</a>,\n",
       " <a href=\"http://kj.zs.gov.cn/sy/tzgg/content/post_2387594.html\" target=\"_blank\">关于组织申报2024年度中山市第一批社会公益与基础研究项目的通知</a>,\n",
       " <a href=\"http://kj.zs.gov.cn/sy/tzgg/content/post_2387270.html\" target=\"_blank\">2024年度第一批中山市重大科技专项（余额拨付）资金项目拟补助名单的公示</a>,\n",
       " <a href=\"http://kj.zs.gov.cn/sy/tzgg/content/post_2387254.html\" target=\"_blank\">转发省科技厅关于组织开展广东省2024年高新技术企业认定工作的通知</a>,\n",
       " <a href=\"http://kj.zs.gov.cn/sy/tzgg/content/post_2385581.html\" target=\"_blank\">关于转发广东省科学技术厅组织申报2024年度广东省重点领域研发计划“高端医疗器械”重点专项项目的通知</a>]"
      ]
     },
     "execution_count": 24,
     "metadata": {},
     "output_type": "execute_result"
    }
   ],
   "source": [
    "text_list"
   ]
  },
  {
   "cell_type": "code",
   "execution_count": 25,
   "metadata": {},
   "outputs": [
    {
     "data": {
      "text/plain": [
       "'中山市科学技术局2023年度政府网站工作年度报表'"
      ]
     },
     "execution_count": 25,
     "metadata": {},
     "output_type": "execute_result"
    }
   ],
   "source": [
    "text_list[0].get_text(strip=True).strip().replace('·', '').replace('\\n', '')"
   ]
  },
  {
   "cell_type": "code",
   "execution_count": 26,
   "metadata": {},
   "outputs": [
    {
     "data": {
      "text/plain": [
       "'http://kj.zs.gov.cn/sy/tzgg/content/post_2199355.html'"
      ]
     },
     "execution_count": 26,
     "metadata": {},
     "output_type": "execute_result"
    }
   ],
   "source": [
    "text_list[3]['href']"
   ]
  },
  {
   "cell_type": "code",
   "execution_count": 27,
   "metadata": {},
   "outputs": [
    {
     "data": {
      "text/plain": [
       "[<span>2024-01-19</span>,\n",
       " <span>2024-01-19</span>,\n",
       " <span>2024-01-17</span>,\n",
       " <span>2024-01-06</span>,\n",
       " <span>2024-04-08</span>,\n",
       " <span>2024-03-29</span>,\n",
       " <span>2024-03-26</span>,\n",
       " <span>2024-03-26</span>,\n",
       " <span>2024-03-26</span>,\n",
       " <span>2024-03-25</span>,\n",
       " <span>2024-03-25</span>,\n",
       " <span>2024-03-21</span>]"
      ]
     },
     "execution_count": 27,
     "metadata": {},
     "output_type": "execute_result"
    }
   ],
   "source": [
    "time_list"
   ]
  },
  {
   "cell_type": "code",
   "execution_count": 29,
   "metadata": {},
   "outputs": [
    {
     "data": {
      "text/plain": [
       "'2024-01-19'"
      ]
     },
     "execution_count": 29,
     "metadata": {},
     "output_type": "execute_result"
    }
   ],
   "source": [
    "time_list[1].get_text(strip=True)"
   ]
  },
  {
   "cell_type": "code",
   "execution_count": 30,
   "metadata": {},
   "outputs": [
    {
     "data": {
      "text/plain": [
       "'http://kj.zs.gov.cn/sy/tzgg/index_2.html'"
      ]
     },
     "execution_count": 30,
     "metadata": {},
     "output_type": "execute_result"
    }
   ],
   "source": [
    "bs.find('a', {'class': 'next'})['href']"
   ]
  },
  {
   "cell_type": "code",
   "execution_count": 27,
   "metadata": {},
   "outputs": [
    {
     "data": {
      "text/plain": [
       "'https://im.dg.gov.cn/dtxw/tzgg/content/post_4183329.html'"
      ]
     },
     "execution_count": 27,
     "metadata": {},
     "output_type": "execute_result"
    }
   ],
   "source": [
    "time_list[0].find('a').get('href')"
   ]
  },
  {
   "cell_type": "code",
   "execution_count": 28,
   "metadata": {},
   "outputs": [
    {
     "data": {
      "text/plain": [
       "<a class=\"next\" href=\"https://im.dg.gov.cn/dtxw/tzgg/index_2.html\" id=\"next\">\n",
       "                                    下一页\n",
       "                                </a>"
      ]
     },
     "execution_count": 28,
     "metadata": {},
     "output_type": "execute_result"
    }
   ],
   "source": [
    "bs.find('a', {'class': 'next'})"
   ]
  },
  {
   "cell_type": "code",
   "execution_count": null,
   "metadata": {},
   "outputs": [],
   "source": []
  }
 ],
 "metadata": {
  "kernelspec": {
   "display_name": "spider",
   "language": "python",
   "name": "python3"
  },
  "language_info": {
   "codemirror_mode": {
    "name": "ipython",
    "version": 3
   },
   "file_extension": ".py",
   "mimetype": "text/x-python",
   "name": "python",
   "nbconvert_exporter": "python",
   "pygments_lexer": "ipython3",
   "version": "3.9.18"
  }
 },
 "nbformat": 4,
 "nbformat_minor": 2
}
