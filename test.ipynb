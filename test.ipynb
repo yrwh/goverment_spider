{
 "cells": [
  {
   "cell_type": "code",
   "execution_count": 2,
   "metadata": {},
   "outputs": [],
   "source": [
    "import requests\n",
    "import datetime\n",
    "import time\n",
    "import sys\n",
    "import io\n",
    "import re\n",
    "import argparse\n",
    "from bs4 import BeautifulSoup\n",
    "import random\n",
    "from utils import sleep_time, title_pattern, content_pattern, write_file, now, MyHeaders, logger, timeout\n"
   ]
  },
  {
   "cell_type": "code",
   "execution_count": 152,
   "metadata": {},
   "outputs": [],
   "source": [
    "def get_bs(url):\n",
    "    headers = {'User-Agent': random.choice(MyHeaders)}\n",
    "    response = requests.get(url, headers=headers, verify=False)\n",
    "    response.encoding = 'utf-8'\n",
    "    bs = BeautifulSoup(response.content, 'html5lib')\n",
    "\n",
    "    return bs, response"
   ]
  },
  {
   "cell_type": "code",
   "execution_count": 176,
   "metadata": {},
   "outputs": [
    {
     "name": "stderr",
     "output_type": "stream",
     "text": [
      "/home/zouyou/miniconda3/envs/spider/lib/python3.10/site-packages/urllib3/connectionpool.py:1103: InsecureRequestWarning: Unverified HTTPS request is being made to host 'fzggw.jiangsu.gov.cn'. Adding certificate verification is strongly advised. See: https://urllib3.readthedocs.io/en/latest/advanced-usage.html#tls-warnings\n",
      "  warnings.warn(\n"
     ]
    },
    {
     "data": {
      "text/plain": [
       "<!DOCTYPE html>\n",
       "<html><head>\n",
       "<meta content=\"IE=edge,chrome=1\" http-equiv=\"X-UA-Compatible\"/>\n",
       "<meta content=\"text/html; charset=utf-8\" http-equiv=\"Content-Type\"/><script language=\"javascript\" src=\"/module/jslib/jquery/jquery.js\"></script>\n",
       "<script language=\"javascript\" src=\"/module/jslib/urite/urite.min.js\"></script>\n",
       "<meta content=\"3\" name=\"WebId\"/>\n",
       "\n",
       "<meta content=\"webkit\" name=\"renderer\"/>\n",
       "<title>江苏省发展和改革委员会 通知公告</title>\n",
       "<meta content=\"2024-04-01 17:37:57\" name=\"Maketime\"/>\n",
       "<meta content=\"江苏省发展和改革委员会\" name=\"SiteName\"/>\n",
       "<meta content=\"fzggw.jiangsu.gov.cn\" name=\"SiteDomain\"/>\n",
       "<meta content=\"\" name=\"SiteIDCode\"/>\n",
       "<meta content=\"通知公告\" name=\"ColumnName\"/>\n",
       "<meta content=\"\" name=\"ColumnDescription\"/>\n",
       "<meta content=\"\" name=\"ColumnKeywords\"/>\n",
       "<meta content=\"\" name=\"ColumnType\"/>\n",
       "<meta content=\"通知公告\" name=\"channel\"/>\n",
       "<meta content=\"\" name=\"chnlcatalog\"/>\n",
       "<meta content=\"http://fzggw.jiangsu.gov.cn/col/col284/index.html,,\" name=\"server\"/>\n",
       "<!-- START Public CSS-->\n",
       "<link href=\"/images/2951/trs_web_style.css\" rel=\"stylesheet\" type=\"text/css\"/>\n",
       "<link href=\"/images/2951/jsdpc_2015commonstyle.css\" rel=\"stylesheet\" type=\"text/css\"/>\n",
       "<!-- END Public -->\n",
       "<!-- START Plugin CSS -->\n",
       "<link href=\"/images/2951/jsdpc_listPage_style2015.css\" rel=\"stylesheet\" type=\"text/css\"/>\n",
       "<!-- END Plugin CSS -->\n",
       "<!--版权-->\n",
       "<script src=\"/images/2951/jquery_trs_web.js\" type=\"text/javascript\"></script>\n",
       "<script type=\"text/javascript\">\n",
       "//导航栏tab切换\n",
       "$(function(){\n",
       "\t(function(){\n",
       "\t\tvar $navcur = $(\"#nav-current\");\n",
       "\t\tvar $nav = $(\"#nav\");\n",
       "\t\t//hover事件\n",
       "\t\t$nav.find(\"a\").hover(function(){\n",
       "\t\tvar index = $(this).index(); //获取滑过元素索引值\n",
       "\t\t//去除当前on\n",
       "\t\tvar leftW = $(this).position().left; //获取滑过元素Left值\n",
       "\t\tvar currentW = $nav.find(\"a\").eq(index).innerWidth(); //获取滑过元素Width值\n",
       "\t\t$navcur.stop().animate({\n",
       "\t\t\tleft: leftW,\n",
       "\t\t\twidth: currentW\n",
       "\t\t\t},400);\n",
       "\t\t},function(){\t\n",
       "\t\t})\n",
       "\t})();\n",
       "});\n",
       "/*inmouseover 时更换nav 的classname*/\n",
       "function Changebg(Id,Index){\n",
       "\tvar chnl_c = ['nav_a_zx','nav_a_gk','nav_a_hd','nav_a_fw'];\n",
       "\tvar chnl_con = ['nav_a_zxon','nav_a_gkon','nav_a_hdon','nav_a_fwon'];\n",
       "\tfor(var i=1; i<=4; i++){\n",
       "\t\tvar chnlname = Id+\"_a\"+i;\n",
       "\t\tif(Index == i){\n",
       "\t\t\tdocument.getElementById(chnlname).className=chnl_con[i-1];\n",
       "\t\t}else{\n",
       "\t\t\tdocument.getElementById(chnlname).className=chnl_c[i-1];\n",
       "\t\t}\n",
       "\t}\n",
       "}\n",
       "</script>\n",
       "</head>\n",
       "<body><div id=\"barrierfree_container\">\n",
       "<div class=\"warp_outer\">\n",
       "  <div class=\"warp\"> \n",
       "    <div class=\"header_outer\"> \n",
       "      <script src=\"/script/0/2308011402243404.js\"></script>\n",
       "<script language=\"javascript\" src=\"/module/jslib/gtb/language.js\"></script> \n",
       "    </div>\n",
       "    <div class=\"container\">\n",
       "      <div class=\"chanl_list\">\n",
       "        <ul class=\"cf\">\n",
       "          <style>\n",
       ".lanmu_On{ color:#f75700;}\n",
       "</style>\n",
       "\n",
       "<li><a href=\"/col/col280/index.html\" id=\"图片新闻\" title=\"图片新闻\"><span class=\"lanmu_old\">图片新闻</span></a></li>\n",
       "\n",
       "<li><a href=\"/col/col282/index.html\" id=\"发改要闻\" title=\"发改要闻\"><span class=\"lanmu_old\">发改要闻</span></a></li>\n",
       "\n",
       "<li><a href=\"/col/col284/index.html\" id=\"通知公告\" title=\"通知公告\"><span class=\"lanmu_old\">通知公告</span></a></li>\n",
       "\n",
       "<li><a href=\"/col/col285/index.html\" id=\"委内动态\" title=\"委内动态\"><span class=\"lanmu_old\">委内动态</span></a></li>\n",
       "\n",
       "<li><a href=\"/col/col286/index.html\" id=\"市县动态\" title=\"市县动态\"><span class=\"lanmu_old\">市县动态</span></a></li>\n",
       "\n",
       "<li><a href=\"/col/col281/index.html\" id=\"时政要闻\" title=\"时政要闻\"><span class=\"lanmu_old\">时政要闻</span></a></li>\n",
       "\n",
       "<li><a href=\"/col/col283/index.html\" id=\"图文解读\" title=\"图文解读\"><span class=\"lanmu_old\">图文解读</span></a></li>\n",
       "\n",
       "<li><a href=\"/col/col287/index.html\" id=\"专题专栏\" title=\"专题专栏\"><span class=\"lanmu_old\">专题专栏</span></a></li>\n",
       "\n",
       "<li><a href=\"/col/col288/index.html\" id=\"热点推荐\" title=\"热点推荐\"><span class=\"lanmu_old\">热点推荐</span></a></li>\n",
       "\n",
       "        </ul>\n",
       "      </div>\n",
       "      <!--主题内容 start-->\n",
       "      <div class=\"list_pad mt20\">\n",
       "        <div class=\"col_l left\">\n",
       "          <div class=\"title\">\n",
       "<span>通知公告</span>\n",
       "<script>\n",
       "    $(function () {\n",
       "        $(\".lanmu_old\").each(function() {\n",
       "            if ($(this).text() == \"通知公告\") {\n",
       "               $(this).addClass('lanmu_On')\n",
       "            }\n",
       "        });\n",
       "    })\n",
       "</script>\n",
       "</div>\n",
       "          <div class=\"content\"> \n",
       "            <div id=\"394236\"><script type=\"text/xml\"><datastore>\n",
       "<nextgroup><![CDATA[<a href=\"/module/web/jpage/dataproxy.jsp?page=1&appid=1&appid=1&webid=3&path=/&columnid=284&unitid=394236&webname=%25E6%25B1%259F%25E8%258B%258F%25E7%259C%2581%25E5%258F%2591%25E5%25B1%2595%25E5%2592%258C%25E6%2594%25B9%25E9%259D%25A9%25E5%25A7%2594%25E5%2591%2598%25E4%25BC%259A&permissiontype=0\"></a>]]></nextgroup>\n",
       "<recordset>\n",
       "<record><![CDATA[\n",
       "<li class=\"cf\"><span class=\"site\">·</span><a href='/art/2024/4/1/art_284_11207611.html' target=\"_blank\" title='江苏省成品油价格调整公告（2024年第5号）' class=\"fl\">江苏省成品油价格调整公告（2024年第5号）</a><span style=\"float:right;\">2024-04-01</span></li>]]></record>\n",
       "<record><![CDATA[\n",
       "<li class=\"cf\"><span class=\"site\">·</span><a href='/art/2024/3/20/art_284_11198038.html' target=\"_blank\" title='省发展改革委关于组织开展2024年江苏省工程研究中心申报工作的通知' class=\"fl\">省发展改革委关于组织开展2024年江苏省工程研究中心申报工作的通...</a><span style=\"float:right;\">2024-03-20</span></li>]]></record>\n",
       "<record><![CDATA[\n",
       "<li class=\"cf\"><span class=\"site\">·</span><a href='/art/2024/3/11/art_284_11174343.html' target=\"_blank\" title='我省电力保供政策性保障电网侧新型储能项目开展容量租赁的联系方式' class=\"fl\">我省电力保供政策性保障电网侧新型储能项目开展容量租赁的联系方式</a><span style=\"float:right;\">2024-03-11</span></li>]]></record>\n",
       "<record><![CDATA[\n",
       "<li class=\"cf\"><span class=\"site\">·</span><a href='/art/2024/3/4/art_284_11164847.html' target=\"_blank\" title='江苏省成品油价格调整公告（2024年第4号）' class=\"fl\">江苏省成品油价格调整公告（2024年第4号）</a><span style=\"float:right;\">2024-03-04</span></li>]]></record>\n",
       "<record><![CDATA[\n",
       "<li class=\"cf\"><span class=\"site\">·</span><a href='/art/2024/2/26/art_284_11158406.html' target=\"_blank\" title='关于申报2024年度省社科应用研究精品工程发展规划专项课题的通知' class=\"fl\">关于申报2024年度省社科应用研究精品工程发展规划专项课题的通知</a><span style=\"float:right;\">2024-02-26</span></li>]]></record>\n",
       "<record><![CDATA[\n",
       "<li class=\"cf\"><span class=\"site\">·</span><a href='/art/2024/2/18/art_284_11152409.html' target=\"_blank\" title='中央生态环境保护督察整改公示' class=\"fl\">中央生态环境保护督察整改公示</a><span style=\"float:right;\">2024-02-18</span></li>]]></record>\n",
       "<record><![CDATA[\n",
       "<li class=\"cf\"><span class=\"site\">·</span><a href='/art/2024/2/7/art_284_11148730.html' target=\"_blank\" title='省发展改革委 省司法厅关于公布江苏省实行政府指导价管理的公证服务项目目录及收费标准的通知' class=\"fl\">省发展改革委 省司法厅关于公布江苏省实行政府指导价管理的公证服务...</a><span style=\"float:right;\">2024-02-07</span></li>]]></record>\n",
       "<record><![CDATA[\n",
       "<li class=\"cf\"><span class=\"site\">·</span><a href='/art/2024/2/6/art_284_11147808.html' target=\"_blank\" title='关于拟纳入国家文化保护传承利用工程储备库项目的公示' class=\"fl\">关于拟纳入国家文化保护传承利用工程储备库项目的公示</a><span style=\"float:right;\">2024-02-06</span></li>]]></record>\n",
       "<record><![CDATA[\n",
       "<li class=\"cf\"><span class=\"site\">·</span><a href='/art/2024/1/31/art_284_11142040.html' target=\"_blank\" title='江苏省成品油价格调整公告(2024年第3号)' class=\"fl\">江苏省成品油价格调整公告(2024年第3号)</a><span style=\"float:right;\">2024-01-31</span></li>]]></record>\n",
       "<record><![CDATA[\n",
       "<li class=\"cf\"><span class=\"site\">·</span><a href='/art/2024/1/31/art_284_11141942.html' target=\"_blank\" title='关于我省第四批能源领域首台（套）重大技术装备项目推荐名单的公示' class=\"fl\">关于我省第四批能源领域首台（套）重大技术装备项目推荐名单的公示</a><span style=\"float:right;\">2024-01-31</span></li>]]></record>\n",
       "<record><![CDATA[\n",
       "<li class=\"cf\"><span class=\"site\">·</span><a href='/art/2024/1/30/art_284_11174617.html' target=\"_blank\" title='关于江苏省2023年粮食节约和反食品浪费工作进展情况的通报' class=\"fl\">关于江苏省2023年粮食节约和反食品浪费工作进展情况的通报</a><span style=\"float:right;\">2024-01-30</span></li>]]></record>\n",
       "<record><![CDATA[\n",
       "<li class=\"cf\"><span class=\"site\">·</span><a href='/art/2024/1/26/art_284_11137155.html' target=\"_blank\" title='关于江苏省拟申报中央补贴存量生物质发电项目的公示' class=\"fl\">关于江苏省拟申报中央补贴存量生物质发电项目的公示</a><span style=\"float:right;\">2024-01-26</span></li>]]></record>\n",
       "<record><![CDATA[\n",
       "<li class=\"cf\"><span class=\"site\">·</span><a href='/art/2024/1/17/art_284_11127908.html' target=\"_blank\" title='江苏省成品油价格调整公告(2024年第2号)' class=\"fl\">江苏省成品油价格调整公告(2024年第2号)</a><span style=\"float:right;\">2024-01-17</span></li>]]></record>\n",
       "<record><![CDATA[\n",
       "<li class=\"cf\"><span class=\"site\">·</span><a href='/art/2024/1/17/art_284_11127168.html' target=\"_blank\" title='江苏省发展改革委关于征集银发经济发展典型案例和意见建议的通知' class=\"fl\">江苏省发展改革委关于征集银发经济发展典型案例和意见建议的通知</a><span style=\"float:right;\">2024-01-17</span></li>]]></record>\n",
       "<record><![CDATA[\n",
       "<li class=\"cf\"><span class=\"site\">·</span><a href='/art/2024/1/10/art_284_11121801.html' target=\"_blank\" title='关于拟认定宜兴国际物流园等8家园区为省级示范物流园区的公示' class=\"fl\">关于拟认定宜兴国际物流园等8家园区为省级示范物流园区的公示</a><span style=\"float:right;\">2024-01-10</span></li>]]></record>\n",
       "<record><![CDATA[\n",
       "<li class=\"cf\"><span class=\"site\">·</span><a href='/art/2024/1/10/art_284_11121705.html' target=\"_blank\" title='2023年度江苏省电力行业淘汰落后产能公示' class=\"fl\">2023年度江苏省电力行业淘汰落后产能公示</a><span style=\"float:right;\">2024-01-10</span></li>]]></record>\n",
       "<record><![CDATA[\n",
       "<li class=\"cf\"><span class=\"site\">·</span><a href='/art/2024/1/5/art_284_11119011.html' target=\"_blank\" title='关于江苏国信企业发展研究基金会第二届理事会拟任负责人的公示' class=\"fl\">关于江苏国信企业发展研究基金会第二届理事会拟任负责人的公示</a><span style=\"float:right;\">2024-01-05</span></li>]]></record>\n",
       "<record><![CDATA[\n",
       "<li class=\"cf\"><span class=\"site\">·</span><a href='/art/2024/1/5/art_284_11119012.html' target=\"_blank\" title='关于江苏省物流产业促进会第一届二次理事会新增拟任负责人的公示' class=\"fl\">关于江苏省物流产业促进会第一届二次理事会新增拟任负责人的公示</a><span style=\"float:right;\">2024-01-05</span></li>]]></record>\n",
       "<record><![CDATA[\n",
       "<li class=\"cf\"><span class=\"site\">·</span><a href='/art/2024/1/3/art_284_11117542.html' target=\"_blank\" title='关于公布2023年光伏发电市场化并网项目（下半年）名单的通知' class=\"fl\">关于公布2023年光伏发电市场化并网项目（下半年）名单的通知</a><span style=\"float:right;\">2024-01-03</span></li>]]></record>\n",
       "<record><![CDATA[\n",
       "<li class=\"cf\"><span class=\"site\">·</span><a href='/art/2024/1/3/art_284_11117171.html' target=\"_blank\" title='江苏省成品油价格调整公告(2024年第1号)' class=\"fl\">江苏省成品油价格调整公告(2024年第1号)</a><span style=\"float:right;\">2024-01-03</span></li>]]></record>\n",
       "<record><![CDATA[\n",
       "<li class=\"cf\"><span class=\"site\">·</span><a href='/art/2023/12/25/art_284_11109671.html' target=\"_blank\" title='省发展改革委 省住房城乡建设厅关于延长《江苏省物业服务收费管理办法》有效期的公告' class=\"fl\">省发展改革委 省住房城乡建设厅关于延长《江苏省物业服务收费管理办...</a><span style=\"float:right;\">2023-12-25</span></li>]]></record>\n",
       "<record><![CDATA[\n",
       "<li class=\"cf\"><span class=\"site\">·</span><a href='/art/2023/12/20/art_284_11104698.html' target=\"_blank\" title='2023年度江苏民营企业营商环境满意度调查' class=\"fl\">2023年度江苏民营企业营商环境满意度调查</a><span style=\"float:right;\">2023-12-20</span></li>]]></record>\n",
       "<record><![CDATA[\n",
       "<li class=\"cf\"><span class=\"site\">·</span><a href='/art/2023/12/19/art_284_11103701.html' target=\"_blank\" title='江苏省成品油价格调整公告(2023年第22号)' class=\"fl\">江苏省成品油价格调整公告(2023年第22号)</a><span style=\"float:right;\">2023-12-19</span></li>]]></record>\n",
       "<record><![CDATA[\n",
       "<li class=\"cf\"><span class=\"site\">·</span><a href='/art/2023/12/13/art_284_11097951.html' target=\"_blank\" title='中央生态环境保护督察整改公示' class=\"fl\">中央生态环境保护督察整改公示</a><span style=\"float:right;\">2023-12-13</span></li>]]></record>\n",
       "<record><![CDATA[\n",
       "<li class=\"cf\"><span class=\"site\">·</span><a href='/art/2023/12/7/art_284_11092506.html' target=\"_blank\" title='关于第三批省级现代服务业高质量发展集聚示范区、第二批领军企业和第三批两业融合试点遴选确认名单的公示' class=\"fl\">关于第三批省级现代服务业高质量发展集聚示范区、第二批领军企业和第...</a><span style=\"float:right;\">2023-12-07</span></li>]]></record>\n",
       "<record><![CDATA[\n",
       "<li class=\"cf\"><span class=\"site\">·</span><a href='/art/2023/12/5/art_284_11089675.html' target=\"_blank\" title='江苏省成品油价格调整公告(2023年第21号)' class=\"fl\">江苏省成品油价格调整公告(2023年第21号)</a><span style=\"float:right;\">2023-12-05</span></li>]]></record>\n",
       "<record><![CDATA[\n",
       "<li class=\"cf\"><span class=\"site\">·</span><a href='/art/2023/12/4/art_284_11088471.html' target=\"_blank\" title='2023年备案创业投资企业年检拟通过名单公示' class=\"fl\">2023年备案创业投资企业年检拟通过名单公示</a><span style=\"float:right;\">2023-12-04</span></li>]]></record>\n",
       "<record><![CDATA[\n",
       "<li class=\"cf\"><span class=\"site\">·</span><a href='/art/2023/11/28/art_284_11083535.html' target=\"_blank\" title='江苏省招标投标公共服务平台运营及日常维护项目采购结果公示' class=\"fl\">江苏省招标投标公共服务平台运营及日常维护项目采购结果公示</a><span style=\"float:right;\">2023-11-28</span></li>]]></record>\n",
       "<record><![CDATA[\n",
       "<li class=\"cf\"><span class=\"site\">·</span><a href='/art/2023/11/21/art_284_11077251.html' target=\"_blank\" title='江苏省成品油价格调整公告(2023年第20号)' class=\"fl\">江苏省成品油价格调整公告(2023年第20号)</a><span style=\"float:right;\">2023-11-21</span></li>]]></record>\n",
       "<record><![CDATA[\n",
       "<li class=\"cf\"><span class=\"site\">·</span><a href='/art/2023/11/16/art_284_11072563.html' target=\"_blank\" title='江苏省招标投标公共服务平台运营及日常维护项目单一来源采购公示' class=\"fl\">江苏省招标投标公共服务平台运营及日常维护项目单一来源采购公示</a><span style=\"float:right;\">2023-11-16</span></li>]]></record>\n",
       "<record><![CDATA[\n",
       "<li class=\"cf\"><span class=\"site\">·</span><a href='/art/2023/11/13/art_284_11069687.html' target=\"_blank\" title='2023年省补市县项目竞争立项评审结果公示' class=\"fl\">2023年省补市县项目竞争立项评审结果公示</a><span style=\"float:right;\">2023-11-13</span></li>]]></record>\n",
       "<record><![CDATA[\n",
       "<li class=\"cf\"><span class=\"site\">·</span><a href='/art/2023/11/10/art_284_11068592.html' target=\"_blank\" title='巡视工作公告' class=\"fl\">巡视工作公告</a><span style=\"float:right;\">2023-11-10</span></li>]]></record>\n",
       "<record><![CDATA[\n",
       "<li class=\"cf\"><span class=\"site\">·</span><a href='/art/2023/11/10/art_284_11068570.html' target=\"_blank\" title='巡视工作公告' class=\"fl\">巡视工作公告</a><span style=\"float:right;\">2023-11-10</span></li>]]></record>\n",
       "<record><![CDATA[\n",
       "<li class=\"cf\"><span class=\"site\">·</span><a href='/art/2023/11/9/art_284_11066818.html' target=\"_blank\" title='已纳规独立新型储能项目简要情况' class=\"fl\">已纳规独立新型储能项目简要情况</a><span style=\"float:right;\">2023-11-09</span></li>]]></record>\n",
       "<record><![CDATA[\n",
       "<li class=\"cf\"><span class=\"site\">·</span><a href='/art/2023/11/7/art_284_11064806.html' target=\"_blank\" title='江苏省成品油价格调整公告（2023年第19号）' class=\"fl\">江苏省成品油价格调整公告（2023年第19号）</a><span style=\"float:right;\">2023-11-07</span></li>]]></record>\n",
       "<record><![CDATA[\n",
       "<li class=\"cf\"><span class=\"site\">·</span><a href='/art/2023/11/7/art_284_11065316.html' target=\"_blank\" title='2023年度江苏省社科应用研究精品工程发展规划专项课题结项及优秀成果名单' class=\"fl\">2023年度江苏省社科应用研究精品工程发展规划专项课题结项及优秀...</a><span style=\"float:right;\">2023-11-07</span></li>]]></record>\n",
       "<record><![CDATA[\n",
       "<li class=\"cf\"><span class=\"site\">·</span><a href='/art/2023/11/6/art_284_11063720.html' target=\"_blank\" title='江苏省战略与发展研究中心国家级博士后科研工作站招聘简章' class=\"fl\">江苏省战略与发展研究中心国家级博士后科研工作站招聘简章</a><span style=\"float:right;\">2023-11-06</span></li>]]></record>\n",
       "<record><![CDATA[\n",
       "<li class=\"cf\"><span class=\"site\">·</span><a href='/art/2023/10/24/art_284_11050985.html' target=\"_blank\" title='江苏省成品油价格调整公告(2023年第18号)' class=\"fl\">江苏省成品油价格调整公告(2023年第18号)</a><span style=\"float:right;\">2023-10-24</span></li>]]></record>\n",
       "<record><![CDATA[\n",
       "<li class=\"cf\"><span class=\"site\">·</span><a href='/art/2023/10/11/art_284_11036762.html' target=\"_blank\" title='国家公布2024年小麦最低收购价格' class=\"fl\">国家公布2024年小麦最低收购价格</a><span style=\"float:right;\">2023-10-11</span></li>]]></record>\n",
       "<record><![CDATA[\n",
       "<li class=\"cf\"><span class=\"site\">·</span><a href='/art/2023/10/10/art_284_11036153.html' target=\"_blank\" title='江苏省成品油价格调整公告(2023年第17号)' class=\"fl\">江苏省成品油价格调整公告(2023年第17号)</a><span style=\"float:right;\">2023-10-10</span></li>]]></record>\n",
       "<record><![CDATA[\n",
       "<li class=\"cf\"><span class=\"site\">·</span><a href='/art/2023/10/7/art_284_11032906.html' target=\"_blank\" title='关于征求《在行政管理中实行信用报告和信用承诺的办法（征求意见稿）》等文件意见建议的公告' class=\"fl\">关于征求《在行政管理中实行信用报告和信用承诺的办法（征求意见稿）...</a><span style=\"float:right;\">2023-10-07</span></li>]]></record>\n",
       "<record><![CDATA[\n",
       "<li class=\"cf\"><span class=\"site\">·</span><a href='/art/2023/9/27/art_284_11028041.html' target=\"_blank\" title='关于公开征求《关于加快构建我省高质量充电基础设施体系的行动方案（征求意见稿）》意见的通告' class=\"fl\">关于公开征求《关于加快构建我省高质量充电基础设施体系的行动方案（...</a><span style=\"float:right;\">2023-09-27</span></li>]]></record>\n",
       "<record><![CDATA[\n",
       "<li class=\"cf\"><span class=\"site\">·</span><a href='/art/2023/9/25/art_284_11025599.html' target=\"_blank\" title='2023年江苏省工程研究中心拟认定名单公示' class=\"fl\">2023年江苏省工程研究中心拟认定名单公示</a><span style=\"float:right;\">2023-09-25</span></li>]]></record>\n",
       "<record><![CDATA[\n",
       "<li class=\"cf\"><span class=\"site\">·</span><a href='/art/2023/9/20/art_284_11021180.html' target=\"_blank\" title='江苏省成品油价格调整公告(2023年第16号)' class=\"fl\">江苏省成品油价格调整公告(2023年第16号)</a><span style=\"float:right;\">2023-09-20</span></li>]]></record>\n",
       "<record><![CDATA[\n",
       "<li class=\"cf\"><span class=\"site\">·</span><a href='/art/2023/9/18/art_284_11019122.html' target=\"_blank\" title='关于2022年全省统调发电机组运行考核结果的公示' class=\"fl\">关于2022年全省统调发电机组运行考核结果的公示</a><span style=\"float:right;\">2023-09-18</span></li>]]></record>\n",
       "</recordset>\n",
       "</datastore></script></div><link href=\"/module/web/jpage/theme/default/css/jpage.css\" rel=\"stylesheet\" type=\"text/css\"/><script language=\"javascript\" src=\"/module/jslib/datepicker/WdatePicker.js\"></script><script language=\"javascript\" src=\"/module/jslib/jquery/cookie/jquery.cookie.js\"></script><script language=\"javascript\" src=\"/module/web/jpage/jquery.jpage.js\"></script><script>var param_394236 = {col:1,appid:'1',webid:3,path:'/',columnid:284,sourceContentType:1,unitid:'394236',webname:'江苏省发展和改革委员会',permissiontype:0}; function jpage_394236(){$('#jpageform_394236 :input').each(function(){param_394236[$(this).attr('name')]=$(this).val();});$('#394236').jpage({themeName:'default',showMode:'full',totalRecord:1000,openCookies:false,dataBefore:'',dataAfter:'',groupSize:3,proxyUrl:'/module/web/jpage/dataproxy.jsp',perPage:15,barPosition:'bottom',ajaxParam:param_394236});};$(function(){$('#394236').jpage({themeName:'default',showMode:'full',totalRecord:1584,openCookies:false,dataBefore:'',dataStore:$('#394236').children('script').html(),dataAfter:'',groupSize:3,proxyUrl:'/module/web/jpage/dataproxy.jsp',perPage:15,barPosition:'bottom',ajaxParam:param_394236});});</script> \n",
       "          </div>\n",
       "        </div>\n",
       "        <div class=\"col_r right\">\n",
       "          <div class=\"col2_r\">\n",
       "            <div class=\"title\"> <span>热点推荐</span><a class=\"news_more\" href=\"/col/col288/index.html\">更多&gt;&gt;</a></div>\n",
       "            <div class=\"content\">\n",
       "              <ul>\n",
       "                <table border=\"0\" cellpadding=\"0\" cellspacing=\"0\" width=\"100%\">\n",
       "<tbody><tr>\n",
       "<td style=\"\">\n",
       "<li><span>[发改要闻]</span><a href=\"/art/2024/3/29/art_282_11206773.html\" target=\"_blank\" title=\"第六届全国产业转型升级示范区建设现场经验交流活动在广东韶关举行\">第六届全国产业转型升级...</a></li></td></tr>\n",
       "<tr>\n",
       "<td style=\"\">\n",
       "<li><span>[发改要闻]</span><a href=\"/art/2024/3/28/art_282_11204342.html\" target=\"_blank\" title=\"第六届淮海经济区协同发展（连云港）座谈会召开\">第六届淮海经济区协同发...</a></li></td></tr>\n",
       "<tr>\n",
       "<td style=\"\">\n",
       "<li><span>[发改要闻]</span><a href=\"/art/2024/3/21/art_282_11199378.html\" target=\"_blank\" title=\"高清一级巡视员出席“苏新消费·春惠江苏”促消费活动启动仪式\">高清一级巡视员出席“苏...</a></li></td></tr>\n",
       "<tr>\n",
       "<td style=\"\">\n",
       "<li><span>[发改要闻]</span><a href=\"/art/2024/3/12/art_282_11169709.html\" target=\"_blank\" title=\"央视总台《新闻联播》播出《【总书记与我们在一起】勇挑大梁 为推进中国式现代化汇聚合力》专题报道\">央视总台《新闻联播》播...</a></li></td></tr>\n",
       "<tr>\n",
       "<td style=\"\">\n",
       "<li><span>[发改要闻]</span><a href=\"/art/2024/3/12/art_282_11169557.html\" target=\"_blank\" title=\"《新华日报》刊发我委沈剑荣主任专访报道《以新质生产力推动高质量发展》\">《新华日报》刊发我委沈...</a></li></td></tr>\n",
       "<tr>\n",
       "<td style=\"\">\n",
       "<li><span>[发改要闻]</span><a href=\"/art/2024/3/12/art_282_11174190.html\" target=\"_blank\" title=\"省政协十三届二次会议提案交办会召开\">省政协十三届二次会议提...</a></li></td></tr>\n",
       "<tr>\n",
       "<td style=\"\">\n",
       "<li><span>[发改要闻]</span><a href=\"/art/2024/3/4/art_282_11166311.html\" target=\"_blank\" title=\"虹桥国际开放枢纽2024年工作现场会在上海举行\">虹桥国际开放枢纽202...</a></li></td>\n",
       "</tr></tbody></table> \n",
       "              </ul>\n",
       "            </div>\n",
       "          </div>\n",
       "          <div class=\"col2_r mt20\">\n",
       "            <div class=\"title\"> <span>专题专栏</span><a class=\"news_more\" href=\"/col/col287/index.html\">更多&gt;&gt;</a></div>\n",
       "            <div class=\"content\">\n",
       "              <ul>\n",
       "                \n",
       "<li><span class=\"site\">·</span><a class=\"ztTit\" href=\"http://fzggw.jiangsu.gov.cn/col/col85238/index.html\" target=\"_blank\" title=\"江苏价格认定\">江苏价格认定</a></li>\n",
       "<li><span class=\"site\">·</span><a class=\"ztTit\" href=\"http://fzggw.jiangsu.gov.cn/col/col78287/index.html\" target=\"_blank\" title=\"江苏价格监测\">江苏价格监测</a></li>\n",
       "<li><span class=\"site\">·</span><a class=\"ztTit\" href=\"http://fzggw.jiangsu.gov.cn/col/col4590/index.html\" target=\"_blank\" title=\"江苏省重大项目\">江苏省重大项目</a></li>\n",
       "<li><span class=\"site\">·</span><a class=\"ztTit\" href=\"http://fzggw.jiangsu.gov.cn/col/col4638/index.html\" target=\"_blank\" title=\"江苏省现代服务业发展\">江苏省现代服务业发展</a></li>\n",
       "<li><span class=\"site\">·</span><a class=\"ztTit\" href=\"http://fzggw.jiangsu.gov.cn/col/col71951/index.html\" target=\"_blank\" title=\"江苏省社会信用体系建设\">江苏省社会信用体系建设</a></li>\n",
       "<li><span class=\"site\">·</span><a class=\"ztTit\" href=\"http://fzggw.jiangsu.gov.cn/col/col84480/index.html\" target=\"_blank\" title=\"省级重大规划专栏\">省级重大规划专栏</a></li>\n",
       "<li><span class=\"site\">·</span><a class=\"ztTit\" href=\"http://fzggw.jiangsu.gov.cn/col/col87139/index.html\" target=\"_blank\" title=\"优化营商环境惠企政策专区\">优化营商环境惠企政策专区</a></li> \n",
       "              </ul>\n",
       "            </div>\n",
       "          </div>\n",
       "        </div>\n",
       "      </div>\n",
       "      <!--主题内容 end--> \n",
       "    </div>\n",
       "    <div class=\"clear\"></div>\n",
       "    <!--版权--> \n",
       "    <script src=\"/script/0/2308021338369366.js\"></script> \n",
       "  </div>\n",
       "</div>\n",
       "</div>\n",
       "<!-- visitcount Begin --><iframe frameborder=\"0\" id=\"vishidden\" name=\"vishidden\" src=\"../../module/visitcount/visit.jsp?type=2&amp;i_webid=3&amp;i_columnid=284\" style=\"width:0; height:0; display:none\"></iframe><!-- visitcount End -->\n",
       "<script language=\"javascript\" src=\"/script/web_front.js\"></script>\n",
       "\n",
       "</body></html>"
      ]
     },
     "execution_count": 176,
     "metadata": {},
     "output_type": "execute_result"
    }
   ],
   "source": [
    "url_index = \"https://fzggw.jiangsu.gov.cn/col/col284/index.html\"\n",
    "\n",
    "# 访问链接\n",
    "bs, response = get_bs(url_index)\n",
    "\n",
    "bs\n"
   ]
  },
  {
   "cell_type": "code",
   "execution_count": 179,
   "metadata": {},
   "outputs": [
    {
     "name": "stdout",
     "output_type": "stream",
     "text": [
      "0 9\n"
     ]
    }
   ],
   "source": [
    "text_list = bs.select('.fl')\n",
    "time_list = bs.select('.cf span')\n",
    "\n",
    "print(len(text_list), len(time_list))"
   ]
  },
  {
   "cell_type": "code",
   "execution_count": 145,
   "metadata": {},
   "outputs": [
    {
     "data": {
      "text/plain": [
       "[]"
      ]
     },
     "execution_count": 145,
     "metadata": {},
     "output_type": "execute_result"
    }
   ],
   "source": [
    "bs.select('.default_pgContainer')"
   ]
  },
  {
   "cell_type": "code",
   "execution_count": 178,
   "metadata": {},
   "outputs": [
    {
     "data": {
      "text/plain": [
       "[<a href=\"/col/col280/index.html\" id=\"图片新闻\" title=\"图片新闻\"><span class=\"lanmu_old\">图片新闻</span></a>,\n",
       " <a href=\"/col/col282/index.html\" id=\"发改要闻\" title=\"发改要闻\"><span class=\"lanmu_old\">发改要闻</span></a>,\n",
       " <a href=\"/col/col284/index.html\" id=\"通知公告\" title=\"通知公告\"><span class=\"lanmu_old\">通知公告</span></a>,\n",
       " <a href=\"/col/col285/index.html\" id=\"委内动态\" title=\"委内动态\"><span class=\"lanmu_old\">委内动态</span></a>,\n",
       " <a href=\"/col/col286/index.html\" id=\"市县动态\" title=\"市县动态\"><span class=\"lanmu_old\">市县动态</span></a>,\n",
       " <a href=\"/col/col281/index.html\" id=\"时政要闻\" title=\"时政要闻\"><span class=\"lanmu_old\">时政要闻</span></a>,\n",
       " <a href=\"/col/col283/index.html\" id=\"图文解读\" title=\"图文解读\"><span class=\"lanmu_old\">图文解读</span></a>,\n",
       " <a href=\"/col/col287/index.html\" id=\"专题专栏\" title=\"专题专栏\"><span class=\"lanmu_old\">专题专栏</span></a>,\n",
       " <a href=\"/col/col288/index.html\" id=\"热点推荐\" title=\"热点推荐\"><span class=\"lanmu_old\">热点推荐</span></a>]"
      ]
     },
     "execution_count": 178,
     "metadata": {},
     "output_type": "execute_result"
    }
   ],
   "source": [
    "text_list"
   ]
  },
  {
   "cell_type": "code",
   "execution_count": 175,
   "metadata": {},
   "outputs": [
    {
     "data": {
      "text/plain": [
       "'第二十五届江苏省出口商品展览会（日本大阪）布展服务项目竞争性磋商公告'"
      ]
     },
     "execution_count": 175,
     "metadata": {},
     "output_type": "execute_result"
    }
   ],
   "source": [
    "text_list[1].get_text(strip=True).strip().replace('·', '').replace('\\n', '')"
   ]
  },
  {
   "cell_type": "code",
   "execution_count": 123,
   "metadata": {},
   "outputs": [
    {
     "data": {
      "text/plain": [
       "'/sccom/tzgg/2024/3/21/1461ecc72e15429a9cdfcd4e8731d17e.shtml'"
      ]
     },
     "execution_count": 123,
     "metadata": {},
     "output_type": "execute_result"
    }
   ],
   "source": [
    "text_list[3]['href']"
   ]
  },
  {
   "cell_type": "code",
   "execution_count": 168,
   "metadata": {},
   "outputs": [
    {
     "data": {
      "text/plain": [
       "[<span class=\"fr\">2024-04-03</span>,\n",
       " <span class=\"fr\">2024-04-03</span>,\n",
       " <span class=\"fr\">2024-04-02</span>,\n",
       " <span class=\"fr\">2024-04-02</span>,\n",
       " <span class=\"fr\">2024-04-01</span>,\n",
       " <span class=\"fr\">2024-04-01</span>,\n",
       " <span class=\"fr\">2024-03-29</span>,\n",
       " <span class=\"fr\">2024-03-22</span>,\n",
       " <span class=\"fr\">2024-03-22</span>,\n",
       " <span class=\"fr\">2024-03-22</span>,\n",
       " <span class=\"fr\">2024-03-22</span>,\n",
       " <span class=\"fr\">2024-03-21</span>,\n",
       " <span class=\"fr\">2024-03-20</span>,\n",
       " <span class=\"fr\">2024-03-20</span>,\n",
       " <span class=\"fr\">2024-03-18</span>,\n",
       " <span class=\"fr\">2024-03-18</span>,\n",
       " <span class=\"fr\">2024-03-18</span>,\n",
       " <span class=\"fr\">2024-03-14</span>,\n",
       " <span class=\"fr\">2024-03-11</span>,\n",
       " <span class=\"fr\">2024-03-08</span>,\n",
       " <span class=\"fr\">2024-03-06</span>,\n",
       " <span class=\"fr\">2024-03-05</span>,\n",
       " <span class=\"fr\">2024-03-04</span>,\n",
       " <span class=\"fr\">2024-03-01</span>,\n",
       " <span class=\"fr\">2024-02-29</span>,\n",
       " <span class=\"fr\">2024-02-29</span>,\n",
       " <span class=\"fr\">2024-02-29</span>,\n",
       " <span class=\"fr\">2024-02-26</span>,\n",
       " <span class=\"fr\">2024-02-23</span>,\n",
       " <span class=\"fr\">2024-02-21</span>,\n",
       " <span class=\"fr\">2024-02-18</span>,\n",
       " <span class=\"fr\">2024-02-08</span>,\n",
       " <span class=\"fr\">2024-02-08</span>,\n",
       " <span class=\"fr\">2024-02-04</span>,\n",
       " <span class=\"fr\">2024-02-04</span>,\n",
       " <span class=\"fr\">2024-02-01</span>,\n",
       " <span class=\"fr\">2024-01-29</span>,\n",
       " <span class=\"fr\">2024-01-29</span>,\n",
       " <span class=\"fr\">2024-01-29</span>,\n",
       " <span class=\"fr\">2024-01-24</span>,\n",
       " <span class=\"fr\">2024-01-23</span>,\n",
       " <span class=\"fr\">2024-01-19</span>,\n",
       " <span class=\"fr\">2024-01-19</span>,\n",
       " <span class=\"fr\">2024-01-19</span>,\n",
       " <span class=\"fr\">2024-01-19</span>,\n",
       " <span class=\"fr\">2024-01-19</span>,\n",
       " <span class=\"fr\">2024-01-17</span>,\n",
       " <span class=\"fr\">2024-01-16</span>,\n",
       " <span class=\"fr\">2024-01-16</span>,\n",
       " <span class=\"fr\">2024-01-11</span>,\n",
       " <span class=\"fr\">2024-01-11</span>,\n",
       " <span class=\"fr\">2024-01-10</span>,\n",
       " <span class=\"fr\">2024-01-10</span>,\n",
       " <span class=\"fr\">2024-01-10</span>,\n",
       " <span class=\"fr\">2024-01-10</span>,\n",
       " <span class=\"fr\">2024-01-10</span>,\n",
       " <span class=\"fr\">2024-01-09</span>,\n",
       " <span class=\"fr\">2024-01-09</span>,\n",
       " <span class=\"fr\">2024-01-08</span>,\n",
       " <span class=\"fr\">2024-01-04</span>,\n",
       " <span class=\"fr\">2023-12-30</span>,\n",
       " <span class=\"fr\">2023-12-29</span>,\n",
       " <span class=\"fr\">2023-12-29</span>,\n",
       " <span class=\"fr\">2023-12-28</span>,\n",
       " <span class=\"fr\">2023-12-26</span>,\n",
       " <span class=\"fr\">2023-12-21</span>,\n",
       " <span class=\"fr\">2023-12-20</span>,\n",
       " <span class=\"fr\">2023-12-19</span>,\n",
       " <span class=\"fr\">2023-12-15</span>,\n",
       " <span class=\"fr\">2023-12-15</span>,\n",
       " <span class=\"fr\">2023-12-15</span>,\n",
       " <span class=\"fr\">2023-12-14</span>,\n",
       " <span class=\"fr\">2023-12-13</span>,\n",
       " <span class=\"fr\">2023-12-13</span>,\n",
       " <span class=\"fr\">2023-12-13</span>,\n",
       " <span class=\"fr\">2023-12-12</span>,\n",
       " <span class=\"fr\">2023-12-08</span>,\n",
       " <span class=\"fr\">2023-12-07</span>,\n",
       " <span class=\"fr\">2023-12-07</span>,\n",
       " <span class=\"fr\">2023-12-07</span>,\n",
       " <span class=\"fr\">2023-12-07</span>,\n",
       " <span class=\"fr\">2023-12-06</span>,\n",
       " <span class=\"fr\">2023-11-23</span>,\n",
       " <span class=\"fr\">2023-11-21</span>,\n",
       " <span class=\"fr\">2023-11-20</span>,\n",
       " <span class=\"fr\">2023-11-20</span>,\n",
       " <span class=\"fr\">2023-11-16</span>,\n",
       " <span class=\"fr\">2023-11-11</span>,\n",
       " <span class=\"fr\">2023-11-09</span>,\n",
       " <span class=\"fr\">2023-11-09</span>,\n",
       " <span class=\"fr\">2023-11-02</span>,\n",
       " <span class=\"fr\">2023-11-01</span>,\n",
       " <span class=\"fr\">2023-11-01</span>,\n",
       " <span class=\"fr\">2023-10-27</span>,\n",
       " <span class=\"fr\">2023-10-25</span>,\n",
       " <span class=\"fr\">2023-10-25</span>,\n",
       " <span class=\"fr\">2023-10-25</span>,\n",
       " <span class=\"fr\">2023-10-25</span>,\n",
       " <span class=\"fr\">2023-10-25</span>,\n",
       " <span class=\"fr\">2023-10-24</span>]"
      ]
     },
     "execution_count": 168,
     "metadata": {},
     "output_type": "execute_result"
    }
   ],
   "source": [
    "time_list"
   ]
  },
  {
   "cell_type": "code",
   "execution_count": 172,
   "metadata": {},
   "outputs": [
    {
     "data": {
      "text/plain": [
       "'2024-04-03'"
      ]
     },
     "execution_count": 172,
     "metadata": {},
     "output_type": "execute_result"
    }
   ],
   "source": [
    "time_list[1].get_text(strip=True)"
   ]
  },
  {
   "cell_type": "code",
   "execution_count": 27,
   "metadata": {},
   "outputs": [
    {
     "data": {
      "text/plain": [
       "'http://drc.gd.gov.cn/ywtz/index_2.html'"
      ]
     },
     "execution_count": 27,
     "metadata": {},
     "output_type": "execute_result"
    }
   ],
   "source": [
    "bs.find('a', {'class': 'next'})['href']"
   ]
  },
  {
   "cell_type": "code",
   "execution_count": null,
   "metadata": {},
   "outputs": [],
   "source": []
  }
 ],
 "metadata": {
  "kernelspec": {
   "display_name": "spider",
   "language": "python",
   "name": "python3"
  },
  "language_info": {
   "codemirror_mode": {
    "name": "ipython",
    "version": 3
   },
   "file_extension": ".py",
   "mimetype": "text/x-python",
   "name": "python",
   "nbconvert_exporter": "python",
   "pygments_lexer": "ipython3",
   "version": "3.10.14"
  }
 },
 "nbformat": 4,
 "nbformat_minor": 2
}
