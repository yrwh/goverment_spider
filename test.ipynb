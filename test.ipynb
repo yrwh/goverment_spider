{
 "cells": [
  {
   "cell_type": "code",
   "execution_count": 1,
   "metadata": {},
   "outputs": [],
   "source": [
    "import requests\n",
    "import datetime\n",
    "import time\n",
    "import sys\n",
    "import io\n",
    "import re\n",
    "import argparse\n",
    "from bs4 import BeautifulSoup\n",
    "import random\n",
    "from utils import sleep_time, title_pattern, content_pattern, write_file, now, MyHeaders, logger, timeout\n"
   ]
  },
  {
   "cell_type": "code",
   "execution_count": 2,
   "metadata": {},
   "outputs": [],
   "source": [
    "def get_bs(url):\n",
    "    headers = {'User-Agent': random.choice(MyHeaders)}\n",
    "    response = requests.get(url, headers=headers, verify=False)\n",
    "    response.encoding = 'utf-8'\n",
    "    bs = BeautifulSoup(response.content, 'html5lib')\n",
    "\n",
    "    return bs, response"
   ]
  },
  {
   "cell_type": "code",
   "execution_count": 72,
   "metadata": {},
   "outputs": [
    {
     "name": "stderr",
     "output_type": "stream",
     "text": [
      "/home/zouyou/miniconda3/envs/spider/lib/python3.10/site-packages/urllib3/connectionpool.py:1103: InsecureRequestWarning: Unverified HTTPS request is being made to host 'kjj.chuzhou.gov.cn'. Adding certificate verification is strongly advised. See: https://urllib3.readthedocs.io/en/latest/advanced-usage.html#tls-warnings\n",
      "  warnings.warn(\n"
     ]
    },
    {
     "data": {
      "text/plain": [
       "<!DOCTYPE html>\n",
       "<html><head>\n",
       "<meta charset=\"utf-8\"/>\n",
       "<meta content=\"webkit\" name=\"renderer\"/>\n",
       "<meta content=\"IE=edge\" http-equiv=\"X-UA-Compatible\"/>\n",
       "<meta content=\"yes\" name=\"apple-mobile-web-app-capable\"/>\n",
       "<meta content=\"width=device-width,height=device-height,initial-scale=1,maximum-scale=1.0,user-scalable=no\" name=\"viewport\"/>\n",
       "<title>通知公告_滁州市科学技术局</title>\n",
       "<meta content=\"cz_govd\" name=\"WebSiteCollectionCode\"/>\n",
       "<meta content=\"4294414\" name=\"SiteId\"/>\n",
       "<meta content=\"滁州市科学技术局\" name=\"SiteName\"/>\n",
       "<meta content=\"kjj.chuzhou.gov.cn\" name=\"SiteDomain\"/>\n",
       "<meta content=\"3411000053\" name=\"SiteIDCode\"/>\n",
       "<meta content=\"通知公告\" name=\"ColumnName\"/>\n",
       "<meta content=\"工作动态\" name=\"ColumnType\"/>\n",
       "<meta content=\"本地区政务要闻、工作动态、通知公告等信息\" name=\"ColumnDescription\"/>\n",
       "<meta content=\"政务要闻、工作动态、通知公告\" name=\"ColumnKeywords\"/>\n",
       "<meta content=\"articleNews\" name=\"TypeCode\"/>\n",
       "<meta content=\"5957375\" name=\"ColumnClassCode\"/>\n",
       "<meta content=\"\" name=\"Attribute\"/>\n",
       "<meta content=\"\" name=\"DataGovernanceMark\"/>\n",
       "<meta content=\"2024-03-12 12:00:38\" name=\"HtmlGenerateTime\"/>\n",
       "<link href=\"/_res/favicon.ico\" rel=\"shortcut icon\" type=\"image/x-icon\"/>\n",
       "<link href=\"/assets/css/core.min.css\" rel=\"stylesheet\"/>\n",
       "<link href=\"/_res/css/lonsun-new.css?v=1.81313\" rel=\"stylesheet\" type=\"text/css\"/>\n",
       "<script>var oldLink = ['old-age', 'lonsun-oldage'];</script>\n",
       "<!--网站白名单-->\n",
       "<script>var ll_160685192 = 1;</script>\n",
       "<script charset=\"utf-8\" src=\"https://www.chuzhou.gov.cn/ljglz/wztzbmd/160685192.js?num=1\"></script>\n",
       "<script src=\"/assets/js/common.min.js?sa=1\"></script>\n",
       "<script src=\"/_res/js/customize.min.js\" type=\"text/javascript\"></script>\n",
       "<!--[if lt IE 9]>\n",
       "<script src=\"/assets/js/patch.min.js\"></script>\n",
       "<![endif]-->\n",
       "</head>\n",
       "<body>\n",
       "<div class=\"wza-container body_bg\" id=\"container\">\n",
       "  <div class=\"ls-page-header\" role=\"banner\">\n",
       "<div class=\"ls_topbox\">\n",
       "  <div class=\"container clearfix\">\n",
       "   <div aria-label=\"政府网站链接\" class=\"ls_topl fl hidden-sm hidden-xs\" role=\"region\">\n",
       "     <ul class=\"clearfix\"><!--StartLabelHtml_linkList_f1b95ee90f7b8ee5747816367ae3a223--><script>var ll_160685523 = 5;</script><script charset=\"utf-8\" src=\"https://kjj.chuzhou.gov.cn/ljgl/gggl/dbzclj/160685523.js?num=5&amp;ect=1709786503068\"></script><!--EndLabelHtml_linkList_f1b95ee90f7b8ee5747816367ae3a223--></ul></div>\n",
       "    <div aria-label=\"头部\" class=\"ls_topr fr wza-region_service\">\n",
       "      <span class=\"sylogin\" data-setting=\"{siteId:4294414,isRegister:true,logoutText:'退出'}\" id=\"member_info\"></span>\n",
       "      <ul class=\"hidden-sm hidden-xs wza-old-dn wza-dn\"><!--StartLabelHtml_linkList_c5e1ccd088958e4e9e5d1a28357e5beb--><script>var ll_160685524 = 2;</script><script charset=\"utf-8\" src=\"https://kjj.chuzhou.gov.cn/ljgl/gggl/wxwb/160685524.js?num=2&amp;ect=1709786503072\"></script><!--EndLabelHtml_linkList_c5e1ccd088958e4e9e5d1a28357e5beb--></ul>\n",
       "      <ul>\n",
       "        <script src=\"/_res/js/wza.elder.js\"></script>\n",
       "        <li class=\"num6\"><a class=\"j-favorites\" data-setting=\"{siteId:4294414}\" href=\"javascript:void(0)\">加入收藏</a></li>\n",
       "      </ul>\n",
       "    </div>\n",
       "  </div>\n",
       "</div>\n",
       "<!--头部导航 end-->\n",
       "<div class=\"container\">\n",
       "  <div class=\"ls_banbox clearfix\">\n",
       "    <ul class=\"banbg\"><!--StartLabelHtml_linkList_497b5257bce83be547fca701cf146b1b--><script>var ll_160685525 = 1;</script><script charset=\"utf-8\" src=\"https://kjj.chuzhou.gov.cn/ljgl/bannerbjt/160685525.js?num=1&amp;ect=1709786503077\"></script><!--EndLabelHtml_linkList_497b5257bce83be547fca701cf146b1b--></ul>\n",
       "    <ul class=\"ls_logo fl\"><!--StartLabelHtml_linkList_c30da44c4b167c5621d1676c0f2c5977--><script>var ll_160685526 = 1;</script><script charset=\"utf-8\" src=\"https://kjj.chuzhou.gov.cn/ljgl/logo/160685526.js?num=1&amp;ect=1709786503082\"></script><!--EndLabelHtml_linkList_c30da44c4b167c5621d1676c0f2c5977--></ul>\n",
       "    <!--logo end-->\n",
       "    <div aria-label=\"搜索\" class=\"ls_search fr\" role=\"search\">\n",
       "      <form action=\"https://www.chuzhou.gov.cn/site/search/2653861?flag=false\" class=\"j-search-form\" method=\"get\" target=\"_blank\">\n",
       "        <input name=\"platformCode\" type=\"hidden\" value=\"cz_govd\"/>\n",
       "        <input name=\"siteId\" type=\"hidden\" value=\"4294414\"/>\n",
       "        <input name=\"isAllSite\" type=\"hidden\" value=\"true\"/>\n",
       "        <input name=\"typeCode\" type=\"hidden\" value=\"all\"/>\n",
       "\t\t    <input name=\"fuzzySearch\" type=\"hidden\" value=\"true\"/>\n",
       "        <input name=\"sort\" type=\"hidden\" value=\"intelligent\"/>\n",
       "        <input name=\"orderType\" type=\"hidden\" value=\"0\"/>\n",
       "        <ul class=\"clearfix\">\n",
       "          <li class=\"ss1\"><input class=\"search-keywords\" data-rule=\"关键词:required;required2\" data-rule-required2=\"[/^[0-9a-zA-z\\u0391-\\uFFE5\\s\\[\\]\\(\\),.\\-\\/《》]+$/,'关键词不允许含有特殊字符']\" maxlength=\"30\" name=\"keywords\" placeholder=\"请输入需要搜索的关键词\" size=\"24\" type=\"text\" value=\"\"/></li>\n",
       "          <li class=\"ss2\"><input name=\"input\" style=\"font-size:0;\" type=\"submit\" value=\"搜索\"/></li>\n",
       "        </ul>\n",
       "      </form>\n",
       "    </div>\n",
       "    <!--搜索 end-->\n",
       "  </div></div>\n",
       "  <div class=\"navbox\">\n",
       "\t<div class=\"container\">\n",
       "    <div class=\"navbar navbar-default\">\n",
       "      <div class=\"container-fluid\">\n",
       "        <div class=\"navbar-header\">\n",
       "          <button aria-controls=\"navbar\" aria-expanded=\"false\" aria-label=\"主导航，当前为折叠区域\" class=\"navbar-toggle collapsed\" data-aria-method=\"true\" data-target=\"#navbar\" data-toggle=\"collapse\" type=\"button\">\n",
       "            <span class=\"icon-bar\"></span>\n",
       "            <span class=\"icon-bar\"></span>\n",
       "            <span class=\"icon-bar\"></span>\n",
       "          </button>\n",
       "          <a class=\"navbar-brand visible-phone hidden-lg hidden-md hidden-sm fonts\" href=\"/index.html\">首页</a>\n",
       "        </div>\n",
       "        <div aria-label=\"网站主目录\" class=\"navbar-collapse collapse fonts\" id=\"navbar\" role=\"navigation\">\n",
       "          <ul class=\"nav navbar-nav\">\n",
       "            <li class=\"num1 off\"><a href=\"/index.html\">网站首页</a></li>\n",
       "            <li class=\"active\"><a href=\"/xwdt/index.html\">信息发布</a></li>\n",
       "            <li class=\"active_public\"><a href=\"/public/column/2681497?type=4&amp;action=list&amp;nav=3\" target=\"_blank\">政府信息公开</a></li>\n",
       "            <li><a href=\"http://www.chuzhou.gov.cn/content/column/2983504?organId=2681497\" target=\"_blank\">互动交流</a></li>\n",
       "            <li><a href=\"http://chuz.ahzwfw.gov.cn/bog-bsdt/static/workProcess/departmentHoem.html?deptCode=34112012000000000000&amp;cityCode=341100000000&amp;cityName=%25E6%25BB%2581%25E5%25B7%259E%25E5%25B8%2582\" target=\"_blank\">办事服务</a></li>\n",
       "          </ul>\n",
       "        </div>\n",
       "      </div>\n",
       "    </div>\n",
       "  </div>\n",
       "  <!--导航 end-->\n",
       "</div>\n",
       "</div>\n",
       "<script>\n",
       "\t$(function(){\n",
       "\t\tvar module = location.pathname.substring(1, location.pathname.indexOf('/', 2));\n",
       "\t\t//只有公开网和政务服务需要执行\n",
       "\t\tif(module == 'public'){\n",
       "\t\t\t$(\"#navbar .active\" ).removeClass('active').addClass('off');\n",
       "\t\t\t$(\"#navbar .active_\" + module).addClass(\"active\").removeClass(\"off\");\n",
       "\t\t}\n",
       "\t});\n",
       "</script>\n",
       "  <!--header end-->\n",
       "  <div class=\"container\" role=\"main\">\n",
       "    <div class=\"mt20 lm-main clearfix\">\n",
       "      <!-------主内容 on------->\n",
       "      <div class=\"leftnr fl hidden-sm hidden-xs j-dg-left\" data-setting=\"{leftHeight:-2,rightHeight:-2}\">\n",
       "        <div class=\"lmtitle\">\n",
       "          <h1><!--StartLabelHtml_parentColumn_bc5c941d1b0a4df501baeeac45dc0ed7-->信息发布<!--EndLabelHtml_parentColumn_bc5c941d1b0a4df501baeeac45dc0ed7--></h1>\n",
       "        </div>\n",
       "        <div aria-label=\"子栏目\" class=\"menunr\" role=\"navigation\">\n",
       "          <ul class=\"clearfix\"><!--StartLabelHtml_peerOrChildList_f91348794f0bea661755ac82755cd61a--><li><a href=\"https://kjj.chuzhou.gov.cn/xwdt/sjdt/index.html\" title=\"本局动态\">本局动态</a></li> <li><a href=\"https://kjj.chuzhou.gov.cn/xwdt/xqdt/index.html\" title=\"县市区动态\">县市区动态</a></li> <li><a href=\"https://kjj.chuzhou.gov.cn/xwdt/kjzx/index.html\" title=\"科技资讯\">科技资讯</a></li> <li class=\"active\"><a href=\"https://kjj.chuzhou.gov.cn/tzgg/index.html\" title=\"通知公告\">通知公告</a></li> <li><a href=\"https://kjj.chuzhou.gov.cn/ztzl/bgxzzx/index.html\" title=\"表格下载\">表格下载</a></li> <li><a href=\"https://kjj.chuzhou.gov.cn/gjkjzc/index.html\" title=\"国家科技政策\">国家科技政策</a></li> <li><a href=\"https://kjj.chuzhou.gov.cn/sjkjzc/index.html\" title=\"省级科技政策\">省级科技政策</a></li> <li><a href=\"https://kjj.chuzhou.gov.cn/xwdt/szyw/index.html\" title=\"时政要闻\">时政要闻</a></li><!--EndLabelHtml_peerOrChildList_f91348794f0bea661755ac82755cd61a--></ul>\n",
       "        </div>\n",
       "      </div>\n",
       "      <div class=\"btn-group hidden-lg hidden-md\">\n",
       "        <button aria-expanded=\"false\" aria-haspopup=\"true\" aria-label=\"通知公告，当前为折叠区域\" class=\"btn btn-danger dropdown-toggle\" data-aria-method=\"true\" data-toggle=\"dropdown\" type=\"button\"> <!--StartLabelHtml_parentColumn_bc5c941d1b0a4df501baeeac45dc0ed7-->信息发布<!--EndLabelHtml_parentColumn_bc5c941d1b0a4df501baeeac45dc0ed7--><span class=\"caret\"></span></button>\n",
       "        <ul class=\"dropdown-menu\"><!--StartLabelHtml_peerOrChildList_f91348794f0bea661755ac82755cd61a--><li><a href=\"https://kjj.chuzhou.gov.cn/xwdt/sjdt/index.html\" title=\"本局动态\">本局动态</a></li> <li><a href=\"https://kjj.chuzhou.gov.cn/xwdt/xqdt/index.html\" title=\"县市区动态\">县市区动态</a></li> <li><a href=\"https://kjj.chuzhou.gov.cn/xwdt/kjzx/index.html\" title=\"科技资讯\">科技资讯</a></li> <li class=\"active\"><a href=\"https://kjj.chuzhou.gov.cn/tzgg/index.html\" title=\"通知公告\">通知公告</a></li> <li><a href=\"https://kjj.chuzhou.gov.cn/ztzl/bgxzzx/index.html\" title=\"表格下载\">表格下载</a></li> <li><a href=\"https://kjj.chuzhou.gov.cn/gjkjzc/index.html\" title=\"国家科技政策\">国家科技政策</a></li> <li><a href=\"https://kjj.chuzhou.gov.cn/sjkjzc/index.html\" title=\"省级科技政策\">省级科技政策</a></li> <li><a href=\"https://kjj.chuzhou.gov.cn/xwdt/szyw/index.html\" title=\"时政要闻\">时政要闻</a></li><!--EndLabelHtml_peerOrChildList_f91348794f0bea661755ac82755cd61a--></ul>\n",
       "      </div>\n",
       "      <div class=\"rightnr j-dg-right\">\n",
       "        <div aria-label=\"栏目路径\" class=\"wz_top\" role=\"navigation\"><span>当前位置：<a href=\"/index.html\">首页</a> &gt; <!--StartLabelHtml_nav_012de32d0c32e1795f3ef94b0bfc1097--><a href=\"https://kjj.chuzhou.gov.cn/xwdt/index.html\" title=\"信息发布\">信息发布</a> <i>&gt;</i> <a href=\"https://kjj.chuzhou.gov.cn/tzgg/index.html\" title=\"通知公告\">通知公告</a><!--EndLabelHtml_nav_012de32d0c32e1795f3ef94b0bfc1097--></span></div>\n",
       "        <style>\n",
       "    .init {\n",
       "                                    background: url();\n",
       "        width: 297px;\n",
       "        height: 297px;\n",
       "    }\n",
       "</style>\n",
       "        <div aria-label=\"信息\" class=\"listnews\" role=\"list\">\n",
       "          <!--StartLabelHtml_articleNewsPageList_3cd67bd37fb23d7a2b3c6c63e34397c5--><!--2024-03-12 12:00:38--><ul class=\"doc_list list-4298779 list2-4298779\">\n",
       "                <li class=\"odd\">\n",
       "            <a class=\"left\" href=\"https://kjj.chuzhou.gov.cn/tzgg/1104352715.html\" target=\"_blank\" title=\"2024年滁州市创新驱动发展研究院引进高层次人才公告（第一批）\">\n",
       "                                                                        <span style=\"color:;\">2024年滁州市创新驱动发展研究院引进高层次人才公告（第一批）</span>\n",
       "      </a>\n",
       "                  <span class=\"right date\">2024-03-07</span>    </li>\n",
       "    \n",
       "          <li class=\"even\">\n",
       "            <a class=\"left\" href=\"https://kjj.chuzhou.gov.cn/tzgg/1104352191.html\" target=\"_blank\" title=\"关于组织开展2024年度高新技术企业认定工作的通知\">\n",
       "                                                                        <span style=\"color:;\">关于组织开展2024年度高新技术企业认定工作的通知</span>\n",
       "      </a>\n",
       "                  <span class=\"right date\">2024-03-04</span>    </li>\n",
       "    \n",
       "              <li class=\"odd\">\n",
       "            <a class=\"left\" href=\"https://kjj.chuzhou.gov.cn/tzgg/1104350269.html\" target=\"_blank\" title=\"滁州市2024年度高层次科技人才团队申报工作指南\">\n",
       "                                                                        <span style=\"color:;\">滁州市2024年度高层次科技人才团队申报工作指南</span>\n",
       "      </a>\n",
       "                  <span class=\"right date\">2024-02-21</span>    </li>\n",
       "    \n",
       "          <li class=\"even\">\n",
       "            <a class=\"left\" href=\"https://kjj.chuzhou.gov.cn/tzgg/1104350257.html\" target=\"_blank\" title=\"关于转发《关于表扬2023年度安徽省“双倍增两清零一提升”工作先进单位和先进个人的通报》的通知\">\n",
       "                                                                        <span style=\"color:;\">关于转发《关于表扬2023年度安徽省“双倍增两清零一提升”工作先进单位和先进个人的通报》的通知</span>\n",
       "      </a>\n",
       "                  <span class=\"right date\">2024-02-21</span>    </li>\n",
       "    \n",
       "              <li class=\"odd\">\n",
       "            <a class=\"left\" href=\"https://kjj.chuzhou.gov.cn/tzgg/1104348409.html\" target=\"_blank\" title=\"滁州市拟提名2023年度安徽省科学技术奖项目公示\">\n",
       "                                                                        <span style=\"color:;\">滁州市拟提名2023年度安徽省科学技术奖项目公示</span>\n",
       "      </a>\n",
       "                  <span class=\"right date\">2024-02-01</span>    </li>\n",
       "    \n",
       "          <li class=\"even\">\n",
       "            <a class=\"left\" href=\"https://kjj.chuzhou.gov.cn/tzgg/1104347885.html\" target=\"_blank\" title=\"关于公布首批滁州市科技企业加速器备案名单的通知\">\n",
       "                                                                        <span style=\"color:;\">关于公布首批滁州市科技企业加速器备案名单的通知</span>\n",
       "      </a>\n",
       "                  <span class=\"right date\">2024-01-29</span>    </li>\n",
       "    \n",
       "              <li class=\"odd\">\n",
       "            <a class=\"left\" href=\"https://kjj.chuzhou.gov.cn/tzgg/1104347330.html\" target=\"_blank\" title=\"关于开展科技伦理管理信息登记的通知\">\n",
       "                                                                        <span style=\"color:;\">关于开展科技伦理管理信息登记的通知</span>\n",
       "      </a>\n",
       "                  <span class=\"right date\">2024-01-25</span>    </li>\n",
       "    \n",
       "          <li class=\"even\">\n",
       "            <a class=\"left\" href=\"https://kjj.chuzhou.gov.cn/tzgg/1104347321.html\" target=\"_blank\" title=\"转发省科技厅《关于转发〈负责任研究行为规范指引（2023）〉的通知》\">\n",
       "                                                                        <span style=\"color:;\">转发省科技厅《关于转发〈负责任研究行为规范指引（2023）〉的通知》</span>\n",
       "      </a>\n",
       "                  <span class=\"right date\">2024-01-25</span>    </li>\n",
       "    \n",
       "              <li class=\"odd\">\n",
       "            <a class=\"left\" href=\"https://kjj.chuzhou.gov.cn/tzgg/1104347300.html\" target=\"_blank\" title=\"关于开展2024年滁州市科技类校外培训机构消防安全专项检查行动的通知\">\n",
       "                                                                        <span style=\"color:;\">关于开展2024年滁州市科技类校外培训机构消防安全专项检查行动的通知</span>\n",
       "      </a>\n",
       "                  <span class=\"right date\">2024-01-25</span>    </li>\n",
       "    \n",
       "          <li class=\"even\">\n",
       "            <a class=\"left\" href=\"https://kjj.chuzhou.gov.cn/tzgg/1104346715.html\" target=\"_blank\" title=\"关于公布滁州市科技局权责清单、公共服务清单、行政权力中介服务清单和本系统行政许可事项清单（2023年版）及相关附件的通告\">\n",
       "                                                                        <span style=\"color:;\">关于公布滁州市科技局权责清单、公共服务清单、行政权力中介服务清单和本系统行政许可事项清单（2023年版）及相关附件的通告</span>\n",
       "      </a>\n",
       "                  <span class=\"right date\">2024-01-19</span>    </li>\n",
       "    \n",
       "              <li class=\"odd\">\n",
       "            <a class=\"left\" href=\"https://kjj.chuzhou.gov.cn/tzgg/1104346614.html\" target=\"_blank\" title=\"关于首批市科技企业加速器拟备案名单的公示\">\n",
       "                                                                        <span style=\"color:;\">关于首批市科技企业加速器拟备案名单的公示</span>\n",
       "      </a>\n",
       "                  <span class=\"right date\">2024-01-18</span>    </li>\n",
       "    \n",
       "          <li class=\"even\">\n",
       "            <a class=\"left\" href=\"https://kjj.chuzhou.gov.cn/tzgg/1104345533.html\" target=\"_blank\" title=\"关于实体经济高质量发展暨招商引资先进集体和先进个人推荐对象的公示\">\n",
       "                                                                        <span style=\"color:;\">关于实体经济高质量发展暨招商引资先进集体和先进个人推荐对象的公示</span>\n",
       "      </a>\n",
       "                  <span class=\"right date\">2024-01-10</span>    </li>\n",
       "    \n",
       "              <li class=\"odd\">\n",
       "            <a class=\"left\" href=\"https://kjj.chuzhou.gov.cn/tzgg/1104345515.html\" target=\"_blank\" title=\"关于召开2023年度省科学技术奖提名工作培训会的通知\">\n",
       "                                                                        <span style=\"color:;\">关于召开2023年度省科学技术奖提名工作培训会的通知</span>\n",
       "      </a>\n",
       "                  <span class=\"right date\">2024-01-10</span>    </li>\n",
       "    \n",
       "          <li class=\"even\">\n",
       "            <a class=\"left\" href=\"https://kjj.chuzhou.gov.cn/tzgg/1104345489.html\" target=\"_blank\" title=\"市科技局关于招才引智先进集体和先进个人推荐对象的公示\">\n",
       "                                                                        <span style=\"color:;\">市科技局关于招才引智先进集体和先进个人推荐对象的公示</span>\n",
       "      </a>\n",
       "                  <span class=\"right date\">2024-01-10</span>    </li>\n",
       "    \n",
       "              <li class=\"odd\">\n",
       "            <a class=\"left\" href=\"https://kjj.chuzhou.gov.cn/tzgg/1104344532.html\" target=\"_blank\" title=\"转发省科技厅关于开展2023年度安徽省科学技术奖提名工作的通知\">\n",
       "                                                                        <span style=\"color:;\">转发省科技厅关于开展2023年度安徽省科学技术奖提名工作的通知</span>\n",
       "      </a>\n",
       "                  <span class=\"right date\">2024-01-02</span>    </li>\n",
       "    \n",
       "          <li class=\"even\">\n",
       "            <a class=\"left\" href=\"https://kjj.chuzhou.gov.cn/tzgg/1104344396.html\" target=\"_blank\" title=\"关于认定首批滁州市企业研发中心的通知\">\n",
       "                                                                        <span style=\"color:;\">关于认定首批滁州市企业研发中心的通知</span>\n",
       "      </a>\n",
       "                  <span class=\"right date\">2024-01-02</span>    </li>\n",
       "    \n",
       "              <li class=\"odd\">\n",
       "            <a class=\"left\" href=\"https://kjj.chuzhou.gov.cn/tzgg/1104340731.html\" target=\"_blank\" title=\"关于滁州市科技企业孵化器和众创空间2022年度绩效评价结果的公示\">\n",
       "                                                                        <span style=\"color:;\">关于滁州市科技企业孵化器和众创空间2022年度绩效评价结果的公示</span>\n",
       "      </a>\n",
       "                  <span class=\"right date\">2023-12-06</span>    </li>\n",
       "    \n",
       "          <li class=\"even\">\n",
       "            <a class=\"left\" href=\"https://kjj.chuzhou.gov.cn/tzgg/1104340706.html\" target=\"_blank\" title=\"关于2023年第二批市级孵化载体拟认定备案名单的公示\">\n",
       "                                                                        <span style=\"color:;\">关于2023年第二批市级孵化载体拟认定备案名单的公示</span>\n",
       "      </a>\n",
       "                  <span class=\"right date\">2023-12-06</span>    </li>\n",
       "    \n",
       "              <li class=\"odd\">\n",
       "            <a class=\"left\" href=\"https://kjj.chuzhou.gov.cn/tzgg/1104340701.html\" target=\"_blank\" title=\"2023年滁州市科技型中小企业融资担保保费补贴公示\">\n",
       "                                                                        <span style=\"color:;\">2023年滁州市科技型中小企业融资担保保费补贴公示</span>\n",
       "      </a>\n",
       "                  <span class=\"right date\">2023-12-06</span>    </li>\n",
       "    \n",
       "          <li class=\"even\">\n",
       "            <a class=\"left\" href=\"https://kjj.chuzhou.gov.cn/tzgg/1104340696.html\" target=\"_blank\" title=\"关于首批滁州市企业研发中心拟认定名单的公示\">\n",
       "                                                                        <span style=\"color:;\">关于首批滁州市企业研发中心拟认定名单的公示</span>\n",
       "      </a>\n",
       "                  <span class=\"right date\">2023-12-06</span>    </li>\n",
       "    \n",
       "  </ul>\n",
       "    <div class=\"pagination\" id=\"page_4298779\"></div>\n",
       "  <script>\n",
       "    Ls.pagination(\"#page_4298779\", function(pageIndex) {\n",
       "      location.href = 'https://kjj.chuzhou.gov.cn/content/column/4298779?pageIndex=' + pageIndex;\n",
       "    }, {\n",
       "      isTotal: true,\n",
       "      total: 454,\n",
       "      currPage: (0+ 1),\n",
       "      pageCount:23,\n",
       "      param: \"pageSize=20\"\n",
       "    });\n",
       "  </script>\n",
       "  \n",
       "\n",
       "<script id=\"listTpl\" type=\"template\">\n",
       "  <? for(var i=0,l=data.length; i<l; i++){ ?>\n",
       "  <?\n",
       "        var el = data[i];\n",
       "    ?>\n",
       "\n",
       "  <li class=\"odd\">\n",
       "    <a href=\"https://ggzy.chuzhou.gov.cn<?=el.infourl?>\" target=\"_blank\" title=\"<?=el.title?>\" class=\"left\">\n",
       "      <span style=\"color:;\"><?=el.title?></span>\n",
       "    </a>\n",
       "    <span class=\"right date\"><?=Ls.dateFormat(el.infodate, 'yyyy-MM-dd')?></span>\n",
       "  </li>\n",
       "\n",
       "  <?}?>\n",
       "</script>\n",
       "\n",
       "<script id=\"listTplWfwg\" type=\"template\">\n",
       "  <? for(var i=0,l=data.length; i<l; i++){ ?>\n",
       "  <?\n",
       "        var el = data[i];\n",
       "    ?>\n",
       "\n",
       "  <li class=\"odd\">\n",
       "    <a href=\"https://ggzy.chuzhou.gov.cn<?=el.infourl?>\" target=\"_blank\" title=\"<?=el.title?>\" class=\"left\">\n",
       "      <span style=\"color:;\"><?=el.title?></span>\n",
       "    </a>\n",
       "    <span class=\"right date\"><?=Ls.dateFormat(el.infodate, 'yyyy-MM-dd')?></span>\n",
       "  </li>\n",
       "\n",
       "  <?}?>\n",
       "</script><!--EndLabelHtml_articleNewsPageList_3cd67bd37fb23d7a2b3c6c63e34397c5-->\n",
       "        </div>\n",
       "      </div>\n",
       "    </div>\n",
       "  </div>\n",
       "  <div class=\"clear20\"></div>\n",
       "  <!--主内容 end-->\n",
       "  <div aria-label=\"网站版权信息\" class=\"footer\" role=\"contentinfo\">\n",
       "  <div class=\"container\">\n",
       "  <span class=\"sp ex-organiser\">主办单位：滁州市科学技术局</span><span class=\"sp\">地址：龙蟠大道99号政务中心北5楼</span><span class=\"sp ex-contact\">联系电话 ：0550-3024441</span><a class=\"sp ex-site-map\" href=\"/wzdt/index.html\">网站地图</a><br/>\n",
       "  <span class=\"sp ex-site-code\">网站标识码：3411000053</span><span class=\"ex-icp-code sp\"><a href=\"https://beian.miit.gov.cn/\" rel=\"nofollow noreferrer\" target=\"_blank\">ICP备案编号：皖ICP备20006237号</a></span><a class=\"ex-pub-code sp\" href=\"http://www.beian.gov.cn/portal/registerSystemInfo?recordcode=34110302000276\" target=\"_blank\"><img alt=\"\" src=\"/_res/images/ghs.png\"/> 皖公网安备 34110302000276号</a><br/>\n",
       "  <span>本网站支持IPv6访问</span><br/>\n",
       "  <div class=\"dzjg j-gov ex-gov-mark\" data-setting=\"{sitecode:'05FDD791EDE729BDE053012819ACEB71'}\"></div>\n",
       "  <div class=\"dzjg jiucuo j-jiucuo ex-find-wrong\" data-setting=\"{sitecode:3411000053}\"></div>\n",
       "  <div class=\"wza-ico\"><img alt=\"适老化无障碍服务\" src=\"/_res/images/img-oldage.png\"/></div>\n",
       "  </div>\n",
       "</div>\n",
       "<span class=\"j-sitestats\" data-setting=\"{siteId:4294414,isTimes:false}\" style=\"display: none;\"></span>\n",
       "<span class=\"j-sitestats\" data-setting=\"{siteId:4294414,isTimes:false,ver:2}\"></span>\n",
       "<!--技术支持：龙讯科技-->\n",
       "<script>\n",
       "  (function() {\n",
       "    var wza = document.createElement(\"script\");\n",
       "    wza.src = \"/cloud_service/wza/assets/v2/web.min.js?sid=549061\";\n",
       "    var s = document.getElementsByTagName(\"script\")[0]; \n",
       "    s.parentNode.insertBefore(wza, s);\n",
       "  })();\n",
       "</script>\n",
       "  \n",
       "<script>\n",
       "  (function() {\n",
       "    var serMgr = document.createElement(\"script\");\n",
       "    serMgr.src = \"/cloud_service/assets/cloud/boot.min.js?sid=827881\";\n",
       "    var s = document.getElementsByTagName(\"script\")[0]; \n",
       "    s.parentNode.insertBefore(serMgr, s);\n",
       "  })();\n",
       "</script>\n",
       "  <!--底部 end-->\n",
       "</div>\n",
       "\n",
       "</body></html>"
      ]
     },
     "execution_count": 72,
     "metadata": {},
     "output_type": "execute_result"
    }
   ],
   "source": [
    "page_num = 1\n",
    "url_index = f\"https://kjj.chuzhou.gov.cn/tzgg/index.html\"\n",
    "\n",
    "# 访问链接\n",
    "bs, response = get_bs(url_index)\n",
    "\n",
    "bs\n"
   ]
  },
  {
   "cell_type": "code",
   "execution_count": 73,
   "metadata": {},
   "outputs": [
    {
     "name": "stdout",
     "output_type": "stream",
     "text": [
      "20 20\n"
     ]
    }
   ],
   "source": [
    "text_list = bs.select(\".doc_list.list-4298779.list2-4298779 li a\")\n",
    "time_list = bs.select(\".doc_list.list-4298779.list2-4298779 li span.right.date\")\n",
    "\n",
    "print(len(text_list), len(time_list))"
   ]
  },
  {
   "cell_type": "code",
   "execution_count": 74,
   "metadata": {},
   "outputs": [
    {
     "data": {
      "text/plain": [
       "[<a class=\"left\" href=\"https://kjj.chuzhou.gov.cn/tzgg/1104352715.html\" target=\"_blank\" title=\"2024年滁州市创新驱动发展研究院引进高层次人才公告（第一批）\">\n",
       "                                                                         <span style=\"color:;\">2024年滁州市创新驱动发展研究院引进高层次人才公告（第一批）</span>\n",
       "       </a>,\n",
       " <a class=\"left\" href=\"https://kjj.chuzhou.gov.cn/tzgg/1104352191.html\" target=\"_blank\" title=\"关于组织开展2024年度高新技术企业认定工作的通知\">\n",
       "                                                                         <span style=\"color:;\">关于组织开展2024年度高新技术企业认定工作的通知</span>\n",
       "       </a>,\n",
       " <a class=\"left\" href=\"https://kjj.chuzhou.gov.cn/tzgg/1104350269.html\" target=\"_blank\" title=\"滁州市2024年度高层次科技人才团队申报工作指南\">\n",
       "                                                                         <span style=\"color:;\">滁州市2024年度高层次科技人才团队申报工作指南</span>\n",
       "       </a>,\n",
       " <a class=\"left\" href=\"https://kjj.chuzhou.gov.cn/tzgg/1104350257.html\" target=\"_blank\" title=\"关于转发《关于表扬2023年度安徽省“双倍增两清零一提升”工作先进单位和先进个人的通报》的通知\">\n",
       "                                                                         <span style=\"color:;\">关于转发《关于表扬2023年度安徽省“双倍增两清零一提升”工作先进单位和先进个人的通报》的通知</span>\n",
       "       </a>,\n",
       " <a class=\"left\" href=\"https://kjj.chuzhou.gov.cn/tzgg/1104348409.html\" target=\"_blank\" title=\"滁州市拟提名2023年度安徽省科学技术奖项目公示\">\n",
       "                                                                         <span style=\"color:;\">滁州市拟提名2023年度安徽省科学技术奖项目公示</span>\n",
       "       </a>,\n",
       " <a class=\"left\" href=\"https://kjj.chuzhou.gov.cn/tzgg/1104347885.html\" target=\"_blank\" title=\"关于公布首批滁州市科技企业加速器备案名单的通知\">\n",
       "                                                                         <span style=\"color:;\">关于公布首批滁州市科技企业加速器备案名单的通知</span>\n",
       "       </a>,\n",
       " <a class=\"left\" href=\"https://kjj.chuzhou.gov.cn/tzgg/1104347330.html\" target=\"_blank\" title=\"关于开展科技伦理管理信息登记的通知\">\n",
       "                                                                         <span style=\"color:;\">关于开展科技伦理管理信息登记的通知</span>\n",
       "       </a>,\n",
       " <a class=\"left\" href=\"https://kjj.chuzhou.gov.cn/tzgg/1104347321.html\" target=\"_blank\" title=\"转发省科技厅《关于转发〈负责任研究行为规范指引（2023）〉的通知》\">\n",
       "                                                                         <span style=\"color:;\">转发省科技厅《关于转发〈负责任研究行为规范指引（2023）〉的通知》</span>\n",
       "       </a>,\n",
       " <a class=\"left\" href=\"https://kjj.chuzhou.gov.cn/tzgg/1104347300.html\" target=\"_blank\" title=\"关于开展2024年滁州市科技类校外培训机构消防安全专项检查行动的通知\">\n",
       "                                                                         <span style=\"color:;\">关于开展2024年滁州市科技类校外培训机构消防安全专项检查行动的通知</span>\n",
       "       </a>,\n",
       " <a class=\"left\" href=\"https://kjj.chuzhou.gov.cn/tzgg/1104346715.html\" target=\"_blank\" title=\"关于公布滁州市科技局权责清单、公共服务清单、行政权力中介服务清单和本系统行政许可事项清单（2023年版）及相关附件的通告\">\n",
       "                                                                         <span style=\"color:;\">关于公布滁州市科技局权责清单、公共服务清单、行政权力中介服务清单和本系统行政许可事项清单（2023年版）及相关附件的通告</span>\n",
       "       </a>,\n",
       " <a class=\"left\" href=\"https://kjj.chuzhou.gov.cn/tzgg/1104346614.html\" target=\"_blank\" title=\"关于首批市科技企业加速器拟备案名单的公示\">\n",
       "                                                                         <span style=\"color:;\">关于首批市科技企业加速器拟备案名单的公示</span>\n",
       "       </a>,\n",
       " <a class=\"left\" href=\"https://kjj.chuzhou.gov.cn/tzgg/1104345533.html\" target=\"_blank\" title=\"关于实体经济高质量发展暨招商引资先进集体和先进个人推荐对象的公示\">\n",
       "                                                                         <span style=\"color:;\">关于实体经济高质量发展暨招商引资先进集体和先进个人推荐对象的公示</span>\n",
       "       </a>,\n",
       " <a class=\"left\" href=\"https://kjj.chuzhou.gov.cn/tzgg/1104345515.html\" target=\"_blank\" title=\"关于召开2023年度省科学技术奖提名工作培训会的通知\">\n",
       "                                                                         <span style=\"color:;\">关于召开2023年度省科学技术奖提名工作培训会的通知</span>\n",
       "       </a>,\n",
       " <a class=\"left\" href=\"https://kjj.chuzhou.gov.cn/tzgg/1104345489.html\" target=\"_blank\" title=\"市科技局关于招才引智先进集体和先进个人推荐对象的公示\">\n",
       "                                                                         <span style=\"color:;\">市科技局关于招才引智先进集体和先进个人推荐对象的公示</span>\n",
       "       </a>,\n",
       " <a class=\"left\" href=\"https://kjj.chuzhou.gov.cn/tzgg/1104344532.html\" target=\"_blank\" title=\"转发省科技厅关于开展2023年度安徽省科学技术奖提名工作的通知\">\n",
       "                                                                         <span style=\"color:;\">转发省科技厅关于开展2023年度安徽省科学技术奖提名工作的通知</span>\n",
       "       </a>,\n",
       " <a class=\"left\" href=\"https://kjj.chuzhou.gov.cn/tzgg/1104344396.html\" target=\"_blank\" title=\"关于认定首批滁州市企业研发中心的通知\">\n",
       "                                                                         <span style=\"color:;\">关于认定首批滁州市企业研发中心的通知</span>\n",
       "       </a>,\n",
       " <a class=\"left\" href=\"https://kjj.chuzhou.gov.cn/tzgg/1104340731.html\" target=\"_blank\" title=\"关于滁州市科技企业孵化器和众创空间2022年度绩效评价结果的公示\">\n",
       "                                                                         <span style=\"color:;\">关于滁州市科技企业孵化器和众创空间2022年度绩效评价结果的公示</span>\n",
       "       </a>,\n",
       " <a class=\"left\" href=\"https://kjj.chuzhou.gov.cn/tzgg/1104340706.html\" target=\"_blank\" title=\"关于2023年第二批市级孵化载体拟认定备案名单的公示\">\n",
       "                                                                         <span style=\"color:;\">关于2023年第二批市级孵化载体拟认定备案名单的公示</span>\n",
       "       </a>,\n",
       " <a class=\"left\" href=\"https://kjj.chuzhou.gov.cn/tzgg/1104340701.html\" target=\"_blank\" title=\"2023年滁州市科技型中小企业融资担保保费补贴公示\">\n",
       "                                                                         <span style=\"color:;\">2023年滁州市科技型中小企业融资担保保费补贴公示</span>\n",
       "       </a>,\n",
       " <a class=\"left\" href=\"https://kjj.chuzhou.gov.cn/tzgg/1104340696.html\" target=\"_blank\" title=\"关于首批滁州市企业研发中心拟认定名单的公示\">\n",
       "                                                                         <span style=\"color:;\">关于首批滁州市企业研发中心拟认定名单的公示</span>\n",
       "       </a>]"
      ]
     },
     "execution_count": 74,
     "metadata": {},
     "output_type": "execute_result"
    }
   ],
   "source": [
    "text_list"
   ]
  },
  {
   "cell_type": "code",
   "execution_count": 75,
   "metadata": {},
   "outputs": [
    {
     "data": {
      "text/plain": [
       "'滁州市2024年度高层次科技人才团队申报工作指南'"
      ]
     },
     "execution_count": 75,
     "metadata": {},
     "output_type": "execute_result"
    }
   ],
   "source": [
    "text_list[2]['title'].strip().replace('·', '').replace('\\n', '')"
   ]
  },
  {
   "cell_type": "code",
   "execution_count": 76,
   "metadata": {},
   "outputs": [
    {
     "data": {
      "text/plain": [
       "'https://kjj.chuzhou.gov.cn/tzgg/1104350257.html'"
      ]
     },
     "execution_count": 76,
     "metadata": {},
     "output_type": "execute_result"
    }
   ],
   "source": [
    "text_list[3]['href']"
   ]
  },
  {
   "cell_type": "code",
   "execution_count": 77,
   "metadata": {},
   "outputs": [
    {
     "data": {
      "text/plain": [
       "[<span class=\"right date\">2024-03-07</span>,\n",
       " <span class=\"right date\">2024-03-04</span>,\n",
       " <span class=\"right date\">2024-02-21</span>,\n",
       " <span class=\"right date\">2024-02-21</span>,\n",
       " <span class=\"right date\">2024-02-01</span>,\n",
       " <span class=\"right date\">2024-01-29</span>,\n",
       " <span class=\"right date\">2024-01-25</span>,\n",
       " <span class=\"right date\">2024-01-25</span>,\n",
       " <span class=\"right date\">2024-01-25</span>,\n",
       " <span class=\"right date\">2024-01-19</span>,\n",
       " <span class=\"right date\">2024-01-18</span>,\n",
       " <span class=\"right date\">2024-01-10</span>,\n",
       " <span class=\"right date\">2024-01-10</span>,\n",
       " <span class=\"right date\">2024-01-10</span>,\n",
       " <span class=\"right date\">2024-01-02</span>,\n",
       " <span class=\"right date\">2024-01-02</span>,\n",
       " <span class=\"right date\">2023-12-06</span>,\n",
       " <span class=\"right date\">2023-12-06</span>,\n",
       " <span class=\"right date\">2023-12-06</span>,\n",
       " <span class=\"right date\">2023-12-06</span>]"
      ]
     },
     "execution_count": 77,
     "metadata": {},
     "output_type": "execute_result"
    }
   ],
   "source": [
    "time_list"
   ]
  },
  {
   "cell_type": "code",
   "execution_count": 63,
   "metadata": {},
   "outputs": [
    {
     "data": {
      "text/plain": [
       "'2024-03-29'"
      ]
     },
     "execution_count": 63,
     "metadata": {},
     "output_type": "execute_result"
    }
   ],
   "source": [
    "time_list[1].get_text(strip=True)"
   ]
  },
  {
   "cell_type": "code",
   "execution_count": 64,
   "metadata": {},
   "outputs": [
    {
     "ename": "TypeError",
     "evalue": "'NoneType' object is not subscriptable",
     "output_type": "error",
     "traceback": [
      "\u001b[0;31m---------------------------------------------------------------------------\u001b[0m",
      "\u001b[0;31mTypeError\u001b[0m                                 Traceback (most recent call last)",
      "Cell \u001b[0;32mIn[64], line 1\u001b[0m\n\u001b[0;32m----> 1\u001b[0m \u001b[43mbs\u001b[49m\u001b[38;5;241;43m.\u001b[39;49m\u001b[43mfind\u001b[49m\u001b[43m(\u001b[49m\u001b[38;5;124;43m'\u001b[39;49m\u001b[38;5;124;43ma\u001b[39;49m\u001b[38;5;124;43m'\u001b[39;49m\u001b[43m,\u001b[49m\u001b[43m \u001b[49m\u001b[43m{\u001b[49m\u001b[38;5;124;43m'\u001b[39;49m\u001b[38;5;124;43mclass\u001b[39;49m\u001b[38;5;124;43m'\u001b[39;49m\u001b[43m:\u001b[49m\u001b[43m \u001b[49m\u001b[38;5;124;43m'\u001b[39;49m\u001b[38;5;124;43mnext\u001b[39;49m\u001b[38;5;124;43m'\u001b[39;49m\u001b[43m}\u001b[49m\u001b[43m)\u001b[49m\u001b[43m[\u001b[49m\u001b[38;5;124;43m'\u001b[39;49m\u001b[38;5;124;43mhref\u001b[39;49m\u001b[38;5;124;43m'\u001b[39;49m\u001b[43m]\u001b[49m\n",
      "\u001b[0;31mTypeError\u001b[0m: 'NoneType' object is not subscriptable"
     ]
    }
   ],
   "source": [
    "bs.find('a', {'class': 'next'})['href']"
   ]
  },
  {
   "cell_type": "code",
   "execution_count": 27,
   "metadata": {},
   "outputs": [
    {
     "data": {
      "text/plain": [
       "'https://im.dg.gov.cn/dtxw/tzgg/content/post_4183329.html'"
      ]
     },
     "execution_count": 27,
     "metadata": {},
     "output_type": "execute_result"
    }
   ],
   "source": [
    "time_list[0].find('a').get('href')"
   ]
  },
  {
   "cell_type": "code",
   "execution_count": 28,
   "metadata": {},
   "outputs": [
    {
     "data": {
      "text/plain": [
       "<a class=\"next\" href=\"https://im.dg.gov.cn/dtxw/tzgg/index_2.html\" id=\"next\">\n",
       "                                    下一页\n",
       "                                </a>"
      ]
     },
     "execution_count": 28,
     "metadata": {},
     "output_type": "execute_result"
    }
   ],
   "source": [
    "bs.find('a', {'class': 'next'})"
   ]
  },
  {
   "cell_type": "code",
   "execution_count": null,
   "metadata": {},
   "outputs": [],
   "source": []
  }
 ],
 "metadata": {
  "kernelspec": {
   "display_name": "spider",
   "language": "python",
   "name": "python3"
  },
  "language_info": {
   "codemirror_mode": {
    "name": "ipython",
    "version": 3
   },
   "file_extension": ".py",
   "mimetype": "text/x-python",
   "name": "python",
   "nbconvert_exporter": "python",
   "pygments_lexer": "ipython3",
   "version": "3.10.14"
  }
 },
 "nbformat": 4,
 "nbformat_minor": 2
}
