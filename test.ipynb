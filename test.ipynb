{
 "cells": [
  {
   "cell_type": "code",
   "execution_count": 1,
   "metadata": {},
   "outputs": [],
   "source": [
    "import requests\n",
    "import datetime\n",
    "import time\n",
    "import sys\n",
    "import io\n",
    "import re\n",
    "import argparse\n",
    "from bs4 import BeautifulSoup\n",
    "import random\n",
    "from utils import sleep_time, title_pattern, content_pattern, write_file, now, MyHeaders, logger, timeout\n"
   ]
  },
  {
   "cell_type": "code",
   "execution_count": 2,
   "metadata": {},
   "outputs": [],
   "source": [
    "def get_bs(url):\n",
    "    headers = {'User-Agent': random.choice(MyHeaders)}\n",
    "    response = requests.get(url, headers=headers, verify=False)\n",
    "    response.encoding = 'utf-8'\n",
    "    bs = BeautifulSoup(response.content, 'html5lib')\n",
    "\n",
    "    return bs, response"
   ]
  },
  {
   "cell_type": "code",
   "execution_count": 33,
   "metadata": {},
   "outputs": [
    {
     "name": "stderr",
     "output_type": "stream",
     "text": [
      "/home/zouyou/miniconda3/envs/spider/lib/python3.10/site-packages/urllib3/connectionpool.py:1103: InsecureRequestWarning: Unverified HTTPS request is being made to host 'dgstb.dg.gov.cn'. Adding certificate verification is strongly advised. See: https://urllib3.readthedocs.io/en/latest/advanced-usage.html#tls-warnings\n",
      "  warnings.warn(\n"
     ]
    },
    {
     "data": {
      "text/plain": [
       "<!DOCTYPE html>\n",
       "<html><head>\n",
       "\t\t<meta charset=\"utf-8\"/>\n",
       "\t\t<meta content=\"width=device-width, initial-scale=1.0, maximum-scale=1.0, user-scalable=0\" name=\"viewport\"/>\n",
       "\t\t \n",
       "<meta content=\"东莞市科学技术局网站\" name=\"SiteName\"/>\n",
       "<meta content=\"dgstb.dg.gov.cn\" name=\"SiteDomain\"/>\n",
       "<meta content=\"4419000039\" name=\"SiteIDCode\"/>\n",
       "<meta content=\"通知公告\" name=\"ColumnName\"/>\n",
       "<meta content=\"提供市政府组织机构、人事、财政、法规等相关信息\" name=\"ColumnDescription\"/>\n",
       "<meta content=\"政务信息公开\" name=\"ColumnKeywords\"/>\n",
       "<meta content=\"通知公告\" name=\"ColumnType\"/>\n",
       "<meta content=\"\" name=\"Keywords\"/>\n",
       "<meta content=\"\" name=\"description\"/><script>window.NFCMS_SITE_ID=769014;window.NFCMS_PUB_TYPE=\"cat\";window.NFCMS_CAT_ID=\"5744\";</script><script async=\"\" src=\"//statistics.gd.gov.cn/scripts/s.js?t=1712127447\"></script>\n",
       "\n",
       "\t\t <title>东莞市科学技术局网站</title>\n",
       "\t\t<link href=\"/2022css/common.css\" rel=\"stylesheet\" type=\"text/css\"/>\n",
       "\t\t<link href=\"/2022css/common_responsive.css\" rel=\"stylesheet\" type=\"text/css\"/>\n",
       "\t\t<link href=\"/2022css/list.css\" rel=\"stylesheet\" type=\"text/css\"/>\n",
       "\t\t<script src=\"/2022js/jquery.min.js\" type=\"text/javascript\"></script>\n",
       "\t\t<script src=\"/2022js/jquery.migrate.min.js\" type=\"text/javascript\"></script>\n",
       "\t\t<script src=\"/2022js/jquery.SuperSlide.2.1.1.js\" type=\"text/javascript\"></script>\n",
       "\t\t<script src=\"/2022js/sidebar.js\" type=\"text/javascript\"></script>\n",
       "\t\t<script>\n",
       "\t\t    var channelId = \"5744\",\n",
       "\t\t      parentId = \"5743\";\n",
       "\t\t  </script>\n",
       "\t</head>\n",
       "\t<body>\n",
       "\t\t<style>.guidan{position:absolute;top:410px;right:100px;width:272px;height:154px;background:url(/images/guidang.png) no-repeat 0}</style>\n",
       "\t\t \n",
       "\t\t<!-- 归档代码结束 -->\n",
       "\t\t<!--header start-->\n",
       "\t\t\n",
       "<meta charset=\"utf-8\"/>\n",
       "<script async=\"\" charset=\"utf-8\" defer=\"\" src=\"//gov.govwza.cn/dist/aria.js?appid=7c850f849596e2754519d0fe74ed021d\" type=\"text/javascript\"></script>\n",
       "<div class=\"headerbox\">\n",
       "\t\t\t<div class=\"bannerbox\">\n",
       "\t\t\t\t<div class=\"container\">\n",
       "\t\t\t\t\t<div class=\"header_link\" style=\"display:block!important\">\n",
       "\t\t\t\t\t\t<ul>\n",
       "\t\t\t\t\t\t\t<li class=\"zwyx\"><a href=\"https://mail.dg.gov.cn/webmail/login/login.do\" target=\"_blank\">政务邮箱</a></li>\n",
       "\t\t\t\t\t\t\t<li class=\"wza\"><a href=\"javascript:;\" onclick=\"aria.start()\">无障碍</a></li>\n",
       "\t\t\t\t\t\t\t<li class=\"ghb\"><a href=\"javascript:;\" onclick=\"aria.oldFixedStart()\" style=\"padding-left:6px\">关怀版</a></li>\n",
       "\t\t\t\t\t\t\t<li class=\"fjt\"><a href=\"javascript:FJTBody()\" id=\"FJTLink\">繁体</a></li>\n",
       "\t\t\t\t\t\t</ul>\n",
       "\t\t\t\t\t</div>\n",
       "\t\t\t\t\t<div class=\"logo\"><img src=\"/2022images/logo.png\"/></div>\n",
       "\t\t\t\t\t<div class=\"banner_m\"><img src=\"/2022images/banner_m.png\"/></div>\n",
       "\t\t\t\t</div>\n",
       "\t\t\t</div>\n",
       "\t\t\t<div class=\"navbarbox\">\n",
       "\t\t\t\t<div class=\"container\">\n",
       "\t\t\t\t\t<ul>\n",
       "\t\t\t\t\t\t\n",
       "\t\t\t\t\t\t<li class=\"li01\">\n",
       "\t\t\t\t\t\t\t<a href=\"/\" target=\"_parent\">首页</a>\n",
       "\t\t\t\t\t\t</li>\n",
       "\t\t\t\t\t\t<li class=\"li02\">\n",
       "\t\t\t\t\t\t\t<a href=\"http://dgstb.dg.gov.cn/xxgk/index.html\" target=\"_blank\">信息公开</a>\t\t\t\t\t\t\t\n",
       "\t\t\t\t\t\t</li>\n",
       "\t\t\t\t\t\t<li class=\"li03\">\n",
       "\t\t\t\t\t\t\t<a href=\"http://dgstb.dg.gov.cn/zwfw/index.html\" target=\"_blank\">政务服务</a>\t\t\t\t\t\t\t\n",
       "\t\t\t\t\t\t</li>\n",
       "\t\t\t\t\t\t<li class=\"li04\">\n",
       "\t\t\t\t\t\t\t<a href=\"http://dgstb.dg.gov.cn/xxgk/ztzl/dflz/index.html\" target=\"_blank\">党风廉政</a>\t\t\t\t\t\t\t\n",
       "\t\t\t\t\t\t</li>\n",
       "\t\t\t\t\t\t<li class=\"li05\">\n",
       "\t\t\t\t\t\t\t<a href=\"http://dgstb.dg.gov.cn/gzcy/index.html\" target=\"_blank\">公众参与</a>\t\t\t\t\t\t\t\n",
       "\t\t\t\t\t\t</li>\n",
       "\t\t\t\t\t</ul>\n",
       "\t\t\t\t\t<form action=\"\" id=\"searchForm\" method=\"get\" name=\"searchForm\" onkeypress=\"if(event.keyCode==13){jmpser();}\" onsubmit=\"return false;\" target=\"_blank\">\n",
       "\t\t\t\t\t<div class=\"searchbox\">\n",
       "\t\t\t\t\t\t<input name=\"siteCode\" type=\"hidden\" value=\"4419000039\"/>\n",
       "\t\t\t\t\t\t<input class=\"input_text\" name=\"keywords\" onblur=\"if(this.value==''){this.value='请输入您要搜索的关键字'}\" onfocus=\"this.value=''\" type=\"text\" value=\"请输入您要搜索的关键字\"/>\n",
       "\t\t\t\t\t\t<input class=\"input_but\" onclick=\"jmpser();\" type=\"button\"/>\n",
       "\t\t\t\t\t</div>\n",
       "\t\t\t\t\t</form>\n",
       "\t\t\t\t</div>\n",
       "\t\t\t</div>\n",
       "\t\t</div>\n",
       "\t\t<script src=\"/2022js/transform.js\" type=\"text/javascript\"></script>\n",
       "\t\t<!-- <script src=\"http://service.gd.gov.cn/wza/wza_func.js?app=dgstb-dg\" referrerpolicy=\"origin\"></script>\n",
       "\t\t<script src=\"//service.gd.gov.cn/wza/wza.js?app=dgstb-dg\"></script> -->\n",
       "\t\t<script type=\"text/javascript\">\n",
       "\t\t                            function jmpser() {\n",
       "\t\t                                if (document.all.searchForm.keywords.value == \"请输入您要搜索的关键字\") {\n",
       "\t\t                                    alert(\"请输入您要搜索的关键字\");\n",
       "\t\t                                    return;\n",
       "\t\t                                }\n",
       "\t\t\n",
       "\t\t                                document.all.searchForm.action = \"http://search.gd.gov.cn/search/all/769014/\";\n",
       "\t\t                                document.all.searchForm.submit();\n",
       "\t\t\n",
       "\t\t                            }\n",
       "\t\t </script>\n",
       "\t\t<!--header end-->\n",
       "\t\t<div class=\"clear\"></div>\n",
       "\n",
       "\t\t<div class=\"mainBox\">\n",
       "\t\t\t<div class=\"container\">\n",
       "\t\t\t\t<div class=\"sideBar mobile-sideBar\">\n",
       "\t\t\t\t\t<div class=\"in_box mobile-sideBar-over\">\n",
       "\t\t\t\t\t\t<div class=\"mobile-sideBar-scroll\">\n",
       "\t\t\t\t\t\t\t<div class=\"parentname dflzname\">\n",
       "\t\t\t\t\t\t\t  <span id=\"sidetitle\"></span>\n",
       "\t\t\t\t\t\t\t</div>\n",
       "\t\t\t\t\t\t\t<ul class=\"sideMenu transition clearfix\" id=\"sideMenu\">\n",
       "\t\t\t\t\t\t\t\t\n",
       "\t\t\t\t\t\t\t</ul>\n",
       "\t\t\t\t\t\t</div>\n",
       "\t\t\t\t\t</div>\n",
       "\t\t\t\t\t<!-- 展开侧边导航按钮 -->\n",
       "\t\t\t\t\t<div class=\"mobile-sideBar-icon\"></div>\n",
       "\t\t\t\t\t<div class=\"mobile-sideBar-mark\"></div>\n",
       "\t\t\t\t\t<!-- 展开侧边导航按钮 End -->\n",
       "\t\t\t\t</div>\n",
       "\t\t\t\t<div class=\"mainContent\">\n",
       "\t\t\t\t\t<div class=\"crumb js-crumb\">\n",
       "\t\t\t\t\t  \n",
       "\t\t\t\t\t    <h2>\n",
       "\t\t\t\t\t      您当前的位置：<a href=\"http://dgstb.dg.gov.cn/\">首页</a> &gt; <a href=\"http://dgstb.dg.gov.cn/xxgk\">信息公开</a> &gt; <a href=\"http://dgstb.dg.gov.cn/gkmlpt/index\">政府信息公开</a> &gt; <a href=\"http://dgstb.dg.gov.cn/gkmlpt/index\">政府信息公开目录</a> &gt; <a href=\"http://dgstb.dg.gov.cn/xxgk/zfxxgk/zfxxgkml/qt\">其他</a> &gt; <a href=\"http://dgstb.dg.gov.cn/xxgk/zfxxgk/zfxxgkml/qt/tzgg\">通知公告</a>\n",
       "\t\t\t\t\t    </h2>\n",
       "\t\t\t\t\t  </div>\n",
       "\t\t\t\t\t<div class=\"inBox\">\n",
       "\t\t\t\t\t\t<!-- head -->\n",
       "\t\t\t\t\t\t<div class=\"page-title clearfix\">\n",
       "\t\t\t\t\t\t\t<h2>\n",
       "\t\t\t\t\t\t\t\t<font>通知公告 </font>\n",
       "\t\t\t\t\t\t\t</h2>\n",
       "\t\t\t\t\t\t</div>\n",
       "\t\t\t\t\t\t<!-- head End -->\n",
       "\t\t\t\t\t\t<!-- list -->\n",
       "\t\t\t\t\t\t<div class=\"pageList split\">\t\n",
       "\t\t\t\t\t\t\t<ul>\n",
       "\t\t\t\t\t\t\t\t\t\t\t\t\t\t\t<li>\n",
       "\t\t\t\t\t\t\t\t\t<a href=\"http://dgstb.dg.gov.cn/xxgk/zfxxgk/zfxxgkml/qt/tzgg/content/post_4140158.html\" target=\"_blank\" title=\"东莞市科学技术局2023年政府网站工作年度报表\">\n",
       "\t\t\t\t\t\t\t\t\t\t东莞市科学技术局2023年政府网站工作年度报表</a>\n",
       "\t\t\t\t\t\t\t\t\t<span class=\"time\">2024-01-15</span>\n",
       "\t\t\t\t\t\t\t\t</li>\n",
       "\t\t\t\t\t\t\t\t\t\t\t\t\t\t\t<li>\n",
       "\t\t\t\t\t\t\t\t\t<a href=\"http://dgstb.dg.gov.cn/xxgk/zfxxgk/zfxxgkml/qt/tzgg/content/post_4182806.html\" target=\"_blank\" title=\"关于开展2024年高新技术企业认定相关政策第一轮分片区辅导培训的通知\">\n",
       "\t\t\t\t\t\t\t\t\t\t关于开展2024年高新技术企业认定相关政策第一轮分片区辅导培训的通知</a>\n",
       "\t\t\t\t\t\t\t\t\t<span class=\"time\">2024-04-02</span>\n",
       "\t\t\t\t\t\t\t\t</li>\n",
       "\t\t\t\t\t\t\t\t\t\t\t\t\t\t\t<li>\n",
       "\t\t\t\t\t\t\t\t\t<a href=\"http://dgstb.dg.gov.cn/xxgk/zfxxgk/zfxxgkml/qt/tzgg/content/post_4182492.html\" target=\"_blank\" title=\"市科技局关于受理2024年东莞市新型研发机构认定申报工作的通知\">\n",
       "\t\t\t\t\t\t\t\t\t\t市科技局关于受理2024年东莞市新型研发机构认定申报工作的通知</a>\n",
       "\t\t\t\t\t\t\t\t\t<span class=\"time\">2024-04-02</span>\n",
       "\t\t\t\t\t\t\t\t</li>\n",
       "\t\t\t\t\t\t\t\t\t\t\t\t\t\t\t<li>\n",
       "\t\t\t\t\t\t\t\t\t<a href=\"http://dgstb.dg.gov.cn/xxgk/zfxxgk/zfxxgkml/qt/tzgg/content/post_4181445.html\" target=\"_blank\" title=\"市科技局关于做好东莞市2024年高新技术企业认定工作的通知\">\n",
       "\t\t\t\t\t\t\t\t\t\t市科技局关于做好东莞市2024年高新技术企业认定工作的通知</a>\n",
       "\t\t\t\t\t\t\t\t\t<span class=\"time\">2024-04-01</span>\n",
       "\t\t\t\t\t\t\t\t</li>\n",
       "\t\t\t\t\t\t\t\t\t\t\t\t\t\t\t<li>\n",
       "\t\t\t\t\t\t\t\t\t<a href=\"http://dgstb.dg.gov.cn/xxgk/zfxxgk/zfxxgkml/qt/tzgg/content/post_4180849.html\" target=\"_blank\" title=\"市科技局关于召开2024年市重大科技项目（第二批）申报说明会的通知\">\n",
       "\t\t\t\t\t\t\t\t\t\t市科技局关于召开2024年市重大科技项目（第二批）申报说明会的通知</a>\n",
       "\t\t\t\t\t\t\t\t\t<span class=\"time\">2024-03-29</span>\n",
       "\t\t\t\t\t\t\t\t</li>\n",
       "\t\t\t\t\t\t\t\t\t\t\t\t\t\t\t<li>\n",
       "\t\t\t\t\t\t\t\t\t<a href=\"http://dgstb.dg.gov.cn/xxgk/zfxxgk/zfxxgkml/qt/tzgg/content/post_4180270.html\" target=\"_blank\" title=\"东莞市科学技术局关于2024年重大行政决策事项目录的公告\">\n",
       "\t\t\t\t\t\t\t\t\t\t东莞市科学技术局关于2024年重大行政决策事项目录的公告</a>\n",
       "\t\t\t\t\t\t\t\t\t<span class=\"time\">2024-03-28</span>\n",
       "\t\t\t\t\t\t\t\t</li>\n",
       "\t\t\t\t\t\t\t\t\t\t\t\t\t\t\t<li>\n",
       "\t\t\t\t\t\t\t\t\t<a href=\"http://dgstb.dg.gov.cn/xxgk/zfxxgk/zfxxgkml/qt/tzgg/content/post_4177039.html\" target=\"_blank\" title=\"2024年东莞市暖工稳产促消费规上科学研究和技术服务业企业营收增量奖励项目操作指南\">\n",
       "\t\t\t\t\t\t\t\t\t\t2024年东莞市暖工稳产促消费规上科学研究和技术服务业企业营收增量奖励项目操作指南</a>\n",
       "\t\t\t\t\t\t\t\t\t<span class=\"time\">2024-03-25</span>\n",
       "\t\t\t\t\t\t\t\t</li>\n",
       "\t\t\t\t\t\t\t\t\t\t\t\t\t\t\t<li>\n",
       "\t\t\t\t\t\t\t\t\t<a href=\"http://dgstb.dg.gov.cn/xxgk/zfxxgk/zfxxgkml/qt/tzgg/content/post_4176072.html\" target=\"_blank\" title=\"市科技局关于组织开展科技企业孵化载体延展空间备案申报工作的通知\">\n",
       "\t\t\t\t\t\t\t\t\t\t市科技局关于组织开展科技企业孵化载体延展空间备案申报工作的通知</a>\n",
       "\t\t\t\t\t\t\t\t\t<span class=\"time\">2024-03-22</span>\n",
       "\t\t\t\t\t\t\t\t</li>\n",
       "\t\t\t\t\t\t\t\t\t\t\t\t\t\t\t<li>\n",
       "\t\t\t\t\t\t\t\t\t<a href=\"http://dgstb.dg.gov.cn/xxgk/zfxxgk/zfxxgkml/qt/tzgg/content/post_4175847.html\" target=\"_blank\" title=\"退回财政拨款通知书送达公告         （东莞市邦臣光电有限公司）\">\n",
       "\t\t\t\t\t\t\t\t\t\t退回财政拨款通知书送达公告         （东莞市邦臣光电有限公司）</a>\n",
       "\t\t\t\t\t\t\t\t\t<span class=\"time\">2024-03-22</span>\n",
       "\t\t\t\t\t\t\t\t</li>\n",
       "\t\t\t\t\t\t\t\t\t\t\t\t\t\t\t<li>\n",
       "\t\t\t\t\t\t\t\t\t<a href=\"http://dgstb.dg.gov.cn/xxgk/zfxxgk/zfxxgkml/qt/tzgg/content/post_4175842.html\" target=\"_blank\" title=\"退回财政拨款通知书送达公告         （东莞市星宇光电科技有限公司）\">\n",
       "\t\t\t\t\t\t\t\t\t\t退回财政拨款通知书送达公告         （东莞市星宇光电科技有限公司）</a>\n",
       "\t\t\t\t\t\t\t\t\t<span class=\"time\">2024-03-22</span>\n",
       "\t\t\t\t\t\t\t\t</li>\n",
       "\t\t\t\t\t\t\t\t\t\t\t\t\t\t\t<li>\n",
       "\t\t\t\t\t\t\t\t\t<a href=\"http://dgstb.dg.gov.cn/xxgk/zfxxgk/zfxxgkml/qt/tzgg/content/post_4175764.html\" target=\"_blank\" title=\"市科技局关于下达2023年度东莞市市级新型研发机构认定名单的通知\">\n",
       "\t\t\t\t\t\t\t\t\t\t市科技局关于下达2023年度东莞市市级新型研发机构认定名单的通知</a>\n",
       "\t\t\t\t\t\t\t\t\t<span class=\"time\">2024-03-22</span>\n",
       "\t\t\t\t\t\t\t\t</li>\n",
       "\t\t\t\t\t\t\t\t\t\t\t\t\t\t\t<li>\n",
       "\t\t\t\t\t\t\t\t\t<a href=\"http://dgstb.dg.gov.cn/xxgk/zfxxgk/zfxxgkml/qt/tzgg/content/post_4173552.html\" target=\"_blank\" title=\"转发《广东省科学技术厅关于组织申报2024年度广东省重点领域研发计划“高端医疗器械”重点专项项目的通知》\">\n",
       "\t\t\t\t\t\t\t\t\t\t转发《广东省科学技术厅关于组织申报2024年度广东省重点领域研发计划“高端医疗器械”重点专项项目的通知》</a>\n",
       "\t\t\t\t\t\t\t\t\t<span class=\"time\">2024-03-19</span>\n",
       "\t\t\t\t\t\t\t\t</li>\n",
       "\t\t\t\t\t\t\t\t\t\t\t\t\t\t\t<li>\n",
       "\t\t\t\t\t\t\t\t\t<a href=\"http://dgstb.dg.gov.cn/xxgk/zfxxgk/zfxxgkml/qt/tzgg/content/post_4173126.html\" target=\"_blank\" title=\"市科技局关于征集东莞市天使母基金投资赋能创新创业生态体系支持单位和创业导师的通知\">\n",
       "\t\t\t\t\t\t\t\t\t\t市科技局关于征集东莞市天使母基金投资赋能创新创业生态体系支持单位和创业导师的通知</a>\n",
       "\t\t\t\t\t\t\t\t\t<span class=\"time\">2024-03-18</span>\n",
       "\t\t\t\t\t\t\t\t</li>\n",
       "\t\t\t\t\t\t\t\t\t\t\t\t\t\t\t<li>\n",
       "\t\t\t\t\t\t\t\t\t<a href=\"http://dgstb.dg.gov.cn/xxgk/zfxxgk/zfxxgkml/qt/tzgg/content/post_4173114.html\" target=\"_blank\" title=\"东莞市科学技术局 东莞市教育局 东莞市科学技术协会关于举办2024年东莞市科普讲解大赛的通知\">\n",
       "\t\t\t\t\t\t\t\t\t\t东莞市科学技术局 东莞市教育局 东莞市科学技术协会关于举办2024年东莞市科普讲解大赛的通知</a>\n",
       "\t\t\t\t\t\t\t\t\t<span class=\"time\">2024-03-18</span>\n",
       "\t\t\t\t\t\t\t\t</li>\n",
       "\t\t\t\t\t\t\t\t\t\t\t\t\t\t\t<li>\n",
       "\t\t\t\t\t\t\t\t\t<a href=\"http://dgstb.dg.gov.cn/xxgk/zfxxgk/zfxxgkml/qt/tzgg/content/post_4173109.html\" target=\"_blank\" title=\"市科技局关于新增东莞市技术合同二级登记点的通知\">\n",
       "\t\t\t\t\t\t\t\t\t\t市科技局关于新增东莞市技术合同二级登记点的通知</a>\n",
       "\t\t\t\t\t\t\t\t\t<span class=\"time\">2024-03-18</span>\n",
       "\t\t\t\t\t\t\t\t</li>\n",
       "\t\t\t\t\t\t\t\t\t\t\t\t\t\t </ul>\n",
       "\t\t\t\t\t\t</div>\n",
       "\t\t\t\t\t\t<!-- list End -->\n",
       "\n",
       "\t\t\t\t\t\t<!--page Start-->\n",
       "\t\t\t\t\t\t<div class=\"pages\">\n",
       "\t\t\t\t\t\t\t\t\t\t\t\t\t\t\t<a class=\"first\" href=\"http://dgstb.dg.gov.cn/xxgk/zfxxgk/zfxxgkml/qt/tzgg/index.html\">\n",
       "\t\t\t\t\t\t\t\t\t第一页\n",
       "\t\t\t\t\t\t\t\t</a>\n",
       "\t\t\t\t\t\t\t\t\t\t\t\t\t\t\t<a class=\"current\" href=\"http://dgstb.dg.gov.cn/xxgk/zfxxgk/zfxxgkml/qt/tzgg/index.html\">\n",
       "\t\t\t\t\t\t\t\t\t1\n",
       "\t\t\t\t\t\t\t\t</a>\n",
       "\t\t\t\t\t\t\t\t\t\t\t\t\t\t\t<a class=\"normal\" href=\"http://dgstb.dg.gov.cn/xxgk/zfxxgk/zfxxgkml/qt/tzgg/index_2.html\">\n",
       "\t\t\t\t\t\t\t\t\t2\n",
       "\t\t\t\t\t\t\t\t</a>\n",
       "\t\t\t\t\t\t\t\t\t\t\t\t\t\t\t<a class=\"normal\" href=\"http://dgstb.dg.gov.cn/xxgk/zfxxgk/zfxxgkml/qt/tzgg/index_3.html\">\n",
       "\t\t\t\t\t\t\t\t\t3\n",
       "\t\t\t\t\t\t\t\t</a>\n",
       "\t\t\t\t\t\t\t\t\t\t\t\t\t\t\t<a class=\"normal\" href=\"http://dgstb.dg.gov.cn/xxgk/zfxxgk/zfxxgkml/qt/tzgg/index_4.html\">\n",
       "\t\t\t\t\t\t\t\t\t4\n",
       "\t\t\t\t\t\t\t\t</a>\n",
       "\t\t\t\t\t\t\t\t\t\t\t\t\t\t\t<a class=\"normal\" href=\"http://dgstb.dg.gov.cn/xxgk/zfxxgk/zfxxgkml/qt/tzgg/index_5.html\">\n",
       "\t\t\t\t\t\t\t\t\t5\n",
       "\t\t\t\t\t\t\t\t</a>\n",
       "\t\t\t\t\t\t\t\t\t\t\t\t\t\t\t<a class=\"next\" href=\"http://dgstb.dg.gov.cn/xxgk/zfxxgk/zfxxgkml/qt/tzgg/index_2.html\">\n",
       "\t\t\t\t\t\t\t\t\t下一页\n",
       "\t\t\t\t\t\t\t\t</a>\n",
       "\t\t\t\t\t\t\t\t\t\t\t\t\t\t\t<a class=\"last\" href=\"http://dgstb.dg.gov.cn/xxgk/zfxxgk/zfxxgkml/qt/tzgg/index_20.html\">\n",
       "\t\t\t\t\t\t\t\t\t最后一页\n",
       "\t\t\t\t\t\t\t\t</a>\n",
       "\t\t\t\t\t\t\t\t\t\t\t\t\t</div>\n",
       "\t\t\t\t\t\t<!--page end-->\n",
       "\t\t\t\t\t</div>\n",
       "\t\t\t\t</div>\n",
       "\n",
       "\t\t\t</div>\n",
       "\t\t</div>\n",
       "\t\t<div class=\"clear\"></div>\n",
       "\t\t<!--footer start-->\n",
       "\t\t\n",
       "<meta charset=\"utf-8\"/>\n",
       "<div class=\"footerbox\">\n",
       "\t\t\t<div class=\"yqljbox\">\n",
       "\t\t\t\t<div class=\"hd\">\n",
       "\t\t\t\t\t<div class=\"container\">\n",
       "\t\t\t\t\t\t<ul>\n",
       "\t\t\t\t\t\t\t<li class=\"hs\"><span><a href=\"javascript:void(0);\">国家相关部门</a></span></li>\n",
       "\t\t\t\t\t\t\t<li class=\"hs\"><span><a href=\"javascript:void(0);\">广东相关部门</a></span></li>\n",
       "\t\t\t\t\t\t\t<li class=\"hs\"><span><a href=\"javascript:void(0);\">东莞相关部门</a></span></li>\n",
       "\t\t\t\t\t\t\t<li class=\"hs\"><span><a href=\"javascript:void(0);\">友情链接</a></span></li>\n",
       "\t\t\t\t\t\t</ul>\n",
       "\t\t\t\t\t</div>\n",
       "\t\t\t\t</div>\n",
       "\t\t\t\t<div class=\"bd\">\n",
       "\t\t\t\t\t<div class=\"container\">\n",
       "\t\t\t\t\t\t\t\t\t\t\t\t\t<ul class=\"list-paddingleft-2\"><li><h4><a href=\"https://www.most.gov.cn/index.html\" target=\"_blank\">中华人民共和国科学技术部</a></h4></li><li><h4><a href=\"https://www.cnipa.gov.cn/\" target=\"_blank\">国家知识产权局</a></h4></li><li><h4><a href=\"http://libs.dg.gov.cn/code/xhtml/loading.html?from=%E5%B7%A5%E4%B8%9A%E5%92%8C%E4%BF%A1%E6%81%AF%E5%8C%96%E9%83%A8\" target=\"_blank\">工业和信息化部</a></h4></li><li><h4><a href=\"https://www.cas.cn/\" target=\"_blank\">中国科学院</a></h4></li></ul>\n",
       "\t\t\t\t\t\t\t\t\t\t\t\t\t\t\t\t\t\t\t<ul class=\"list-paddingleft-2\"><li><h4><a href=\"http://gdstc.gd.gov.cn/\" target=\"_blank\"> 广东省科技厅</a></h4></li><li><h4><a href=\"http://amr.gd.gov.cn/\" target=\"_blank\">广东省知识产权局</a></h4></li><li><h4><a href=\"http://gdii.gd.gov.cn/\" target=\"_blank\">广东省工业和信息化厅</a></h4></li></ul>\n",
       "\t\t\t\t\t\t\t\t\t\t\t\t\t\t\t\t\t\t\t<ul class=\"list-paddingleft-2\"><li><h4><a href=\"https://www.dg.gov.cn/\" target=\"_blank\">东莞市人民政府</a></h4></li><li><h4><a href=\"http://dgdp.dg.gov.cn/\" target=\"_blank\">市发展和改革局</a></h4></li><li><h4><a href=\"https://im.dg.gov.cn/\" target=\"_blank\">市工业和信息化局</a></h4></li><li><h4><a href=\"http://czj.dg.gov.cn/\" target=\"_blank\">市财政局</a></h4></li><li><h4><a href=\"http://dghrss.dg.gov.cn/\" target=\"_blank\">市人力资源和社会保障局</a></h4></li><li><h4><a href=\"http://dgepb.dg.gov.cn/\" target=\"_blank\">市生态环境局</a></h4></li><li><h4><a href=\"http://zjj.dg.gov.cn/\" target=\"_blank\"> 市住房和城乡建设局</a></h4></li><li><h4><a href=\"http://nyncj.dg.gov.cn/\" target=\"_blank\">市农业农村局</a></h4></li><li><h4><a href=\"http://dgboc.dg.gov.cn/\" target=\"_blank\">市商务局</a></h4></li><li><h4><a href=\"http://audit.dg.gov.cn/\" target=\"_blank\">市审计局</a></h4></li><li><h4><a href=\"http://dgtga.dg.gov.cn/\" target=\"_blank\">市台港澳事务局</a></h4></li><li><h4><a href=\"http://ssl.dg.gov.cn/\" target=\"_blank\">松山湖</a></h4></li><li><h4><a href=\"http://www.dgkx.gov.cn/\" target=\"_blank\">市科协</a></h4></li><li><h4><a href=\"https://www.dgut.edu.cn/\" target=\"_blank\">东莞理工学院</a></h4></li><li><h4><a href=\"https://www.dgpt.edu.cn/\" target=\"_blank\">东莞职业技术学院</a></h4></li><li><h4><a href=\"http://dgsx.dg.gov.cn/\" target=\"_blank\">东莞水乡特色发展经济区管理委员会</a></h4></li></ul>\n",
       "\t\t\t\t\t\t\t\t\t\t\t\t\t\t\t\t\t\t\t<ul class=\"list-paddingleft-2\">\n",
       "   \n",
       "    <li>\n",
       "        <h4>\n",
       "            <a href=\"http://libs.dg.gov.cn/code/xhtml/loading.html?from=%E4%B8%9C%E8%8E%9E%E5%B8%82%E9%AB%98%E6%96%B0%E6%8A%80%E6%9C%AF%E4%BA%A7%E4%B8%9A%E5%8D%8F%E4%BC%9A\" target=\"_blank\">东莞市高新技术产业协会</a>\n",
       "        </h4>\n",
       "    </li>\n",
       "   \n",
       "    <li>\n",
       "        <h4>\n",
       "            <a href=\"http://libs.dg.gov.cn/code/xhtml/loading.html?from=%E4%B8%9C%E8%8E%9E%E5%B8%82%E7%A7%91%E5%AD%A6%E6%8A%80%E6%9C%AF%E5%8D%8F%E4%BC%9A\" target=\"_blank\">东莞市科学技术协会</a>\n",
       "        </h4>\n",
       "    </li>\n",
       "    <li>\n",
       "        <h4>\n",
       "            <a href=\"http://www.dgstm.org.cn/\" target=\"_blank\">东莞市科学技术博物馆</a>\n",
       "        </h4>\n",
       "    </li>\n",
       "    <li>\n",
       "        <h4>\n",
       "            <a href=\"http://www.dgcc.net.cn/\" target=\"_blank\">东莞市电子计算中心</a>\n",
       "        </h4>\n",
       "    </li>\n",
       "</ul>\n",
       "\t\t\t\t\t\t\t\t\t\t\t</div>\n",
       "\t\t\t\t</div>\n",
       "\t\t\t</div>\n",
       "\t\t\t<div class=\"footer_text\">\n",
       "\t\t\t\t<div class=\"container\">\n",
       "\t\t\t\t\t<div class=\"footer_l\">\n",
       "\t\t\t\t\t\t<ul>\n",
       "\t\t\t\t\t\t\t<li><a href=\"http://dgstb.dg.gov.cn/wzqt/2014db/wzdt/index.html\" target=\"_blank\">网站地图</a></li>\t\t\t\t\t\t\t<li><a href=\"http://dgstb.dg.gov.cn/wzqt/2014db/sytk/index.html\" target=\"_blank\">隐私条款</a></li>\t\t\t\t\t\t\t<li><a href=\"http://dgstb.dg.gov.cn/wzqt/2014db/mzsm/index.html\" target=\"_blank\">免责声明</a></li>\t\t\t\t\t\t</ul>\n",
       "\t\t\t\t\t\t<div class=\"footer_dz\">\n",
       "\t\t\t\t\t\t\t<p>主办单位：东莞市科学技术局 </p>\n",
       "\t\t\t\t\t\t\t<p>联系电话：0769-22831301 </p>\n",
       "\t\t\t\t\t\t\t<p>传真：0769-22831304 </p>\n",
       "\t\t\t\t\t\t\t<p>邮箱：kejijubgs@dg.gov.cn </p>\n",
       "\t\t\t\t\t\t</div>\n",
       "\t\t\t\t\t</div>\n",
       "\t\t\t\t\t<div class=\"footer_m\">\n",
       "\t\t\t\t\t\t<div class=\"footer_inf\">\n",
       "\t\t\t\t\t\t\t<p>科技局业务受理窗口：0769-22835972 </p>\n",
       "\t\t\t\t\t\t\t<p>外国人来华工作业务受理窗口：0769-22835837 </p>\n",
       "\t\t\t\t\t\t\t<p>市纪委市监委驻市科技局纪检监察组：0769-22831312 </p>\n",
       "\t\t\t\t\t\t\t<p>Copyright ©2014 Dgstb.gov.cn All Rights Reserved</p>\n",
       "\t\t\t\t\t\t\t<p>地址：东莞市汇峰路1号汇峰中心H座7楼</p>\n",
       "\t\t\t\t\t\t</div>\n",
       "\t\t\t\t\t</div>\n",
       "\t\t\t\t\t<div class=\"footer_r\">\n",
       "\t\t\t\t\t\t<div class=\"footer_pic\">\n",
       "\t\t\t\t\t\t\t<span class=\"dzjg\"><a href=\"http://bszs.conac.cn/sitename?method=show&amp;id=0AEDE62C892B19CDE053022819AC6628\" target=\"_blank\"><img src=\"/2022images/red.png\"/></a></span>\n",
       "\t\t\t\t\t\t\t<span class=\"jiucuo\"><a href=\"https://zfwzgl.www.gov.cn/exposure/jiucuo.html?site_code=4419000039&amp;url=http%3A%2F%2Fdgstb.dg.gov.cn%2F\" target=\"_blank\"><img src=\"/2022images/zfjc.png\"/></a></span>\n",
       "\t\t\t\t\t\t\t<div class=\"slh\">\n",
       "\t\t\t\t\t\t\t\t<img src=\"/2022images/slh_logo.png\"/>\n",
       "\t\t\t\t\t\t\t</div>\n",
       "\t\t\t\t\t\t</div>\n",
       "\t\t\t\t\t\t\n",
       "\t\t\t\t\t</div>\n",
       "\t\t\t\t</div>\n",
       "\t\t\t\t<div class=\"container\">\n",
       "\t\t\t\t\t<div class=\"foot_bottom\">\n",
       "\t\t\t\t\t\t广东省东莞市科技局 版权所有，IE6 以上版本浏览  技术支持：开普云   <a href=\"https://beian.miit.gov.cn/\">备案序号:粤ICP备09076130号</a>    \n",
       "\t\t\t\t\t\t<a class=\"bah\" href=\"http://www.beian.gov.cn/portal/registerSystemInfo?recordcode=44190002003927\" target=\"_blank\">粤公网安备 44190002003927号</a>    网站标识码：4419000039\n",
       "\t\t\t\t\t</div>\n",
       "\t\t\t\t</div>\n",
       "\t\t\t</div>\n",
       "\t\t</div>\n",
       "\t\t<link href=\"/2022css/layer.css\" rel=\"stylesheet\" type=\"text/css\"/>\n",
       "\t\t<script src=\"/2022js/layer.js\" type=\"text/javascript\"></script>\n",
       "\t\t<script src=\"/2022js/my_layer.js\" type=\"text/javascript\"></script>\n",
       "\t\t<script type=\"text/javascript\">\n",
       "\t\t// IE8 兼容配置\n",
       "\t\twindow.onload = function() {\n",
       "\t\tcnillWzaInstance.startInit(\"http://dgstb.dg.gov.cn/js/cnill_polyfill.swf\");\n",
       "\t\t}\n",
       "\t\tdocument.getElementById(\"wza\").onclick = function() {\n",
       "\t\t// 执行实例的init方法\n",
       "\t\tcnillWzaInstance.init(); // cnillWzaInstance为全局变量\n",
       "\t\t}\n",
       "\t\t</script>\n",
       "\n",
       "\t\t<!--footer end-->\n",
       "\t\t<script src=\"/2022js/common.js\" type=\"text/javascript\"></script>\n",
       "\t\n",
       "\n",
       "</body></html>"
      ]
     },
     "execution_count": 33,
     "metadata": {},
     "output_type": "execute_result"
    }
   ],
   "source": [
    "page_num = 1\n",
    "url_index = f\"https://dgstb.dg.gov.cn/xxgk/zfxxgk/zfxxgkml/qt/tzgg/index.html\"\n",
    "\n",
    "# 访问链接\n",
    "bs, response = get_bs(url_index)\n",
    "\n",
    "bs\n"
   ]
  },
  {
   "cell_type": "code",
   "execution_count": 34,
   "metadata": {},
   "outputs": [
    {
     "name": "stdout",
     "output_type": "stream",
     "text": [
      "15 15\n"
     ]
    }
   ],
   "source": [
    "text_list = bs.select(\".pageList.split li a\")\n",
    "time_list = bs.select(\".pageList.split li span\")\n",
    "\n",
    "print(len(text_list), len(time_list))"
   ]
  },
  {
   "cell_type": "code",
   "execution_count": 35,
   "metadata": {},
   "outputs": [
    {
     "data": {
      "text/plain": [
       "[<a href=\"http://dgstb.dg.gov.cn/xxgk/zfxxgk/zfxxgkml/qt/tzgg/content/post_4140158.html\" target=\"_blank\" title=\"东莞市科学技术局2023年政府网站工作年度报表\">\n",
       " \t\t\t\t\t\t\t\t\t\t东莞市科学技术局2023年政府网站工作年度报表</a>,\n",
       " <a href=\"http://dgstb.dg.gov.cn/xxgk/zfxxgk/zfxxgkml/qt/tzgg/content/post_4182806.html\" target=\"_blank\" title=\"关于开展2024年高新技术企业认定相关政策第一轮分片区辅导培训的通知\">\n",
       " \t\t\t\t\t\t\t\t\t\t关于开展2024年高新技术企业认定相关政策第一轮分片区辅导培训的通知</a>,\n",
       " <a href=\"http://dgstb.dg.gov.cn/xxgk/zfxxgk/zfxxgkml/qt/tzgg/content/post_4182492.html\" target=\"_blank\" title=\"市科技局关于受理2024年东莞市新型研发机构认定申报工作的通知\">\n",
       " \t\t\t\t\t\t\t\t\t\t市科技局关于受理2024年东莞市新型研发机构认定申报工作的通知</a>,\n",
       " <a href=\"http://dgstb.dg.gov.cn/xxgk/zfxxgk/zfxxgkml/qt/tzgg/content/post_4181445.html\" target=\"_blank\" title=\"市科技局关于做好东莞市2024年高新技术企业认定工作的通知\">\n",
       " \t\t\t\t\t\t\t\t\t\t市科技局关于做好东莞市2024年高新技术企业认定工作的通知</a>,\n",
       " <a href=\"http://dgstb.dg.gov.cn/xxgk/zfxxgk/zfxxgkml/qt/tzgg/content/post_4180849.html\" target=\"_blank\" title=\"市科技局关于召开2024年市重大科技项目（第二批）申报说明会的通知\">\n",
       " \t\t\t\t\t\t\t\t\t\t市科技局关于召开2024年市重大科技项目（第二批）申报说明会的通知</a>,\n",
       " <a href=\"http://dgstb.dg.gov.cn/xxgk/zfxxgk/zfxxgkml/qt/tzgg/content/post_4180270.html\" target=\"_blank\" title=\"东莞市科学技术局关于2024年重大行政决策事项目录的公告\">\n",
       " \t\t\t\t\t\t\t\t\t\t东莞市科学技术局关于2024年重大行政决策事项目录的公告</a>,\n",
       " <a href=\"http://dgstb.dg.gov.cn/xxgk/zfxxgk/zfxxgkml/qt/tzgg/content/post_4177039.html\" target=\"_blank\" title=\"2024年东莞市暖工稳产促消费规上科学研究和技术服务业企业营收增量奖励项目操作指南\">\n",
       " \t\t\t\t\t\t\t\t\t\t2024年东莞市暖工稳产促消费规上科学研究和技术服务业企业营收增量奖励项目操作指南</a>,\n",
       " <a href=\"http://dgstb.dg.gov.cn/xxgk/zfxxgk/zfxxgkml/qt/tzgg/content/post_4176072.html\" target=\"_blank\" title=\"市科技局关于组织开展科技企业孵化载体延展空间备案申报工作的通知\">\n",
       " \t\t\t\t\t\t\t\t\t\t市科技局关于组织开展科技企业孵化载体延展空间备案申报工作的通知</a>,\n",
       " <a href=\"http://dgstb.dg.gov.cn/xxgk/zfxxgk/zfxxgkml/qt/tzgg/content/post_4175847.html\" target=\"_blank\" title=\"退回财政拨款通知书送达公告         （东莞市邦臣光电有限公司）\">\n",
       " \t\t\t\t\t\t\t\t\t\t退回财政拨款通知书送达公告         （东莞市邦臣光电有限公司）</a>,\n",
       " <a href=\"http://dgstb.dg.gov.cn/xxgk/zfxxgk/zfxxgkml/qt/tzgg/content/post_4175842.html\" target=\"_blank\" title=\"退回财政拨款通知书送达公告         （东莞市星宇光电科技有限公司）\">\n",
       " \t\t\t\t\t\t\t\t\t\t退回财政拨款通知书送达公告         （东莞市星宇光电科技有限公司）</a>,\n",
       " <a href=\"http://dgstb.dg.gov.cn/xxgk/zfxxgk/zfxxgkml/qt/tzgg/content/post_4175764.html\" target=\"_blank\" title=\"市科技局关于下达2023年度东莞市市级新型研发机构认定名单的通知\">\n",
       " \t\t\t\t\t\t\t\t\t\t市科技局关于下达2023年度东莞市市级新型研发机构认定名单的通知</a>,\n",
       " <a href=\"http://dgstb.dg.gov.cn/xxgk/zfxxgk/zfxxgkml/qt/tzgg/content/post_4173552.html\" target=\"_blank\" title=\"转发《广东省科学技术厅关于组织申报2024年度广东省重点领域研发计划“高端医疗器械”重点专项项目的通知》\">\n",
       " \t\t\t\t\t\t\t\t\t\t转发《广东省科学技术厅关于组织申报2024年度广东省重点领域研发计划“高端医疗器械”重点专项项目的通知》</a>,\n",
       " <a href=\"http://dgstb.dg.gov.cn/xxgk/zfxxgk/zfxxgkml/qt/tzgg/content/post_4173126.html\" target=\"_blank\" title=\"市科技局关于征集东莞市天使母基金投资赋能创新创业生态体系支持单位和创业导师的通知\">\n",
       " \t\t\t\t\t\t\t\t\t\t市科技局关于征集东莞市天使母基金投资赋能创新创业生态体系支持单位和创业导师的通知</a>,\n",
       " <a href=\"http://dgstb.dg.gov.cn/xxgk/zfxxgk/zfxxgkml/qt/tzgg/content/post_4173114.html\" target=\"_blank\" title=\"东莞市科学技术局 东莞市教育局 东莞市科学技术协会关于举办2024年东莞市科普讲解大赛的通知\">\n",
       " \t\t\t\t\t\t\t\t\t\t东莞市科学技术局 东莞市教育局 东莞市科学技术协会关于举办2024年东莞市科普讲解大赛的通知</a>,\n",
       " <a href=\"http://dgstb.dg.gov.cn/xxgk/zfxxgk/zfxxgkml/qt/tzgg/content/post_4173109.html\" target=\"_blank\" title=\"市科技局关于新增东莞市技术合同二级登记点的通知\">\n",
       " \t\t\t\t\t\t\t\t\t\t市科技局关于新增东莞市技术合同二级登记点的通知</a>]"
      ]
     },
     "execution_count": 35,
     "metadata": {},
     "output_type": "execute_result"
    }
   ],
   "source": [
    "text_list"
   ]
  },
  {
   "cell_type": "code",
   "execution_count": 36,
   "metadata": {},
   "outputs": [
    {
     "data": {
      "text/plain": [
       "'东莞市科学技术局2023年政府网站工作年度报表'"
      ]
     },
     "execution_count": 36,
     "metadata": {},
     "output_type": "execute_result"
    }
   ],
   "source": [
    "text_list[0]['title'].strip().replace('·', '').replace('\\n', '')"
   ]
  },
  {
   "cell_type": "code",
   "execution_count": 41,
   "metadata": {},
   "outputs": [
    {
     "data": {
      "text/plain": [
       "'http://dgstb.dg.gov.cn/xxgk/zfxxgk/zfxxgkml/qt/tzgg/content/post_4181445.html'"
      ]
     },
     "execution_count": 41,
     "metadata": {},
     "output_type": "execute_result"
    }
   ],
   "source": [
    "text_list[3]['href']"
   ]
  },
  {
   "cell_type": "code",
   "execution_count": 38,
   "metadata": {},
   "outputs": [
    {
     "data": {
      "text/plain": [
       "[<span class=\"time\">2024-01-15</span>,\n",
       " <span class=\"time\">2024-04-02</span>,\n",
       " <span class=\"time\">2024-04-02</span>,\n",
       " <span class=\"time\">2024-04-01</span>,\n",
       " <span class=\"time\">2024-03-29</span>,\n",
       " <span class=\"time\">2024-03-28</span>,\n",
       " <span class=\"time\">2024-03-25</span>,\n",
       " <span class=\"time\">2024-03-22</span>,\n",
       " <span class=\"time\">2024-03-22</span>,\n",
       " <span class=\"time\">2024-03-22</span>,\n",
       " <span class=\"time\">2024-03-22</span>,\n",
       " <span class=\"time\">2024-03-19</span>,\n",
       " <span class=\"time\">2024-03-18</span>,\n",
       " <span class=\"time\">2024-03-18</span>,\n",
       " <span class=\"time\">2024-03-18</span>]"
      ]
     },
     "execution_count": 38,
     "metadata": {},
     "output_type": "execute_result"
    }
   ],
   "source": [
    "time_list"
   ]
  },
  {
   "cell_type": "code",
   "execution_count": 39,
   "metadata": {},
   "outputs": [
    {
     "data": {
      "text/plain": [
       "'2024-04-02'"
      ]
     },
     "execution_count": 39,
     "metadata": {},
     "output_type": "execute_result"
    }
   ],
   "source": [
    "time_list[1].get_text(strip=True)"
   ]
  },
  {
   "cell_type": "code",
   "execution_count": 40,
   "metadata": {},
   "outputs": [
    {
     "data": {
      "text/plain": [
       "'http://dgstb.dg.gov.cn/xxgk/zfxxgk/zfxxgkml/qt/tzgg/index_2.html'"
      ]
     },
     "execution_count": 40,
     "metadata": {},
     "output_type": "execute_result"
    }
   ],
   "source": [
    "bs.find('a', {'class': 'next'})['href']"
   ]
  },
  {
   "cell_type": "code",
   "execution_count": 27,
   "metadata": {},
   "outputs": [
    {
     "data": {
      "text/plain": [
       "'https://im.dg.gov.cn/dtxw/tzgg/content/post_4183329.html'"
      ]
     },
     "execution_count": 27,
     "metadata": {},
     "output_type": "execute_result"
    }
   ],
   "source": [
    "time_list[0].find('a').get('href')"
   ]
  },
  {
   "cell_type": "code",
   "execution_count": 28,
   "metadata": {},
   "outputs": [
    {
     "data": {
      "text/plain": [
       "<a class=\"next\" href=\"https://im.dg.gov.cn/dtxw/tzgg/index_2.html\" id=\"next\">\n",
       "                                    下一页\n",
       "                                </a>"
      ]
     },
     "execution_count": 28,
     "metadata": {},
     "output_type": "execute_result"
    }
   ],
   "source": [
    "bs.find('a', {'class': 'next'})"
   ]
  },
  {
   "cell_type": "code",
   "execution_count": null,
   "metadata": {},
   "outputs": [],
   "source": []
  }
 ],
 "metadata": {
  "kernelspec": {
   "display_name": "spider",
   "language": "python",
   "name": "python3"
  },
  "language_info": {
   "codemirror_mode": {
    "name": "ipython",
    "version": 3
   },
   "file_extension": ".py",
   "mimetype": "text/x-python",
   "name": "python",
   "nbconvert_exporter": "python",
   "pygments_lexer": "ipython3",
   "version": "3.10.14"
  }
 },
 "nbformat": 4,
 "nbformat_minor": 2
}
