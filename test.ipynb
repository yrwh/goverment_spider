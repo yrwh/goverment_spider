{
 "cells": [
  {
   "cell_type": "code",
   "execution_count": 78,
   "metadata": {},
   "outputs": [],
   "source": [
    "import requests\n",
    "import datetime\n",
    "import time\n",
    "import sys\n",
    "import io\n",
    "import re\n",
    "import argparse\n",
    "from bs4 import BeautifulSoup\n",
    "import random\n",
    "from utils import sleep_time, title_pattern, content_pattern, write_file, now, MyHeaders, logger, timeout\n"
   ]
  },
  {
   "cell_type": "code",
   "execution_count": 79,
   "metadata": {},
   "outputs": [],
   "source": [
    "def get_bs(url):\n",
    "    headers = {'User-Agent': random.choice(MyHeaders)}\n",
    "    response = requests.get(url, headers=headers, verify=False)\n",
    "    response.encoding = 'utf-8'\n",
    "    bs = BeautifulSoup(response.content, 'html5lib')\n",
    "\n",
    "    return bs, response"
   ]
  },
  {
   "cell_type": "code",
   "execution_count": 125,
   "metadata": {},
   "outputs": [
    {
     "name": "stderr",
     "output_type": "stream",
     "text": [
      "/home/zouyou/miniconda3/envs/spider/lib/python3.10/site-packages/urllib3/connectionpool.py:1103: InsecureRequestWarning: Unverified HTTPS request is being made to host 'commerce.xinxiang.gov.cn'. Adding certificate verification is strongly advised. See: https://urllib3.readthedocs.io/en/latest/advanced-usage.html#tls-warnings\n",
      "  warnings.warn(\n"
     ]
    },
    {
     "data": {
      "text/plain": [
       "<!DOCTYPE html>\n",
       "<html><head>\n",
       "<meta content=\"text/html; charset=utf-8\" http-equiv=\"Content-Type\"/>\n",
       "<title>通知公告-商务工作 - 新乡商务局</title>\n",
       "<meta content=\"upgrade-insecure-requests\" http-equiv=\"Content-Security-Policy\"/>\n",
       "<meta content=\"\" name=\"keywords\"/>\n",
       "<meta content=\"\" name=\"description\"/>\n",
       "<link href=\"/App/Tpl/Home/Default/Public/Css/css.css?v=1712476923\" rel=\"stylesheet\"/>\n",
       "<style>#News{background:url(/App/Tpl/Home/Default/Public/Image/navh.jpg) repeat-x left; color:#d42e1c; font-weight:bold;}</style>\n",
       "<script src=\"/App/Tpl/Home/Default/Public/Js/jquery.js\" type=\"text/javascript\"></script>\n",
       "<script src=\"http://api.map.baidu.com/api?v=1.4\"></script>\n",
       "<script src=\"/App/Tpl/Home/Default/Public/Js/jquery.SuperSlide.2.1.1.js\" type=\"text/javascript\"></script>\n",
       "</head>\n",
       "\n",
       "<body>\n",
       "\n",
       "\n",
       "<div class=\"header\">\n",
       "\t<div class=\"topgg\">\n",
       "    \t<ul>\n",
       "        \t<li class=\"topggl\">\n",
       "\t\t\t\t <span class=\"date\">今天:\n",
       "\t\t\t\t\t<script language=\"JavaScript\">\n",
       "\t\t\t\t\t\ttoday = new Date();\n",
       "\t\t\t\t\t\tfunction initArray() {\n",
       "\t\t\t\t\t\t\tthis.length = initArray.arguments.length\n",
       "\t\t\t\t\t\t\tfor (var i = 0; i < this.length; i++)\n",
       "\t\t\t\t\t\t\t\tthis[i + 1] = initArray.arguments[i]\n",
       "\t\t\t\t\t\t}\n",
       "\t\t\t\t\t\tvar d = new initArray(\n",
       "\t\t\t\t\t\t\"星期日\",\n",
       "\t\t\t\t\t\t\"星期一\",\n",
       "\t\t\t\t\t\t\"星期二\",\n",
       "\t\t\t\t\t\t\"星期三\",\n",
       "\t\t\t\t\t\t\"星期四\",\n",
       "\t\t\t\t\t\t\"星期五\",\n",
       "\t\t\t\t\t\t\"星期六\");\n",
       "\t\t\t\t\t\tdocument.write(\n",
       "\t\t\t\t\t\t\"<font color=#333 style='font-size:12px;'> \",\n",
       "\t\t\t\t\t\ttoday.getFullYear(), \"年\",\n",
       "\t\t\t\t\t\ttoday.getMonth() + 1, \"月\",\n",
       "\t\t\t\t\t\ttoday.getDate(), \"日\",\n",
       "\t\t\t\t\t\td[today.getDay() + 1],\n",
       "\t\t\t\t\t\t\"</font>\"); \n",
       "\t\t\t\t\t</script>\n",
       "\t\t\t\t</span>\n",
       "\n",
       "            </li>\n",
       "          <!--  <li class=\"topggc\">\n",
       "            \t<iframe name=\"weather_inc\" src=\"http://i.tianqi.com/index.php?c=code&id=10\" width=\"300\" height=\"25\" frameborder=\"0\" marginwidth=\"0\" marginheight=\"0\" scrolling=\"no\" ></iframe>\n",
       "          </li>-->\n",
       "            <li class=\"topggr\">\n",
       "            \t<a href=\"/company\">关于我们</a> | <a href=\"/news/58\">联系我们</a>\n",
       "            </li>\n",
       "        </ul>\n",
       "    </div>\n",
       "  <div class=\"allnav\">\n",
       "    <div class=\"logo\"><a href=\"/\" titile=\"新乡商务局\"><img alt=\"新乡商务局\" src=\"/Uploads/6413e0b2f30d8.png\"/> </a> </div>\n",
       "  </div>\n",
       "  <div class=\"nav\">\n",
       "    <ul>\n",
       "      <!--<a href=\"/index\" id=\"Index\">网站首页</a><a href=\"/news/11\">信息公开</a><a href=\"/news/27\">公共服务</a><a href=\"/news/7\">公共交流</a><a href=\"/news/41\">专题专栏</a><a href=\"/news/50\">对外开放</a><a href=\"/news/58\">内贸流通管理</a><a href=\"/news/67\">新乡市情</a>-->\n",
       "\t\t<a href=\"/index\" id=\"Index\">网站首页</a>\n",
       "\t<a href=\"/Gklm\">政府信息公开</a>\n",
       "\t<!-- <a href=\"/news/73\">信息公开</a> -->\n",
       "\t\t<a href=\"/news/27\">网上办事</a>\n",
       "\t\t<a href=\"/news/54\">商务工作</a>\n",
       "\t\t<!-- <a href=\"/news/41\">党建工作</a>\n",
       "\n",
       "\t\t<a href=\"/news/46\">专项工作</a> -->\n",
       "\t\t<a href=\"/news/67\">市情与项目推介</a>\n",
       "\t\t<a href=\"https://www.hnzwfw.gov.cn/410702000000?region=410702000000\" id=\"hnzwfw2021\" target=\"_blank\">政务服务</a>\n",
       "    </ul>\n",
       "  </div>\n",
       "</div>\n",
       "\n",
       "\n",
       "\n",
       "            \n",
       "            \n",
       "<div id=\"main\">\n",
       "  <div class=\"main1\">\n",
       "  \t<div class=\"allleft\">\n",
       "   <div class=\"lggfw\">\n",
       "       <div class=\"tzgglogo\"><span class=\"tzgglogo1\">政府信息公开</span>\n",
       "       </div>\n",
       "       <div class=\"lggfwcon\">\n",
       "           <ul>\n",
       "<!--            <li ><a href=\"/custom/3\" >机构职能</a></li>\n",
       "            <li ><a href=\"/news/11_93\" >领导信息</a></li> -->\n",
       "            <li><a href=\"/news/88\">政府信息公开指南</a></li><li><a href=\"/news/89\">政府信息公开制度</a></li><li><a href=\"/news/90\">法定主动公开内容</a></li><li><a href=\"/news/91\">政府信息公开年报</a></li>        </ul>\n",
       "    </div>\n",
       "</div>\n",
       "   <div class=\"lggfw\">\n",
       "       <div class=\"tzgglogo\"><span class=\"tzgglogo1\">依法行政</span>\n",
       "       </div>\n",
       "       <div class=\"lggfwcon\">\n",
       "           <ul>\n",
       "            <li><a href=\"/news/28\">行政许可</a></li><li><a href=\"/news/30\">商务执法</a></li><li><a href=\"/news/32\">办事统计</a></li>        </ul>\n",
       "    </div>\n",
       "</div>\n",
       "   <div class=\"lggfw\">\n",
       "       <div class=\"tzgglogo\"><span class=\"tzgglogo1\">网上办事</span>\n",
       "       </div>\n",
       "       <div class=\"lggfwcon\">\n",
       "           <ul>\n",
       "            <li><a href=\"/news/27\">办事指南</a></li><li><a href=\"/news/31\">下载中心</a></li><li><a href=\"/news/79\">在线申请</a></li>        </ul>\n",
       "    </div>\n",
       "</div>\n",
       "\n",
       "\n",
       "    <div class=\"lggfw\">\n",
       "        <div class=\"tzgglogo\"><span class=\"tzgglogo1\">商务工作</span>\n",
       "        </div>\n",
       "        <div class=\"lggfwcon\">\n",
       "            <ul>\n",
       "                <li><a href=\"/news/15\">通知公告</a></li><li><a href=\"/news/58\">消费流通</a></li><li><a href=\"/news/59\"> 服贸会展</a></li><li><a href=\"/news/61\">信用建设</a></li><li><a href=\"/news/7\">外商投资</a></li><li><a href=\"/news/64\">电商物流</a></li><li><a href=\"/news/13\">新闻发布</a></li><li><a href=\"/news/16\">图片新闻</a></li><li><a href=\"/news/44\">平安商务</a></li><li><a href=\"/news/54\">对外开放</a></li><li><a href=\"/news/80\">对外经贸</a></li><li><a href=\"/news/86\">招商引资</a></li>\n",
       "            </ul>\n",
       "        </div>\n",
       "    </div>\n",
       "\n",
       "    <div class=\"lggfw\">\n",
       "        <div class=\"tzgglogo\"><span class=\"tzgglogo1\">党建工作</span>\n",
       "        </div>\n",
       "        <div class=\"lggfwcon\">\n",
       "            <ul>\n",
       "                <li><a href=\"/news/87\">主题教育</a></li><li><a href=\"/news/41\">党的建设</a></li><li><a href=\"/news/42\">作风纪律整顿</a></li><li><a href=\"/news/43\">精神文明</a></li>\n",
       "            </ul>\n",
       "        </div>\n",
       "    </div>\n",
       "\n",
       "    <div class=\"lggfw\">\n",
       "        <div class=\"tzgglogo\"><span class=\"tzgglogo1\">专项工作</span>\n",
       "        </div>\n",
       "        <div class=\"lggfwcon\">\n",
       "            <ul>\n",
       "                <li><a href=\"/news/46\">三大攻坚战</a></li><li><a href=\"/news/82\">老字号推介</a></li><li><a href=\"/news/83\">成品油管理</a></li><li><a href=\"/news/84\">“三零”创建</a></li><li><a href=\"/news/85\">统计数据</a></li><li><a href=\"/news/17\">行政法规政策法规</a></li><li><a href=\"/news/99\">政策解读</a></li>            </ul>\n",
       "        </div>\n",
       "    </div>\n",
       "\n",
       "\n",
       "</div>\n",
       "\n",
       "    <div id=\"company\">   \n",
       "    <div class=\"zynav\"><ul><span class=\"zynav1\">通知公告</span><span class=\"zynav2\">您现在所在的位置:　<a href=\"/\">首页</a>　&gt;　通知公告</span></ul></div> \n",
       "    <div class=\"nr\">\n",
       "\n",
       "\n",
       "\n",
       "                  \n",
       "              <div class=\"news_1bj\">\n",
       "                <div class=\"news_1nr\">\n",
       "                  <ul>\n",
       "                    <li><a href=\"/news/15_3890\" target=\"_blank\" title=\"关于开展“2024消费促进年”活动的通知\"><span class=\"newswz\">关于开展“2024消费促进年”活动的通知</span></a>\n",
       "                          <span>2024-03-25</span>\n",
       "                    </li><li><a href=\"/news/15_3884\" target=\"_blank\" title=\"关于“龙腾新乡”促消费活动汽车补贴额度已达限的温馨提示\"><span class=\"newswz\">关于“龙腾新乡”促消费活动汽车补贴额度已达限的温馨提示</span></a>\n",
       "                          <span>2024-03-14</span>\n",
       "                    </li><li><a href=\"/news/15_3883\" target=\"_blank\" title=\"关于“龙腾新乡”促消费活动汽车补贴额度即将达限的温馨提示\"><span class=\"newswz\">关于“龙腾新乡”促消费活动汽车补贴额度即将达限的温馨提示</span></a>\n",
       "                          <span>2024-03-13</span>\n",
       "                    </li><li><a href=\"/news/15_3881\" target=\"_blank\" title=\"关于“龙腾新乡”促消费活动汽车补贴额度的温馨提示\"><span class=\"newswz\">关于“龙腾新乡”促消费活动汽车补贴额度的温馨提示</span></a>\n",
       "                          <span>2024-03-13</span>\n",
       "                    </li><li><a href=\"/news/15_3877\" target=\"_blank\" title=\"关于“龙腾新乡”促消费活动家电家具补贴额度已达限的温馨提示\"><span class=\"newswz\">关于“龙腾新乡”促消费活动家电家具补贴额度已达限的温馨提示</span></a>\n",
       "                          <span>2024-03-11</span>\n",
       "                    </li><li><a href=\"/news/15_3876\" target=\"_blank\" title=\"关于“龙腾新乡”促消费活动家电家具补贴额度即将达限的温馨提示\"><span class=\"newswz\">关于“龙腾新乡”促消费活动家电家具补贴额度即将达限的温馨提示</span></a>\n",
       "                          <span>2024-03-11</span>\n",
       "                    </li><li><a href=\"/news/15_3873\" target=\"_blank\" title=\"关于印发《新乡市“龙腾新乡”促消费活动实施方案》的通知\"><span class=\"newswz\">关于印发《新乡市“龙腾新乡”促消费活动实施方案》的通知</span></a>\n",
       "                          <span>2024-03-11</span>\n",
       "                    </li><li><a href=\"/news/15_3867\" target=\"_blank\" title=\"关于填报外商投资信息年度报告的公告\"><span class=\"newswz\">关于填报外商投资信息年度报告的公告</span></a>\n",
       "                          <span>2024-03-07</span>\n",
       "                    </li><li><a href=\"/news/15_3866\" target=\"_blank\" title=\"新乡市商务局关于《支持外贸高质量发展财政金融若干措施（征求意见稿）》公开征求意见的公告\"><span class=\"newswz\">新乡市商务局关于《支持外贸高质量发展财政金融若干措施（征求意见稿）》公开征求意见的公告</span></a>\n",
       "                          <span>2024-03-05</span>\n",
       "                    </li><li><a href=\"/news/15_3844\" target=\"_blank\" title=\"关于举办“龙腾新乡·元宵节”餐饮促消费活动的通知\"><span class=\"newswz\">关于举办“龙腾新乡·元宵节”餐饮促消费活动的通知</span></a>\n",
       "                          <span>2024-02-22</span>\n",
       "                    </li>                  </ul>\n",
       "                </div>\n",
       "              </div>\n",
       "              <div class=\"page\">  178 条记录 1/18 页  <a href=\"/news/news_type/type/15/p/2\">下一页</a>      <span class=\"current\">1</span> <a href=\"/news/news_type/type/15/p/2\"> 2 </a> <a href=\"/news/news_type/type/15/p/3\"> 3 </a> <a href=\"/news/news_type/type/15/p/4\"> 4 </a> <a href=\"/news/news_type/type/15/p/5\"> 5 </a>  <a href=\"/news/news_type/type/15/p/6\">下5页</a> <a href=\"/news/news_type/type/15/p/18\">最后一页</a> <select id=\"page_num\" name=\"\" onchange=\"location=('/news/news_type/type/15/p/__PAGE__/p/'+$(this).val() )\"><option selected=\"\" value=\"1\">1</option><option value=\"2\">2</option><option value=\"3\">3</option><option value=\"4\">4</option><option value=\"5\">5</option><option value=\"6\">6</option><option value=\"7\">7</option><option value=\"8\">8</option><option value=\"9\">9</option><option value=\"10\">10</option><option value=\"11\">11</option><option value=\"12\">12</option><option value=\"13\">13</option><option value=\"14\">14</option><option value=\"15\">15</option><option value=\"16\">16</option><option value=\"17\">17</option><option value=\"18\">18</option></select> </div>\n",
       "\n",
       "\n",
       "\n",
       "      \n",
       "    </div>\n",
       "  </div>\n",
       "   </div>\n",
       "</div>\n",
       "<div class=\"end\">\n",
       "  <div class=\"link\">\n",
       "    <ul>\n",
       "      <div class=\"linkloog\">友情链接</div>\n",
       "      <div class=\"linkcon\">\n",
       "        <a href=\"https://www.gov.cn/zhengce/zczhjd/\" target=\"_blank\">国务院重要政策举措及实施效果</a><a href=\"https://www.hnzwfw.gov.cn/\" target=\"_blank\">河南省政务服务网</a><a href=\"http://www.henan.gov.cn/\" target=\"_blank\">河南省人民政府门户网站</a><a href=\"https://hnsswt.henan.gov.cn/\" target=\"_blank\">河南省商务厅</a><a href=\"http://www.xinxiang.gov.cn/\" target=\"_blank\">新乡市人民政府</a><a href=\"http://jhsjk.people.cn/\" target=\"_blank\">习近平系列重要讲话数据库</a><a href=\"http://xzfg.moj.gov.cn/search2.html\" target=\"_blank\">中国政府法制信息网行政法规库</a><a href=\"https://liuyan.www.gov.cn/2024wwzfgzbgtjy/bmdf.html?q=hen\" target=\"_blank\">@国务院  我为政府工作报告提建议</a><a href=\"http://222.143.26.180:8082/ent/#/login?type=0\" target=\"_blank\">河南省成品油流通信息化管理系统</a>      </div>\n",
       "    </ul>\n",
       "  </div>\n",
       "  <div class=\"foot\">\n",
       "  <!-- \t<span class=\"foot1\"><img src=\"/App/Tpl/Home/Default/Public/Image/fotopic.png\" /></span> -->\n",
       "    <!-- <span class=\"foot2\"><a href=\"/company\">关于我们</a>│<a href=\"/custom/62\">网站声明</a>│<a href=\"/custom/61\">联系我们</a></span>  \t -->\n",
       "  \tCopyRight  <font style=\"font-family:Arial, Helvetica, sans-serif\">©</font> 2017  新乡商务局  All Rights Reserved　\n",
       "<script type=\"text/javascript\">var cnzz_protocol = ((\"https:\" == document.location.protocol) ? \" https://\" : \" http://\");document.write(unescape(\"%3Cspan id='cnzz_stat_icon_1271324900'%3E%3C/span%3E%3Cscript src='\" + cnzz_protocol + \"s22.cnzz.com/z_stat.php%3Fid%3D1271324900%26show%3Dpic' type='text/javascript'%3E%3C/script%3E\"));</script>\n",
       "\n",
       "\n",
       "  \n",
       "    <div align=\"center\">\n",
       "      网站标识码：4107000004  <a href=\"https://beian.miit.gov.cn/\" target=\"_blank\">网站ICP备案：豫ICP备17001402号-2</a>  <a href=\"http://www.beian.gov.cn/portal/registerSystemInfo?recordcode=41070202000576\" target=\"_blank\"><img src=\"/App/Tpl/Home/Default/Public/Image/ghs.png\"/>公安机关备案：41070202000576</a> </div>\n",
       "    <div align=\"center\">主办单位：新乡市商务局  联系电话：0373-3699956        </div>\n",
       "\n",
       "    <div align=\"center\"><script id=\"_jiucuo_\" sitecode=\"4107000004\" src=\"//pucha.kaipuyun.cn/exposure/jiucuo.js\"></script></div>\n",
       "    <div align=\"center\">\n",
       "\n",
       "        <a href=\"http://bszs.conac.cn/sitename?method=show&amp;id=911501A071F6794CE05310291AACAFD5\" target=\"_blank\"><img src=\"/App/Tpl/Home/Default/Public/Image/red.png\"/></a>\n",
       "\n",
       "    </div>\n",
       "  </div>\n",
       "</div>\n",
       "<script id=\"_jiucuo_\" sitecode=\"4107000004\" src=\"https://zfwzgl.www.gov.cn/exposure/jiucuo.js\"></script>\n",
       "\n",
       "<!--漂浮框-->\n",
       "<!-- <style>\n",
       ".bnav { text-align:left; height:200px; overflow:hidden; width:300px; margin:0 1%; border-bottom:none; z-index:9999; position:fixed; bottom:50px; left:0; _position:absolute;_top:expression(eval(document.body.scrollTop + 50));overflow:visible; }\n",
       "</style>\n",
       "<script type=\"text/javascript\">\n",
       "var closeBN = $.cookie(\"bnav\");\n",
       "if (closeBN == \"0\"){closeNav();}\n",
       "function showNav(){\n",
       "$(\".openClose\").toggle();\n",
       "$.cookie(\"bnav\", \"1\", {expires: 1});\n",
       "}\n",
       "function closeNav(){\n",
       "$(\".openClose\").toggle();\n",
       "$.cookie(\"bnav\", \"0\", {expires: 1});\n",
       "}\n",
       "</script>\n",
       "<div class=\"bnav openClose\" id=\"gg\">\n",
       "<a href=\"javascript:;\" onclick=\"javascript:document.getElementById('gg').style.display='none';\">关闭</a>\n",
       "<a href=\"/news/84\"><img src=\"/App/Tpl/Home/Default/Public/Image/piao.png\" /></a>\n",
       "</div> -->\n",
       "<!--漂浮框-->\n",
       "\n",
       "\n",
       "\n",
       "<!--漂浮框-->\n",
       "<style>\n",
       ".bnav1 { text-align:right; height:100px; overflow:hidden; width:200px; margin:0 1%; border-bottom:none; z-index:9999; position:fixed; bottom:200px; left:0; _position:absolute;_top:expression(eval(document.body.scrollTop + 50));overflow:visible; }\n",
       "</style>\n",
       "<script type=\"text/javascript\"> \n",
       "var closeBN = $.cookie(\"bnav1\"); \n",
       "if (closeBN == \"0\"){closeNav();} \n",
       "function showNav(){ \n",
       "$(\".openClose\").toggle(); \n",
       "$.cookie(\"bnav1\", \"1\", {expires: 1}); \n",
       "} \n",
       "function closeNav(){ \n",
       "$(\".openClose\").toggle(); \n",
       "$.cookie(\"bnav1\", \"0\", {expires: 1}); \n",
       "} \n",
       "</script> \n",
       "<div class=\"bnav1 openClose\" id=\"gg5\"> \n",
       "<a href=\"javascript:;\" onclick=\"javascript:document.getElementById('gg5').style.display='none';\">关闭</a>\n",
       "<a href=\"/news/15_1261\"><img src=\"/App/Tpl/Home/Default/Public/Image/piao1.jpg\" width=\"200px\"/></a>\n",
       "</div> \n",
       "<!--漂浮框-->\n",
       " <!--漂浮框-->\n",
       "\n",
       "    <!--漂浮框  Image \n",
       "    --> \n",
       "    \n",
       "  <!--漂浮框-->\n",
       "<style>\n",
       "  .bnav4 { text-align:right; height:100px; overflow:hidden; width:200px; margin:0 1%; border-bottom:none; z-index:9999; position:fixed; bottom:520px; left:0; _position:absolute;_top:expression(eval(document.body.scrollTop + 50));overflow:visible; }\n",
       "  </style>\n",
       "  <script type=\"text/javascript\"> \n",
       "  var closeBN = $.cookie(\"bnav4\"); \n",
       "  if (closeBN == \"0\"){closeNav();} \n",
       "  function showNav(){ \n",
       "  $(\".openClose\").toggle(); \n",
       "  $.cookie(\"bnav4\", \"1\", {expires: 1}); \n",
       "  } \n",
       "  function closeNav(){ \n",
       "  $(\".openClose\").toggle(); \n",
       "  $.cookie(\"bnav4\", \"0\", {expires: 1}); \n",
       "  } \n",
       "  </script> \n",
       "  <div class=\"bnav4 openClose\" id=\"gg2\"> \n",
       "  <a href=\"javascript:;\" onclick=\"javascript:document.getElementById('gg2').style.display='none';\">关闭</a>\n",
       "  <img src=\"/App/Tpl/Home/Default/Public/Image/piao4.jpg\" width=\"200px\"/>\n",
       "  </div> \n",
       "  <!--漂浮框-->\n",
       "  \n",
       "  \n",
       "  \n",
       "  <!--漂浮框-->\n",
       "  <style>\n",
       "    .bnav5 { text-align:right; height:50px; overflow:hidden; width:200px; margin:0 1%; border-bottom:none; z-index:9999; position:fixed; bottom:610px; left:0; _position:absolute;_top:expression(eval(document.body.scrollTop + 50));overflow:visible; }\n",
       "    </style>\n",
       "    <script type=\"text/javascript\"> \n",
       "    var closeBN = $.cookie(\"bnav5\"); \n",
       "    if (closeBN == \"0\"){closeNav();} \n",
       "    function showNav(){ \n",
       "    $(\".openClose\").toggle(); \n",
       "    $.cookie(\"bnav5\", \"1\", {expires: 1}); \n",
       "    } \n",
       "    function closeNav(){ \n",
       "    $(\".openClose\").toggle(); \n",
       "    $.cookie(\"bnav5\", \"0\", {expires: 1}); \n",
       "    } \n",
       "    </script> \n",
       "    <div class=\"bnav5 openClose\" id=\"gg3\"> \n",
       "    <!-- <a href=\"javascript:;\" onclick=\"javascript:document.getElementById('gg3').style.display='none';\">关闭</a> -->\n",
       "    <a href=\"https://www.hnzwfw.gov.cn/portal/department/001003017002037?region=410700000000&amp;creditCode=11410700005512240G\" id=\"imghnzwfw2021\" target=\"_blank\"><img src=\"https://static.hnzwfw.gov.cn/lib/images/header-logo.png\" width=\"200px\"/></a>\n",
       "    </div> \n",
       "    <!--漂浮框-->\n",
       "  \n",
       "    <style>\n",
       "        .bnav9 { text-align:right; height:50px; overflow:hidden; width:200px; margin:0 1%; border-bottom:none; z-index:9999; position:fixed; bottom:700px; left:0; _position:absolute;_top:expression(eval(document.body.scrollTop + 50));overflow:visible; }\n",
       "   </style>\n",
       "      <script type=\"text/javascript\"> \n",
       "      var closeBN = $.cookie(\"bnav1\"); \n",
       "      if (closeBN == \"0\"){closeNav();} \n",
       "      function showNav(){ \n",
       "      $(\".openClose\").toggle(); \n",
       "      $.cookie(\"bnav9\", \"1\", {expires: 1}); \n",
       "      } \n",
       "      function closeNav(){ \n",
       "      $(\".openClose\").toggle(); \n",
       "      $.cookie(\"bnav9\", \"0\", {expires: 1}); \n",
       "      } \n",
       "      </script> \n",
       "      <div class=\"bnav9 openClose\" id=\"gg7\"> \n",
       "      <!-- <a href=\"javascript:;\" onclick=\"javascript:document.getElementById('gg7').style.display='none';\">关闭</a> -->\n",
       "      <a href=\"/news/15_1261\"><img src=\"/App/Tpl/Home/Default/Public/Image/shuiyin8.png\" width=\"200px\"/></a>\n",
       "      </div> \n",
       "  \n",
       "  <!--漂浮框-->\n",
       "  <style>\n",
       "    .bnav8 { text-align:right; height:100px; overflow:hidden; width: 200px; margin:0 1%; border-bottom:none; z-index:9999; position:fixed; bottom:360px; left:0; _position:absolute;_top:expression(eval(document.body.scrollTop + 50));overflow:visible; }\n",
       "    </style>\n",
       "    <script type=\"text/javascript\"> \n",
       "    var closeBN = $.cookie(\"bnav8\"); \n",
       "    if (closeBN == \"0\"){closeNav();} \n",
       "    function showNav(){ \n",
       "    $(\".openClose\").toggle(); \n",
       "    $.cookie(\"bnav8\", \"1\", {expires: 1}); \n",
       "    } \n",
       "    function closeNav(){ \n",
       "    $(\".openClose\").toggle(); \n",
       "    $.cookie(\"bnav8\", \"0\", {expires: 1}); \n",
       "    } \n",
       "    </script> \n",
       "    <div class=\"bnav8 openClose\" id=\"gg8\"> \n",
       "    <a href=\"javascript:;\" onclick=\"javascript:document.getElementById('gg8').style.display='none';\">关闭</a>\n",
       "    <a href=\"https://commerce.xinxiang.gov.cn/news/15_2468\"><img src=\"/App/Tpl/Home/Default/Public/Image/piao8.jpg\" width=\"200px\"/></a>\n",
       "    </div> \n",
       "    <!--漂浮框-->\n",
       "  \n",
       "  \n",
       "  \n",
       "    <!--漂浮框-->\n",
       "<!-- <style>\n",
       "  .bnav5 { text-align:right; height:200px; overflow:hidden; width:300px; margin:0 1%; border-bottom:none; z-index:9999; position:fixed; bottom:500px; right:0; _position:absolute;_top:expression(eval(document.body.scrollTop + 50));overflow:visible; }\n",
       "  </style>\n",
       "  <script type=\"text/javascript\"> \n",
       "  var closeBN = $.cookie(\"bnav5\"); \n",
       "  if (closeBN == \"0\"){closeNav();} \n",
       "  function showNav(){ \n",
       "  $(\".openClose\").toggle(); \n",
       "  $.cookie(\"bnav5\", \"1\", {expires: 1}); \n",
       "  } \n",
       "  function closeNav(){ \n",
       "  $(\".openClose\").toggle(); \n",
       "  $.cookie(\"bnav5\", \"0\", {expires: 1}); \n",
       "  } \n",
       "  </script> \n",
       "  <div class=\"bnav5 openClose\" id=\"gg1\"> \n",
       "  <a href=\"javascript:;\" onclick=\"javascript:document.getElementById('gg1').style.display='none';\">关闭</a>\n",
       "  <a href=\"http://www.ndrcc.org.cn/\" target=\"_blank\"><img src=\"/App/Tpl/Home/Default/Public/Image/piao5.jpg\" /></a>\n",
       "  </div>  -->\n",
       "  <!--漂浮框-->\n",
       "\n",
       "    <!--漂浮框-->\n",
       "<!--   <script type=\"text/javascript\" src=\"/App/Tpl/Home/Default/Public/Js/piao.js\"></script>\n",
       "    <div id=\"gg4\" style=\"width:350px;height:150px;color:yellow; text-align:right; z-index:999999\">\n",
       "     <a href=\"javascript:;\" onclick=\"javascript:document.getElementById('gg4').style.display='none';\">关闭</a><a href=\"/App/Tpl/Home/Default/Public/Image/20220106.pdf\" target=\"_blank\"><img src=\"/App/Tpl/Home/Default/Public/Image/y11.jpg\" width=\"350px\" /></a>\n",
       "    </div>\n",
       "    <script type=\"text/javascript\">\n",
       "    \n",
       "       \n",
       " var ad3=new AdMove(\"gg4\");\n",
       "        ad3.Run();\n",
       "  \n",
       "    </script> -->\n",
       "\n",
       "    <script>\n",
       "      var _hmt = _hmt || [];\n",
       "      (function() {\n",
       "        var hm = document.createElement(\"script\");\n",
       "        hm.src = \"https://hm.baidu.com/hm.js?9e89ae6213f58d87244ad1ac72254583\";\n",
       "        var s = document.getElementsByTagName(\"script\")[0]; \n",
       "        s.parentNode.insertBefore(hm, s);\n",
       "      })();\n",
       "      </script>\n",
       "\t\n",
       "\t<script language=\"JavaScript\" src=\"https://www.hnzwfw.gov.cn/gbkh/lib/tyrk/unified_entrance.js\"></script>\n",
       "\n",
       "\n",
       "<script type=\"text/javascript\">\n",
       "  var _paq = _paq || [];\n",
       "  _paq.push(['trackPageView']);\n",
       "  _paq.push(['enableLinkTracking']);\n",
       "  (function() {\n",
       "    var u=\"//tongji.qftouch.com/\";\n",
       "    _paq.push(['setTrackerUrl', u+'piwik.php']);\n",
       "    _paq.push(['setSiteId', 2827]);\n",
       "    var d=document, g=d.createElement('script'), s=d.getElementsByTagName('script')[0];\n",
       "    g.type='text/javascript'; g.async=true; g.defer=true; g.src=u+'piwik.js'; s.parentNode.insertBefore(g,s);\n",
       "  })();\n",
       "</script>\n",
       "<noscript><p><img alt=\"\" src=\"//tongji.qftouch.com/piwik.php?idsite=2827\" style=\"border:0;\"/></p></noscript>\n",
       "<!-- End qfyxb Code -->\n",
       "\n",
       "</body><!-- qfyxb --></html>"
      ]
     },
     "execution_count": 125,
     "metadata": {},
     "output_type": "execute_result"
    }
   ],
   "source": [
    "page_num = 1\n",
    "url_index = f\"https://commerce.xinxiang.gov.cn/news/15\"\n",
    "\n",
    "# 访问链接\n",
    "bs, response = get_bs(url_index)\n",
    "\n",
    "bs\n"
   ]
  },
  {
   "cell_type": "code",
   "execution_count": 131,
   "metadata": {},
   "outputs": [
    {
     "name": "stdout",
     "output_type": "stream",
     "text": [
      "10 10\n"
     ]
    }
   ],
   "source": [
    "text_list = bs.select(\".news_1nr li a\")\n",
    "time_list = bs.select(\".news_1nr li span:not([class])\")\n",
    "\n",
    "print(len(text_list), len(time_list))"
   ]
  },
  {
   "cell_type": "code",
   "execution_count": null,
   "metadata": {},
   "outputs": [],
   "source": []
  },
  {
   "cell_type": "code",
   "execution_count": 132,
   "metadata": {},
   "outputs": [
    {
     "data": {
      "text/plain": [
       "[<a href=\"/news/15_3890\" target=\"_blank\" title=\"关于开展“2024消费促进年”活动的通知\"><span class=\"newswz\">关于开展“2024消费促进年”活动的通知</span></a>,\n",
       " <a href=\"/news/15_3884\" target=\"_blank\" title=\"关于“龙腾新乡”促消费活动汽车补贴额度已达限的温馨提示\"><span class=\"newswz\">关于“龙腾新乡”促消费活动汽车补贴额度已达限的温馨提示</span></a>,\n",
       " <a href=\"/news/15_3883\" target=\"_blank\" title=\"关于“龙腾新乡”促消费活动汽车补贴额度即将达限的温馨提示\"><span class=\"newswz\">关于“龙腾新乡”促消费活动汽车补贴额度即将达限的温馨提示</span></a>,\n",
       " <a href=\"/news/15_3881\" target=\"_blank\" title=\"关于“龙腾新乡”促消费活动汽车补贴额度的温馨提示\"><span class=\"newswz\">关于“龙腾新乡”促消费活动汽车补贴额度的温馨提示</span></a>,\n",
       " <a href=\"/news/15_3877\" target=\"_blank\" title=\"关于“龙腾新乡”促消费活动家电家具补贴额度已达限的温馨提示\"><span class=\"newswz\">关于“龙腾新乡”促消费活动家电家具补贴额度已达限的温馨提示</span></a>,\n",
       " <a href=\"/news/15_3876\" target=\"_blank\" title=\"关于“龙腾新乡”促消费活动家电家具补贴额度即将达限的温馨提示\"><span class=\"newswz\">关于“龙腾新乡”促消费活动家电家具补贴额度即将达限的温馨提示</span></a>,\n",
       " <a href=\"/news/15_3873\" target=\"_blank\" title=\"关于印发《新乡市“龙腾新乡”促消费活动实施方案》的通知\"><span class=\"newswz\">关于印发《新乡市“龙腾新乡”促消费活动实施方案》的通知</span></a>,\n",
       " <a href=\"/news/15_3867\" target=\"_blank\" title=\"关于填报外商投资信息年度报告的公告\"><span class=\"newswz\">关于填报外商投资信息年度报告的公告</span></a>,\n",
       " <a href=\"/news/15_3866\" target=\"_blank\" title=\"新乡市商务局关于《支持外贸高质量发展财政金融若干措施（征求意见稿）》公开征求意见的公告\"><span class=\"newswz\">新乡市商务局关于《支持外贸高质量发展财政金融若干措施（征求意见稿）》公开征求意见的公告</span></a>,\n",
       " <a href=\"/news/15_3844\" target=\"_blank\" title=\"关于举办“龙腾新乡·元宵节”餐饮促消费活动的通知\"><span class=\"newswz\">关于举办“龙腾新乡·元宵节”餐饮促消费活动的通知</span></a>]"
      ]
     },
     "execution_count": 132,
     "metadata": {},
     "output_type": "execute_result"
    }
   ],
   "source": [
    "text_list"
   ]
  },
  {
   "cell_type": "code",
   "execution_count": 133,
   "metadata": {},
   "outputs": [
    {
     "data": {
      "text/plain": [
       "'关于开展“2024消费促进年”活动的通知'"
      ]
     },
     "execution_count": 133,
     "metadata": {},
     "output_type": "execute_result"
    }
   ],
   "source": [
    "text_list[0]['title'].strip().replace('·', '').replace('\\n', '')"
   ]
  },
  {
   "cell_type": "code",
   "execution_count": 134,
   "metadata": {},
   "outputs": [
    {
     "data": {
      "text/plain": [
       "'/news/15_3881'"
      ]
     },
     "execution_count": 134,
     "metadata": {},
     "output_type": "execute_result"
    }
   ],
   "source": [
    "text_list[3]['href']"
   ]
  },
  {
   "cell_type": "code",
   "execution_count": 135,
   "metadata": {},
   "outputs": [
    {
     "data": {
      "text/plain": [
       "[<span>2024-03-25</span>,\n",
       " <span>2024-03-14</span>,\n",
       " <span>2024-03-13</span>,\n",
       " <span>2024-03-13</span>,\n",
       " <span>2024-03-11</span>,\n",
       " <span>2024-03-11</span>,\n",
       " <span>2024-03-11</span>,\n",
       " <span>2024-03-07</span>,\n",
       " <span>2024-03-05</span>,\n",
       " <span>2024-02-22</span>]"
      ]
     },
     "execution_count": 135,
     "metadata": {},
     "output_type": "execute_result"
    }
   ],
   "source": [
    "time_list"
   ]
  },
  {
   "cell_type": "code",
   "execution_count": 136,
   "metadata": {},
   "outputs": [
    {
     "data": {
      "text/plain": [
       "'2024-03-14'"
      ]
     },
     "execution_count": 136,
     "metadata": {},
     "output_type": "execute_result"
    }
   ],
   "source": [
    "time_list[1].get_text(strip=True)"
   ]
  },
  {
   "cell_type": "code",
   "execution_count": 64,
   "metadata": {},
   "outputs": [
    {
     "ename": "TypeError",
     "evalue": "'NoneType' object is not subscriptable",
     "output_type": "error",
     "traceback": [
      "\u001b[0;31m---------------------------------------------------------------------------\u001b[0m",
      "\u001b[0;31mTypeError\u001b[0m                                 Traceback (most recent call last)",
      "Cell \u001b[0;32mIn[64], line 1\u001b[0m\n\u001b[0;32m----> 1\u001b[0m \u001b[43mbs\u001b[49m\u001b[38;5;241;43m.\u001b[39;49m\u001b[43mfind\u001b[49m\u001b[43m(\u001b[49m\u001b[38;5;124;43m'\u001b[39;49m\u001b[38;5;124;43ma\u001b[39;49m\u001b[38;5;124;43m'\u001b[39;49m\u001b[43m,\u001b[49m\u001b[43m \u001b[49m\u001b[43m{\u001b[49m\u001b[38;5;124;43m'\u001b[39;49m\u001b[38;5;124;43mclass\u001b[39;49m\u001b[38;5;124;43m'\u001b[39;49m\u001b[43m:\u001b[49m\u001b[43m \u001b[49m\u001b[38;5;124;43m'\u001b[39;49m\u001b[38;5;124;43mnext\u001b[39;49m\u001b[38;5;124;43m'\u001b[39;49m\u001b[43m}\u001b[49m\u001b[43m)\u001b[49m\u001b[43m[\u001b[49m\u001b[38;5;124;43m'\u001b[39;49m\u001b[38;5;124;43mhref\u001b[39;49m\u001b[38;5;124;43m'\u001b[39;49m\u001b[43m]\u001b[49m\n",
      "\u001b[0;31mTypeError\u001b[0m: 'NoneType' object is not subscriptable"
     ]
    }
   ],
   "source": [
    "bs.find('a', {'class': 'next'})['href']"
   ]
  },
  {
   "cell_type": "code",
   "execution_count": 27,
   "metadata": {},
   "outputs": [
    {
     "data": {
      "text/plain": [
       "'https://im.dg.gov.cn/dtxw/tzgg/content/post_4183329.html'"
      ]
     },
     "execution_count": 27,
     "metadata": {},
     "output_type": "execute_result"
    }
   ],
   "source": [
    "time_list[0].find('a').get('href')"
   ]
  },
  {
   "cell_type": "code",
   "execution_count": 28,
   "metadata": {},
   "outputs": [
    {
     "data": {
      "text/plain": [
       "<a class=\"next\" href=\"https://im.dg.gov.cn/dtxw/tzgg/index_2.html\" id=\"next\">\n",
       "                                    下一页\n",
       "                                </a>"
      ]
     },
     "execution_count": 28,
     "metadata": {},
     "output_type": "execute_result"
    }
   ],
   "source": [
    "bs.find('a', {'class': 'next'})"
   ]
  },
  {
   "cell_type": "code",
   "execution_count": null,
   "metadata": {},
   "outputs": [],
   "source": []
  }
 ],
 "metadata": {
  "kernelspec": {
   "display_name": "spider",
   "language": "python",
   "name": "python3"
  },
  "language_info": {
   "codemirror_mode": {
    "name": "ipython",
    "version": 3
   },
   "file_extension": ".py",
   "mimetype": "text/x-python",
   "name": "python",
   "nbconvert_exporter": "python",
   "pygments_lexer": "ipython3",
   "version": "3.10.14"
  }
 },
 "nbformat": 4,
 "nbformat_minor": 2
}
